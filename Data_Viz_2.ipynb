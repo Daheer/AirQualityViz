{
  "nbformat": 4,
  "nbformat_minor": 0,
  "metadata": {
    "colab": {
      "name": "Data Viz 2",
      "provenance": [],
      "collapsed_sections": [],
      "include_colab_link": true
    },
    "kernelspec": {
      "name": "python3",
      "display_name": "Python 3"
    },
    "language_info": {
      "name": "python"
    },
    "accelerator": "GPU"
  },
  "cells": [
    {
      "cell_type": "markdown",
      "metadata": {
        "id": "view-in-github",
        "colab_type": "text"
      },
      "source": [
        "<a href=\"https://colab.research.google.com/github/gideononyewuenyi/AirQualityViz/blob/main/Data_Viz_2.ipynb\" target=\"_parent\"><img src=\"https://colab.research.google.com/assets/colab-badge.svg\" alt=\"Open In Colab\"/></a>"
      ]
    },
    {
      "cell_type": "markdown",
      "metadata": {
        "id": "Otbl7NQ70cQ7"
      },
      "source": [
        "**Air quality in Lagos**"
      ]
    },
    {
      "cell_type": "markdown",
      "metadata": {
        "id": "YQyiXbtdwae1"
      },
      "source": [
        "In this notebook, we will explore a dataset of air quality obtained from the Purpleair sensor in Lagos that took readings every 30min from 12/2019 until it stopped reporting back in 6/2021"
      ]
    },
    {
      "cell_type": "markdown",
      "metadata": {
        "id": "qB97eJn07IZK"
      },
      "source": [
        "Description of some features:\n",
        "\n",
        "1. PM 1.0 - Ambient suspended particulate matter,  the mass concentration of ambient suspended particulate matter (PM) of an aerodynamic diameter of less than 1 micrometer.\n",
        "\n",
        "2. PM 2.5  - Fine particulate matter, an air pollutant that is a concern for people's health when levels in air are high. PM2.5 are tiny particles in the air that reduce visibility and cause the air to appear hazy when levels are elevated\n",
        "\n",
        "3. PM 10 - particulate matter in the air with a diameter of 10 micrometers or less, including smoke, dust, soot, salts, acids, and metals. Particulate matter can also be formed indirectly when gases emitted from motor vehicles and industries undergo chemical reactions in the atmosphere.\n",
        "\n",
        "Note that: CF=1 is applicable for a standard environment (indoors / chamber) while the CF=ATM is applicable under atmospheric environment (outdoors / am202bient).\n",
        "\n",
        "Particulate matter is the sum of all solid and liquid particles suspended in air many of which are hazardous. This complex mixture includes both organic and inorganic particles, such as dust, pollen, soot, smoke, and liquid droplets.\n",
        "\n",
        "\n",
        "4. RSSI_dbm - This is referred to the signal strength of Wifi\n",
        "\n",
        "5. Temperature - The degree of hotness or coldness measured on a definite scale.\n",
        "\n",
        "6. Humidity - Humidity is the amount of water vapor in the air. If there is a lot of water vapor in the air, the humidity will be high and vice versa\n",
        "\n",
        "7. Uptime - The time during which the sensor is in operation."
      ]
    },
    {
      "cell_type": "code",
      "metadata": {
        "id": "rFBRgwp9n4vE"
      },
      "source": [
        "import numpy as np\n",
        "import pandas as pd\n",
        "import matplotlib.pyplot as plt\n",
        "from datetime import datetime\n",
        "import seaborn as sns\n",
        "from datetime import datetime\n",
        "sns.set_theme(style=\"whitegrid\")\n",
        "sns.set_palette('bright')\n",
        "%matplotlib inline\n",
        "\n",
        "import warnings\n",
        "warnings.filterwarnings(\"ignore\")"
      ],
      "execution_count": 249,
      "outputs": []
    },
    {
      "cell_type": "code",
      "metadata": {
        "id": "KP9zX-BUoTYa"
      },
      "source": [
        "url = \"https://raw.githubusercontent.com/gideononyewuenyi/Exploratory-analysis/main/Lekki%20Phase%201%20(outside)%20(6.451397%203.471201)%20Primary%2030_minute_average%2012_17_2019%206_6_2021.csv\"\n",
        "df = pd.read_csv (url)"
      ],
      "execution_count": 250,
      "outputs": []
    },
    {
      "cell_type": "code",
      "metadata": {
        "colab": {
          "base_uri": "https://localhost:8080/",
          "height": 204
        },
        "id": "gn6s-ciOGMXs",
        "outputId": "2e4f3927-b693-49ba-c8c2-0126d5b56fa1"
      },
      "source": [
        "df.sample(5)"
      ],
      "execution_count": 251,
      "outputs": [
        {
          "output_type": "execute_result",
          "data": {
            "text/html": [
              "<div>\n",
              "<style scoped>\n",
              "    .dataframe tbody tr th:only-of-type {\n",
              "        vertical-align: middle;\n",
              "    }\n",
              "\n",
              "    .dataframe tbody tr th {\n",
              "        vertical-align: top;\n",
              "    }\n",
              "\n",
              "    .dataframe thead th {\n",
              "        text-align: right;\n",
              "    }\n",
              "</style>\n",
              "<table border=\"1\" class=\"dataframe\">\n",
              "  <thead>\n",
              "    <tr style=\"text-align: right;\">\n",
              "      <th></th>\n",
              "      <th>created_at</th>\n",
              "      <th>PM1.0_CF1_ug/m3</th>\n",
              "      <th>PM2.5_CF1_ug/m3</th>\n",
              "      <th>PM10.0_CF1_ug/m3</th>\n",
              "      <th>UptimeMinutes</th>\n",
              "      <th>RSSI_dbm</th>\n",
              "      <th>Temperature_F</th>\n",
              "      <th>Humidity_%</th>\n",
              "      <th>PM2.5_ATM_ug/m3</th>\n",
              "      <th>Unnamed: 9</th>\n",
              "    </tr>\n",
              "  </thead>\n",
              "  <tbody>\n",
              "    <tr>\n",
              "      <th>31318</th>\n",
              "      <td>2021-03-21 06:30:00 UTC</td>\n",
              "      <td>0.89</td>\n",
              "      <td>1.45</td>\n",
              "      <td>1.63</td>\n",
              "      <td>2598.00</td>\n",
              "      <td>-72.00</td>\n",
              "      <td>65.00</td>\n",
              "      <td>21.13</td>\n",
              "      <td>1.45</td>\n",
              "      <td>NaN</td>\n",
              "    </tr>\n",
              "    <tr>\n",
              "      <th>37368</th>\n",
              "      <td>2021-06-03 13:30:00 UTC</td>\n",
              "      <td>4.18</td>\n",
              "      <td>5.45</td>\n",
              "      <td>5.79</td>\n",
              "      <td>69.73</td>\n",
              "      <td>-77.13</td>\n",
              "      <td>96.07</td>\n",
              "      <td>46.00</td>\n",
              "      <td>5.45</td>\n",
              "      <td>NaN</td>\n",
              "    </tr>\n",
              "    <tr>\n",
              "      <th>2927</th>\n",
              "      <td>2020-02-28 06:00:00 UTC</td>\n",
              "      <td>19.11</td>\n",
              "      <td>24.63</td>\n",
              "      <td>25.42</td>\n",
              "      <td>71568.00</td>\n",
              "      <td>-54.93</td>\n",
              "      <td>79.00</td>\n",
              "      <td>17.00</td>\n",
              "      <td>24.59</td>\n",
              "      <td>NaN</td>\n",
              "    </tr>\n",
              "    <tr>\n",
              "      <th>22939</th>\n",
              "      <td>2020-10-18 17:00:00 UTC</td>\n",
              "      <td>6.65</td>\n",
              "      <td>9.13</td>\n",
              "      <td>9.60</td>\n",
              "      <td>69953.00</td>\n",
              "      <td>-75.67</td>\n",
              "      <td>74.00</td>\n",
              "      <td>32.00</td>\n",
              "      <td>9.13</td>\n",
              "      <td>NaN</td>\n",
              "    </tr>\n",
              "    <tr>\n",
              "      <th>16129</th>\n",
              "      <td>2020-07-27 02:00:00 UTC</td>\n",
              "      <td>7.69</td>\n",
              "      <td>10.64</td>\n",
              "      <td>11.35</td>\n",
              "      <td>38088.00</td>\n",
              "      <td>-60.20</td>\n",
              "      <td>83.33</td>\n",
              "      <td>32.80</td>\n",
              "      <td>10.64</td>\n",
              "      <td>NaN</td>\n",
              "    </tr>\n",
              "  </tbody>\n",
              "</table>\n",
              "</div>"
            ],
            "text/plain": [
              "                    created_at  PM1.0_CF1_ug/m3  ...  PM2.5_ATM_ug/m3  Unnamed: 9\n",
              "31318  2021-03-21 06:30:00 UTC             0.89  ...             1.45         NaN\n",
              "37368  2021-06-03 13:30:00 UTC             4.18  ...             5.45         NaN\n",
              "2927   2020-02-28 06:00:00 UTC            19.11  ...            24.59         NaN\n",
              "22939  2020-10-18 17:00:00 UTC             6.65  ...             9.13         NaN\n",
              "16129  2020-07-27 02:00:00 UTC             7.69  ...            10.64         NaN\n",
              "\n",
              "[5 rows x 10 columns]"
            ]
          },
          "metadata": {
            "tags": []
          },
          "execution_count": 251
        }
      ]
    },
    {
      "cell_type": "code",
      "metadata": {
        "colab": {
          "base_uri": "https://localhost:8080/",
          "height": 297
        },
        "id": "IMeg93xptTu3",
        "outputId": "eb98277f-61c9-49b5-b881-99c40b4e9c86"
      },
      "source": [
        "df.describe()"
      ],
      "execution_count": 252,
      "outputs": [
        {
          "output_type": "execute_result",
          "data": {
            "text/html": [
              "<div>\n",
              "<style scoped>\n",
              "    .dataframe tbody tr th:only-of-type {\n",
              "        vertical-align: middle;\n",
              "    }\n",
              "\n",
              "    .dataframe tbody tr th {\n",
              "        vertical-align: top;\n",
              "    }\n",
              "\n",
              "    .dataframe thead th {\n",
              "        text-align: right;\n",
              "    }\n",
              "</style>\n",
              "<table border=\"1\" class=\"dataframe\">\n",
              "  <thead>\n",
              "    <tr style=\"text-align: right;\">\n",
              "      <th></th>\n",
              "      <th>PM1.0_CF1_ug/m3</th>\n",
              "      <th>PM2.5_CF1_ug/m3</th>\n",
              "      <th>PM10.0_CF1_ug/m3</th>\n",
              "      <th>UptimeMinutes</th>\n",
              "      <th>RSSI_dbm</th>\n",
              "      <th>Temperature_F</th>\n",
              "      <th>Humidity_%</th>\n",
              "      <th>PM2.5_ATM_ug/m3</th>\n",
              "      <th>Unnamed: 9</th>\n",
              "    </tr>\n",
              "  </thead>\n",
              "  <tbody>\n",
              "    <tr>\n",
              "      <th>count</th>\n",
              "      <td>37538.000000</td>\n",
              "      <td>37538.000000</td>\n",
              "      <td>37538.000000</td>\n",
              "      <td>37538.000000</td>\n",
              "      <td>37538.000000</td>\n",
              "      <td>37538.000000</td>\n",
              "      <td>37538.000000</td>\n",
              "      <td>37538.000000</td>\n",
              "      <td>0.0</td>\n",
              "    </tr>\n",
              "    <tr>\n",
              "      <th>mean</th>\n",
              "      <td>6.007100</td>\n",
              "      <td>8.584424</td>\n",
              "      <td>9.092260</td>\n",
              "      <td>22233.899164</td>\n",
              "      <td>-66.844293</td>\n",
              "      <td>78.717398</td>\n",
              "      <td>31.854816</td>\n",
              "      <td>7.991469</td>\n",
              "      <td>NaN</td>\n",
              "    </tr>\n",
              "    <tr>\n",
              "      <th>std</th>\n",
              "      <td>10.415071</td>\n",
              "      <td>16.605593</td>\n",
              "      <td>18.286916</td>\n",
              "      <td>18422.876237</td>\n",
              "      <td>8.783105</td>\n",
              "      <td>6.350175</td>\n",
              "      <td>12.522367</td>\n",
              "      <td>12.175910</td>\n",
              "      <td>NaN</td>\n",
              "    </tr>\n",
              "    <tr>\n",
              "      <th>min</th>\n",
              "      <td>0.000000</td>\n",
              "      <td>0.000000</td>\n",
              "      <td>0.000000</td>\n",
              "      <td>2.000000</td>\n",
              "      <td>-87.000000</td>\n",
              "      <td>52.200000</td>\n",
              "      <td>10.000000</td>\n",
              "      <td>0.000000</td>\n",
              "      <td>NaN</td>\n",
              "    </tr>\n",
              "    <tr>\n",
              "      <th>25%</th>\n",
              "      <td>1.470000</td>\n",
              "      <td>2.120000</td>\n",
              "      <td>2.280000</td>\n",
              "      <td>6348.000000</td>\n",
              "      <td>-74.200000</td>\n",
              "      <td>73.930000</td>\n",
              "      <td>22.000000</td>\n",
              "      <td>2.120000</td>\n",
              "      <td>NaN</td>\n",
              "    </tr>\n",
              "    <tr>\n",
              "      <th>50%</th>\n",
              "      <td>3.470000</td>\n",
              "      <td>4.750000</td>\n",
              "      <td>5.030000</td>\n",
              "      <td>18293.000000</td>\n",
              "      <td>-69.930000</td>\n",
              "      <td>79.000000</td>\n",
              "      <td>30.000000</td>\n",
              "      <td>4.750000</td>\n",
              "      <td>NaN</td>\n",
              "    </tr>\n",
              "    <tr>\n",
              "      <th>75%</th>\n",
              "      <td>6.990000</td>\n",
              "      <td>9.580000</td>\n",
              "      <td>10.037500</td>\n",
              "      <td>34524.000000</td>\n",
              "      <td>-58.330000</td>\n",
              "      <td>83.000000</td>\n",
              "      <td>40.530000</td>\n",
              "      <td>9.570000</td>\n",
              "      <td>NaN</td>\n",
              "    </tr>\n",
              "    <tr>\n",
              "      <th>max</th>\n",
              "      <td>360.400000</td>\n",
              "      <td>737.140000</td>\n",
              "      <td>848.470000</td>\n",
              "      <td>71568.000000</td>\n",
              "      <td>-52.600000</td>\n",
              "      <td>105.270000</td>\n",
              "      <td>84.730000</td>\n",
              "      <td>490.740000</td>\n",
              "      <td>NaN</td>\n",
              "    </tr>\n",
              "  </tbody>\n",
              "</table>\n",
              "</div>"
            ],
            "text/plain": [
              "       PM1.0_CF1_ug/m3  PM2.5_CF1_ug/m3  ...  PM2.5_ATM_ug/m3  Unnamed: 9\n",
              "count     37538.000000     37538.000000  ...     37538.000000         0.0\n",
              "mean          6.007100         8.584424  ...         7.991469         NaN\n",
              "std          10.415071        16.605593  ...        12.175910         NaN\n",
              "min           0.000000         0.000000  ...         0.000000         NaN\n",
              "25%           1.470000         2.120000  ...         2.120000         NaN\n",
              "50%           3.470000         4.750000  ...         4.750000         NaN\n",
              "75%           6.990000         9.580000  ...         9.570000         NaN\n",
              "max         360.400000       737.140000  ...       490.740000         NaN\n",
              "\n",
              "[8 rows x 9 columns]"
            ]
          },
          "metadata": {
            "tags": []
          },
          "execution_count": 252
        }
      ]
    },
    {
      "cell_type": "code",
      "metadata": {
        "id": "D6c87ncCtgjO",
        "colab": {
          "base_uri": "https://localhost:8080/"
        },
        "outputId": "367845dd-287a-4e03-9751-27ab58eb361c"
      },
      "source": [
        "df.shape"
      ],
      "execution_count": 253,
      "outputs": [
        {
          "output_type": "execute_result",
          "data": {
            "text/plain": [
              "(37595, 10)"
            ]
          },
          "metadata": {
            "tags": []
          },
          "execution_count": 253
        }
      ]
    },
    {
      "cell_type": "code",
      "metadata": {
        "colab": {
          "base_uri": "https://localhost:8080/"
        },
        "id": "1Z6GMH8e7Pw5",
        "outputId": "2cceac49-d63c-4dfe-b62d-af199dbfe5f3"
      },
      "source": [
        "df.columns"
      ],
      "execution_count": 254,
      "outputs": [
        {
          "output_type": "execute_result",
          "data": {
            "text/plain": [
              "Index(['created_at', 'PM1.0_CF1_ug/m3', 'PM2.5_CF1_ug/m3', 'PM10.0_CF1_ug/m3',\n",
              "       'UptimeMinutes', 'RSSI_dbm', 'Temperature_F', 'Humidity_%',\n",
              "       'PM2.5_ATM_ug/m3', 'Unnamed: 9'],\n",
              "      dtype='object')"
            ]
          },
          "metadata": {
            "tags": []
          },
          "execution_count": 254
        }
      ]
    },
    {
      "cell_type": "code",
      "metadata": {
        "colab": {
          "base_uri": "https://localhost:8080/"
        },
        "id": "E3iulhU47YFn",
        "outputId": "a25c3c91-7a3d-49d8-dc98-ba4d665fc559"
      },
      "source": [
        "df.dtypes"
      ],
      "execution_count": 255,
      "outputs": [
        {
          "output_type": "execute_result",
          "data": {
            "text/plain": [
              "created_at           object\n",
              "PM1.0_CF1_ug/m3     float64\n",
              "PM2.5_CF1_ug/m3     float64\n",
              "PM10.0_CF1_ug/m3    float64\n",
              "UptimeMinutes       float64\n",
              "RSSI_dbm            float64\n",
              "Temperature_F       float64\n",
              "Humidity_%          float64\n",
              "PM2.5_ATM_ug/m3     float64\n",
              "Unnamed: 9          float64\n",
              "dtype: object"
            ]
          },
          "metadata": {
            "tags": []
          },
          "execution_count": 255
        }
      ]
    },
    {
      "cell_type": "code",
      "metadata": {
        "colab": {
          "base_uri": "https://localhost:8080/"
        },
        "id": "kJxd-8897lsB",
        "outputId": "034f6478-9419-4e91-b780-89f60b29c94a"
      },
      "source": [
        "df.isnull().sum()"
      ],
      "execution_count": 256,
      "outputs": [
        {
          "output_type": "execute_result",
          "data": {
            "text/plain": [
              "created_at              0\n",
              "PM1.0_CF1_ug/m3        57\n",
              "PM2.5_CF1_ug/m3        57\n",
              "PM10.0_CF1_ug/m3       57\n",
              "UptimeMinutes          57\n",
              "RSSI_dbm               57\n",
              "Temperature_F          57\n",
              "Humidity_%             57\n",
              "PM2.5_ATM_ug/m3        57\n",
              "Unnamed: 9          37595\n",
              "dtype: int64"
            ]
          },
          "metadata": {
            "tags": []
          },
          "execution_count": 256
        }
      ]
    },
    {
      "cell_type": "code",
      "metadata": {
        "colab": {
          "base_uri": "https://localhost:8080/"
        },
        "id": "zPrGK9FG8HRl",
        "outputId": "9defaea7-0319-4f61-ccab-6dd94fddc93a"
      },
      "source": [
        "df.isnull().sum().sum()"
      ],
      "execution_count": 257,
      "outputs": [
        {
          "output_type": "execute_result",
          "data": {
            "text/plain": [
              "38051"
            ]
          },
          "metadata": {
            "tags": []
          },
          "execution_count": 257
        }
      ]
    },
    {
      "cell_type": "code",
      "metadata": {
        "id": "KjMAURFp8zhv"
      },
      "source": [
        "new_df=df.drop(columns = ['Unnamed: 9'])"
      ],
      "execution_count": 258,
      "outputs": []
    },
    {
      "cell_type": "code",
      "metadata": {
        "colab": {
          "base_uri": "https://localhost:8080/"
        },
        "id": "VAM43cNP9beC",
        "outputId": "7c1dc6fa-112d-41fd-c25f-ff74955077b3"
      },
      "source": [
        "new_df.columns"
      ],
      "execution_count": 259,
      "outputs": [
        {
          "output_type": "execute_result",
          "data": {
            "text/plain": [
              "Index(['created_at', 'PM1.0_CF1_ug/m3', 'PM2.5_CF1_ug/m3', 'PM10.0_CF1_ug/m3',\n",
              "       'UptimeMinutes', 'RSSI_dbm', 'Temperature_F', 'Humidity_%',\n",
              "       'PM2.5_ATM_ug/m3'],\n",
              "      dtype='object')"
            ]
          },
          "metadata": {
            "tags": []
          },
          "execution_count": 259
        }
      ]
    },
    {
      "cell_type": "code",
      "metadata": {
        "colab": {
          "base_uri": "https://localhost:8080/"
        },
        "id": "6BOtqUPS-HhL",
        "outputId": "f55acbf9-0a69-4df1-dabb-6679aaaa2b29"
      },
      "source": [
        "new_df.isnull().sum()"
      ],
      "execution_count": 260,
      "outputs": [
        {
          "output_type": "execute_result",
          "data": {
            "text/plain": [
              "created_at           0\n",
              "PM1.0_CF1_ug/m3     57\n",
              "PM2.5_CF1_ug/m3     57\n",
              "PM10.0_CF1_ug/m3    57\n",
              "UptimeMinutes       57\n",
              "RSSI_dbm            57\n",
              "Temperature_F       57\n",
              "Humidity_%          57\n",
              "PM2.5_ATM_ug/m3     57\n",
              "dtype: int64"
            ]
          },
          "metadata": {
            "tags": []
          },
          "execution_count": 260
        }
      ]
    },
    {
      "cell_type": "code",
      "metadata": {
        "colab": {
          "base_uri": "https://localhost:8080/"
        },
        "id": "8BXSjAh8_FmC",
        "outputId": "047165a6-370d-4c7b-e0e6-f4c8e83cf896"
      },
      "source": [
        "new_df.isnull().sum().sum()"
      ],
      "execution_count": 261,
      "outputs": [
        {
          "output_type": "execute_result",
          "data": {
            "text/plain": [
              "456"
            ]
          },
          "metadata": {
            "tags": []
          },
          "execution_count": 261
        }
      ]
    },
    {
      "cell_type": "code",
      "metadata": {
        "colab": {
          "base_uri": "https://localhost:8080/"
        },
        "id": "kQSR0-lE-28-",
        "outputId": "e53825ff-df87-4f4a-af01-38487f887439"
      },
      "source": [
        "new_df.shape"
      ],
      "execution_count": 262,
      "outputs": [
        {
          "output_type": "execute_result",
          "data": {
            "text/plain": [
              "(37595, 9)"
            ]
          },
          "metadata": {
            "tags": []
          },
          "execution_count": 262
        }
      ]
    },
    {
      "cell_type": "code",
      "metadata": {
        "id": "IA2inO6D-SWD"
      },
      "source": [
        "new_df_drop = new_df.dropna()"
      ],
      "execution_count": 263,
      "outputs": []
    },
    {
      "cell_type": "code",
      "metadata": {
        "colab": {
          "base_uri": "https://localhost:8080/"
        },
        "id": "XhZB3qPs_VXf",
        "outputId": "ae2e7e55-94e8-442a-880f-1b11b987da92"
      },
      "source": [
        "new_df_drop.shape"
      ],
      "execution_count": 264,
      "outputs": [
        {
          "output_type": "execute_result",
          "data": {
            "text/plain": [
              "(37538, 9)"
            ]
          },
          "metadata": {
            "tags": []
          },
          "execution_count": 264
        }
      ]
    },
    {
      "cell_type": "code",
      "metadata": {
        "colab": {
          "base_uri": "https://localhost:8080/"
        },
        "id": "VgjUtDmy_hC1",
        "outputId": "3a09c40f-463f-4520-c7ff-6cda900b3119"
      },
      "source": [
        "new_df_drop.isnull().sum()"
      ],
      "execution_count": 265,
      "outputs": [
        {
          "output_type": "execute_result",
          "data": {
            "text/plain": [
              "created_at          0\n",
              "PM1.0_CF1_ug/m3     0\n",
              "PM2.5_CF1_ug/m3     0\n",
              "PM10.0_CF1_ug/m3    0\n",
              "UptimeMinutes       0\n",
              "RSSI_dbm            0\n",
              "Temperature_F       0\n",
              "Humidity_%          0\n",
              "PM2.5_ATM_ug/m3     0\n",
              "dtype: int64"
            ]
          },
          "metadata": {
            "tags": []
          },
          "execution_count": 265
        }
      ]
    },
    {
      "cell_type": "code",
      "metadata": {
        "id": "7L8XBh1L_pBG"
      },
      "source": [
        "new_df_ffill = new_df.fillna(method='ffill')"
      ],
      "execution_count": 266,
      "outputs": []
    },
    {
      "cell_type": "code",
      "metadata": {
        "id": "XXJ8hWByAc9S"
      },
      "source": [
        "new_df_bfill = new_df.fillna(method='bfill')"
      ],
      "execution_count": 267,
      "outputs": []
    },
    {
      "cell_type": "code",
      "metadata": {
        "colab": {
          "base_uri": "https://localhost:8080/"
        },
        "id": "JLvCnaoQAt6i",
        "outputId": "3e3449be-40fc-4028-cb3d-fee5318d31b8"
      },
      "source": [
        "new_df_ffill.shape"
      ],
      "execution_count": 268,
      "outputs": [
        {
          "output_type": "execute_result",
          "data": {
            "text/plain": [
              "(37595, 9)"
            ]
          },
          "metadata": {
            "tags": []
          },
          "execution_count": 268
        }
      ]
    },
    {
      "cell_type": "code",
      "metadata": {
        "colab": {
          "base_uri": "https://localhost:8080/"
        },
        "id": "VKUtbSnjAxky",
        "outputId": "826894fe-e3ca-411d-901e-652d10d40a1c"
      },
      "source": [
        "new_df_bfill.shape"
      ],
      "execution_count": 269,
      "outputs": [
        {
          "output_type": "execute_result",
          "data": {
            "text/plain": [
              "(37595, 9)"
            ]
          },
          "metadata": {
            "tags": []
          },
          "execution_count": 269
        }
      ]
    },
    {
      "cell_type": "code",
      "metadata": {
        "colab": {
          "base_uri": "https://localhost:8080/"
        },
        "id": "zCYgdCynA0ys",
        "outputId": "cbac33fb-b817-448e-e191-e134d32a6378"
      },
      "source": [
        "new_df_drop.shape"
      ],
      "execution_count": 270,
      "outputs": [
        {
          "output_type": "execute_result",
          "data": {
            "text/plain": [
              "(37538, 9)"
            ]
          },
          "metadata": {
            "tags": []
          },
          "execution_count": 270
        }
      ]
    },
    {
      "cell_type": "code",
      "metadata": {
        "id": "5dt7ZHyZA3rP",
        "colab": {
          "base_uri": "https://localhost:8080/",
          "height": 204
        },
        "outputId": "47be4f7e-1a37-4eb0-9457-3a50478a4960"
      },
      "source": [
        "new_df_ffill.head()"
      ],
      "execution_count": 271,
      "outputs": [
        {
          "output_type": "execute_result",
          "data": {
            "text/html": [
              "<div>\n",
              "<style scoped>\n",
              "    .dataframe tbody tr th:only-of-type {\n",
              "        vertical-align: middle;\n",
              "    }\n",
              "\n",
              "    .dataframe tbody tr th {\n",
              "        vertical-align: top;\n",
              "    }\n",
              "\n",
              "    .dataframe thead th {\n",
              "        text-align: right;\n",
              "    }\n",
              "</style>\n",
              "<table border=\"1\" class=\"dataframe\">\n",
              "  <thead>\n",
              "    <tr style=\"text-align: right;\">\n",
              "      <th></th>\n",
              "      <th>created_at</th>\n",
              "      <th>PM1.0_CF1_ug/m3</th>\n",
              "      <th>PM2.5_CF1_ug/m3</th>\n",
              "      <th>PM10.0_CF1_ug/m3</th>\n",
              "      <th>UptimeMinutes</th>\n",
              "      <th>RSSI_dbm</th>\n",
              "      <th>Temperature_F</th>\n",
              "      <th>Humidity_%</th>\n",
              "      <th>PM2.5_ATM_ug/m3</th>\n",
              "    </tr>\n",
              "  </thead>\n",
              "  <tbody>\n",
              "    <tr>\n",
              "      <th>0</th>\n",
              "      <td>2019-12-17 20:00:00 UTC</td>\n",
              "      <td>1.99</td>\n",
              "      <td>3.05</td>\n",
              "      <td>3.27</td>\n",
              "      <td>3.25</td>\n",
              "      <td>-53.75</td>\n",
              "      <td>72.50</td>\n",
              "      <td>16.50</td>\n",
              "      <td>3.05</td>\n",
              "    </tr>\n",
              "    <tr>\n",
              "      <th>1</th>\n",
              "      <td>2019-12-17 20:30:00 UTC</td>\n",
              "      <td>1.89</td>\n",
              "      <td>2.80</td>\n",
              "      <td>3.09</td>\n",
              "      <td>11.19</td>\n",
              "      <td>-53.69</td>\n",
              "      <td>73.88</td>\n",
              "      <td>15.12</td>\n",
              "      <td>2.80</td>\n",
              "    </tr>\n",
              "    <tr>\n",
              "      <th>2</th>\n",
              "      <td>2019-12-17 21:00:00 UTC</td>\n",
              "      <td>34.62</td>\n",
              "      <td>93.43</td>\n",
              "      <td>141.47</td>\n",
              "      <td>38.00</td>\n",
              "      <td>-53.87</td>\n",
              "      <td>74.07</td>\n",
              "      <td>15.40</td>\n",
              "      <td>63.67</td>\n",
              "    </tr>\n",
              "    <tr>\n",
              "      <th>3</th>\n",
              "      <td>2019-12-17 21:30:00 UTC</td>\n",
              "      <td>0.89</td>\n",
              "      <td>2.59</td>\n",
              "      <td>3.58</td>\n",
              "      <td>68.00</td>\n",
              "      <td>-55.47</td>\n",
              "      <td>76.53</td>\n",
              "      <td>15.00</td>\n",
              "      <td>2.59</td>\n",
              "    </tr>\n",
              "    <tr>\n",
              "      <th>4</th>\n",
              "      <td>2019-12-17 22:00:00 UTC</td>\n",
              "      <td>0.00</td>\n",
              "      <td>0.00</td>\n",
              "      <td>0.01</td>\n",
              "      <td>98.00</td>\n",
              "      <td>-54.60</td>\n",
              "      <td>77.00</td>\n",
              "      <td>14.87</td>\n",
              "      <td>0.00</td>\n",
              "    </tr>\n",
              "  </tbody>\n",
              "</table>\n",
              "</div>"
            ],
            "text/plain": [
              "                created_at  PM1.0_CF1_ug/m3  ...  Humidity_%  PM2.5_ATM_ug/m3\n",
              "0  2019-12-17 20:00:00 UTC             1.99  ...       16.50             3.05\n",
              "1  2019-12-17 20:30:00 UTC             1.89  ...       15.12             2.80\n",
              "2  2019-12-17 21:00:00 UTC            34.62  ...       15.40            63.67\n",
              "3  2019-12-17 21:30:00 UTC             0.89  ...       15.00             2.59\n",
              "4  2019-12-17 22:00:00 UTC             0.00  ...       14.87             0.00\n",
              "\n",
              "[5 rows x 9 columns]"
            ]
          },
          "metadata": {
            "tags": []
          },
          "execution_count": 271
        }
      ]
    },
    {
      "cell_type": "code",
      "metadata": {
        "colab": {
          "base_uri": "https://localhost:8080/",
          "height": 204
        },
        "id": "C2nl9q0aAVG4",
        "outputId": "97740a31-a03e-42a1-8646-8af41b5e4d19"
      },
      "source": [
        "new_df_ffill.tail()"
      ],
      "execution_count": 272,
      "outputs": [
        {
          "output_type": "execute_result",
          "data": {
            "text/html": [
              "<div>\n",
              "<style scoped>\n",
              "    .dataframe tbody tr th:only-of-type {\n",
              "        vertical-align: middle;\n",
              "    }\n",
              "\n",
              "    .dataframe tbody tr th {\n",
              "        vertical-align: top;\n",
              "    }\n",
              "\n",
              "    .dataframe thead th {\n",
              "        text-align: right;\n",
              "    }\n",
              "</style>\n",
              "<table border=\"1\" class=\"dataframe\">\n",
              "  <thead>\n",
              "    <tr style=\"text-align: right;\">\n",
              "      <th></th>\n",
              "      <th>created_at</th>\n",
              "      <th>PM1.0_CF1_ug/m3</th>\n",
              "      <th>PM2.5_CF1_ug/m3</th>\n",
              "      <th>PM10.0_CF1_ug/m3</th>\n",
              "      <th>UptimeMinutes</th>\n",
              "      <th>RSSI_dbm</th>\n",
              "      <th>Temperature_F</th>\n",
              "      <th>Humidity_%</th>\n",
              "      <th>PM2.5_ATM_ug/m3</th>\n",
              "    </tr>\n",
              "  </thead>\n",
              "  <tbody>\n",
              "    <tr>\n",
              "      <th>37590</th>\n",
              "      <td>2021-06-06 06:00:00 UTC</td>\n",
              "      <td>40.47</td>\n",
              "      <td>56.64</td>\n",
              "      <td>59.53</td>\n",
              "      <td>798.0</td>\n",
              "      <td>-77.33</td>\n",
              "      <td>86.00</td>\n",
              "      <td>64.00</td>\n",
              "      <td>44.06</td>\n",
              "    </tr>\n",
              "    <tr>\n",
              "      <th>37591</th>\n",
              "      <td>2021-06-06 06:30:00 UTC</td>\n",
              "      <td>40.47</td>\n",
              "      <td>56.64</td>\n",
              "      <td>59.53</td>\n",
              "      <td>798.0</td>\n",
              "      <td>-77.33</td>\n",
              "      <td>86.00</td>\n",
              "      <td>64.00</td>\n",
              "      <td>44.06</td>\n",
              "    </tr>\n",
              "    <tr>\n",
              "      <th>37592</th>\n",
              "      <td>2021-06-06 07:00:00 UTC</td>\n",
              "      <td>26.22</td>\n",
              "      <td>37.35</td>\n",
              "      <td>39.07</td>\n",
              "      <td>962.0</td>\n",
              "      <td>-82.31</td>\n",
              "      <td>88.38</td>\n",
              "      <td>62.62</td>\n",
              "      <td>34.06</td>\n",
              "    </tr>\n",
              "    <tr>\n",
              "      <th>37593</th>\n",
              "      <td>2021-06-06 07:30:00 UTC</td>\n",
              "      <td>23.22</td>\n",
              "      <td>33.16</td>\n",
              "      <td>34.51</td>\n",
              "      <td>990.0</td>\n",
              "      <td>-75.20</td>\n",
              "      <td>89.73</td>\n",
              "      <td>57.33</td>\n",
              "      <td>31.54</td>\n",
              "    </tr>\n",
              "    <tr>\n",
              "      <th>37594</th>\n",
              "      <td>2021-06-06 08:00:00 UTC</td>\n",
              "      <td>23.23</td>\n",
              "      <td>32.86</td>\n",
              "      <td>33.53</td>\n",
              "      <td>1008.0</td>\n",
              "      <td>-75.67</td>\n",
              "      <td>91.00</td>\n",
              "      <td>55.33</td>\n",
              "      <td>31.37</td>\n",
              "    </tr>\n",
              "  </tbody>\n",
              "</table>\n",
              "</div>"
            ],
            "text/plain": [
              "                    created_at  PM1.0_CF1_ug/m3  ...  Humidity_%  PM2.5_ATM_ug/m3\n",
              "37590  2021-06-06 06:00:00 UTC            40.47  ...       64.00            44.06\n",
              "37591  2021-06-06 06:30:00 UTC            40.47  ...       64.00            44.06\n",
              "37592  2021-06-06 07:00:00 UTC            26.22  ...       62.62            34.06\n",
              "37593  2021-06-06 07:30:00 UTC            23.22  ...       57.33            31.54\n",
              "37594  2021-06-06 08:00:00 UTC            23.23  ...       55.33            31.37\n",
              "\n",
              "[5 rows x 9 columns]"
            ]
          },
          "metadata": {
            "tags": []
          },
          "execution_count": 272
        }
      ]
    },
    {
      "cell_type": "code",
      "metadata": {
        "colab": {
          "base_uri": "https://localhost:8080/",
          "height": 204
        },
        "id": "O6RFgTj6CR5A",
        "outputId": "7d634855-f4f5-4024-d32f-7da02358e277"
      },
      "source": [
        "new_df_ffill.sample(5)"
      ],
      "execution_count": 273,
      "outputs": [
        {
          "output_type": "execute_result",
          "data": {
            "text/html": [
              "<div>\n",
              "<style scoped>\n",
              "    .dataframe tbody tr th:only-of-type {\n",
              "        vertical-align: middle;\n",
              "    }\n",
              "\n",
              "    .dataframe tbody tr th {\n",
              "        vertical-align: top;\n",
              "    }\n",
              "\n",
              "    .dataframe thead th {\n",
              "        text-align: right;\n",
              "    }\n",
              "</style>\n",
              "<table border=\"1\" class=\"dataframe\">\n",
              "  <thead>\n",
              "    <tr style=\"text-align: right;\">\n",
              "      <th></th>\n",
              "      <th>created_at</th>\n",
              "      <th>PM1.0_CF1_ug/m3</th>\n",
              "      <th>PM2.5_CF1_ug/m3</th>\n",
              "      <th>PM10.0_CF1_ug/m3</th>\n",
              "      <th>UptimeMinutes</th>\n",
              "      <th>RSSI_dbm</th>\n",
              "      <th>Temperature_F</th>\n",
              "      <th>Humidity_%</th>\n",
              "      <th>PM2.5_ATM_ug/m3</th>\n",
              "    </tr>\n",
              "  </thead>\n",
              "  <tbody>\n",
              "    <tr>\n",
              "      <th>15664</th>\n",
              "      <td>2020-07-22 09:30:00 UTC</td>\n",
              "      <td>6.17</td>\n",
              "      <td>7.81</td>\n",
              "      <td>7.94</td>\n",
              "      <td>31338.0</td>\n",
              "      <td>-59.53</td>\n",
              "      <td>83.13</td>\n",
              "      <td>31.87</td>\n",
              "      <td>7.81</td>\n",
              "    </tr>\n",
              "    <tr>\n",
              "      <th>34685</th>\n",
              "      <td>2021-04-25 10:00:00 UTC</td>\n",
              "      <td>0.00</td>\n",
              "      <td>0.07</td>\n",
              "      <td>0.11</td>\n",
              "      <td>33983.0</td>\n",
              "      <td>-73.67</td>\n",
              "      <td>73.00</td>\n",
              "      <td>27.00</td>\n",
              "      <td>0.07</td>\n",
              "    </tr>\n",
              "    <tr>\n",
              "      <th>31874</th>\n",
              "      <td>2021-03-27 20:30:00 UTC</td>\n",
              "      <td>0.43</td>\n",
              "      <td>0.82</td>\n",
              "      <td>0.90</td>\n",
              "      <td>2652.0</td>\n",
              "      <td>-72.13</td>\n",
              "      <td>73.87</td>\n",
              "      <td>35.20</td>\n",
              "      <td>0.82</td>\n",
              "    </tr>\n",
              "    <tr>\n",
              "      <th>31246</th>\n",
              "      <td>2021-03-20 18:30:00 UTC</td>\n",
              "      <td>0.53</td>\n",
              "      <td>0.88</td>\n",
              "      <td>0.97</td>\n",
              "      <td>1878.0</td>\n",
              "      <td>-70.40</td>\n",
              "      <td>64.40</td>\n",
              "      <td>23.00</td>\n",
              "      <td>0.88</td>\n",
              "    </tr>\n",
              "    <tr>\n",
              "      <th>17754</th>\n",
              "      <td>2020-08-13 08:30:00 UTC</td>\n",
              "      <td>7.09</td>\n",
              "      <td>9.89</td>\n",
              "      <td>10.17</td>\n",
              "      <td>62958.0</td>\n",
              "      <td>-56.80</td>\n",
              "      <td>84.47</td>\n",
              "      <td>36.53</td>\n",
              "      <td>9.89</td>\n",
              "    </tr>\n",
              "  </tbody>\n",
              "</table>\n",
              "</div>"
            ],
            "text/plain": [
              "                    created_at  PM1.0_CF1_ug/m3  ...  Humidity_%  PM2.5_ATM_ug/m3\n",
              "15664  2020-07-22 09:30:00 UTC             6.17  ...       31.87             7.81\n",
              "34685  2021-04-25 10:00:00 UTC             0.00  ...       27.00             0.07\n",
              "31874  2021-03-27 20:30:00 UTC             0.43  ...       35.20             0.82\n",
              "31246  2021-03-20 18:30:00 UTC             0.53  ...       23.00             0.88\n",
              "17754  2020-08-13 08:30:00 UTC             7.09  ...       36.53             9.89\n",
              "\n",
              "[5 rows x 9 columns]"
            ]
          },
          "metadata": {
            "tags": []
          },
          "execution_count": 273
        }
      ]
    },
    {
      "cell_type": "code",
      "metadata": {
        "colab": {
          "base_uri": "https://localhost:8080/",
          "height": 297
        },
        "id": "jZ2vD8DExIjg",
        "outputId": "465d2d65-11ca-4f03-b465-80413a5ab8c5"
      },
      "source": [
        "new_df_ffill.describe()"
      ],
      "execution_count": 274,
      "outputs": [
        {
          "output_type": "execute_result",
          "data": {
            "text/html": [
              "<div>\n",
              "<style scoped>\n",
              "    .dataframe tbody tr th:only-of-type {\n",
              "        vertical-align: middle;\n",
              "    }\n",
              "\n",
              "    .dataframe tbody tr th {\n",
              "        vertical-align: top;\n",
              "    }\n",
              "\n",
              "    .dataframe thead th {\n",
              "        text-align: right;\n",
              "    }\n",
              "</style>\n",
              "<table border=\"1\" class=\"dataframe\">\n",
              "  <thead>\n",
              "    <tr style=\"text-align: right;\">\n",
              "      <th></th>\n",
              "      <th>PM1.0_CF1_ug/m3</th>\n",
              "      <th>PM2.5_CF1_ug/m3</th>\n",
              "      <th>PM10.0_CF1_ug/m3</th>\n",
              "      <th>UptimeMinutes</th>\n",
              "      <th>RSSI_dbm</th>\n",
              "      <th>Temperature_F</th>\n",
              "      <th>Humidity_%</th>\n",
              "      <th>PM2.5_ATM_ug/m3</th>\n",
              "    </tr>\n",
              "  </thead>\n",
              "  <tbody>\n",
              "    <tr>\n",
              "      <th>count</th>\n",
              "      <td>37595.000000</td>\n",
              "      <td>37595.000000</td>\n",
              "      <td>37595.000000</td>\n",
              "      <td>37595.000000</td>\n",
              "      <td>37595.000000</td>\n",
              "      <td>37595.00000</td>\n",
              "      <td>37595.000000</td>\n",
              "      <td>37595.000000</td>\n",
              "    </tr>\n",
              "    <tr>\n",
              "      <th>mean</th>\n",
              "      <td>6.007333</td>\n",
              "      <td>8.583804</td>\n",
              "      <td>9.091479</td>\n",
              "      <td>22210.031092</td>\n",
              "      <td>-66.849480</td>\n",
              "      <td>78.72105</td>\n",
              "      <td>31.860672</td>\n",
              "      <td>7.990410</td>\n",
              "    </tr>\n",
              "    <tr>\n",
              "      <th>std</th>\n",
              "      <td>10.414809</td>\n",
              "      <td>16.602185</td>\n",
              "      <td>18.282239</td>\n",
              "      <td>18421.318729</td>\n",
              "      <td>8.782886</td>\n",
              "      <td>6.35755</td>\n",
              "      <td>12.536009</td>\n",
              "      <td>12.174536</td>\n",
              "    </tr>\n",
              "    <tr>\n",
              "      <th>min</th>\n",
              "      <td>0.000000</td>\n",
              "      <td>0.000000</td>\n",
              "      <td>0.000000</td>\n",
              "      <td>2.000000</td>\n",
              "      <td>-87.000000</td>\n",
              "      <td>52.20000</td>\n",
              "      <td>10.000000</td>\n",
              "      <td>0.000000</td>\n",
              "    </tr>\n",
              "    <tr>\n",
              "      <th>25%</th>\n",
              "      <td>1.460000</td>\n",
              "      <td>2.120000</td>\n",
              "      <td>2.280000</td>\n",
              "      <td>6326.500000</td>\n",
              "      <td>-74.200000</td>\n",
              "      <td>73.93000</td>\n",
              "      <td>22.000000</td>\n",
              "      <td>2.120000</td>\n",
              "    </tr>\n",
              "    <tr>\n",
              "      <th>50%</th>\n",
              "      <td>3.460000</td>\n",
              "      <td>4.750000</td>\n",
              "      <td>5.030000</td>\n",
              "      <td>18243.000000</td>\n",
              "      <td>-69.930000</td>\n",
              "      <td>79.00000</td>\n",
              "      <td>30.000000</td>\n",
              "      <td>4.750000</td>\n",
              "    </tr>\n",
              "    <tr>\n",
              "      <th>75%</th>\n",
              "      <td>6.990000</td>\n",
              "      <td>9.580000</td>\n",
              "      <td>10.035000</td>\n",
              "      <td>34494.000000</td>\n",
              "      <td>-58.330000</td>\n",
              "      <td>83.00000</td>\n",
              "      <td>40.530000</td>\n",
              "      <td>9.570000</td>\n",
              "    </tr>\n",
              "    <tr>\n",
              "      <th>max</th>\n",
              "      <td>360.400000</td>\n",
              "      <td>737.140000</td>\n",
              "      <td>848.470000</td>\n",
              "      <td>71568.000000</td>\n",
              "      <td>-52.600000</td>\n",
              "      <td>105.27000</td>\n",
              "      <td>84.730000</td>\n",
              "      <td>490.740000</td>\n",
              "    </tr>\n",
              "  </tbody>\n",
              "</table>\n",
              "</div>"
            ],
            "text/plain": [
              "       PM1.0_CF1_ug/m3  PM2.5_CF1_ug/m3  ...    Humidity_%  PM2.5_ATM_ug/m3\n",
              "count     37595.000000     37595.000000  ...  37595.000000     37595.000000\n",
              "mean          6.007333         8.583804  ...     31.860672         7.990410\n",
              "std          10.414809        16.602185  ...     12.536009        12.174536\n",
              "min           0.000000         0.000000  ...     10.000000         0.000000\n",
              "25%           1.460000         2.120000  ...     22.000000         2.120000\n",
              "50%           3.460000         4.750000  ...     30.000000         4.750000\n",
              "75%           6.990000         9.580000  ...     40.530000         9.570000\n",
              "max         360.400000       737.140000  ...     84.730000       490.740000\n",
              "\n",
              "[8 rows x 8 columns]"
            ]
          },
          "metadata": {
            "tags": []
          },
          "execution_count": 274
        }
      ]
    },
    {
      "cell_type": "code",
      "metadata": {
        "id": "5XeeNv04Pk2G",
        "colab": {
          "base_uri": "https://localhost:8080/"
        },
        "outputId": "048bb45f-812e-423c-a35e-95dae79124da"
      },
      "source": [
        "new_df_ffill.nunique()"
      ],
      "execution_count": 275,
      "outputs": [
        {
          "output_type": "execute_result",
          "data": {
            "text/plain": [
              "created_at          23697\n",
              "PM1.0_CF1_ug/m3      2752\n",
              "PM2.5_CF1_ug/m3      3423\n",
              "PM10.0_CF1_ug/m3     3528\n",
              "UptimeMinutes       18029\n",
              "RSSI_dbm              627\n",
              "Temperature_F         699\n",
              "Humidity_%           1059\n",
              "PM2.5_ATM_ug/m3      3299\n",
              "dtype: int64"
            ]
          },
          "metadata": {
            "tags": []
          },
          "execution_count": 275
        }
      ]
    },
    {
      "cell_type": "code",
      "metadata": {
        "id": "KrFqRumKwUyk"
      },
      "source": [
        "new_df_ffill.rename(columns={'created_at': 'Date/Time'}, inplace=True)"
      ],
      "execution_count": 276,
      "outputs": []
    },
    {
      "cell_type": "code",
      "metadata": {
        "colab": {
          "base_uri": "https://localhost:8080/"
        },
        "id": "oU4Ni7NGb3Hc",
        "outputId": "4e4200b4-f066-4b93-94bb-e776aecb313d"
      },
      "source": [
        "new_df_ffill.dtypes"
      ],
      "execution_count": 277,
      "outputs": [
        {
          "output_type": "execute_result",
          "data": {
            "text/plain": [
              "Date/Time            object\n",
              "PM1.0_CF1_ug/m3     float64\n",
              "PM2.5_CF1_ug/m3     float64\n",
              "PM10.0_CF1_ug/m3    float64\n",
              "UptimeMinutes       float64\n",
              "RSSI_dbm            float64\n",
              "Temperature_F       float64\n",
              "Humidity_%          float64\n",
              "PM2.5_ATM_ug/m3     float64\n",
              "dtype: object"
            ]
          },
          "metadata": {
            "tags": []
          },
          "execution_count": 277
        }
      ]
    },
    {
      "cell_type": "markdown",
      "metadata": {
        "id": "YKOSBnAA2Hdi"
      },
      "source": [
        "#Attempt to locate the month of June 2021"
      ]
    },
    {
      "cell_type": "markdown",
      "metadata": {
        "id": "63M3_7Yk2K_T"
      },
      "source": [
        "**The month of June 2021 has only one week of data**"
      ]
    },
    {
      "cell_type": "code",
      "metadata": {
        "colab": {
          "base_uri": "https://localhost:8080/",
          "height": 419
        },
        "id": "qhF0TfDWU18I",
        "outputId": "4fffedb7-939e-4a2b-df76-48b9c1009ae2"
      },
      "source": [
        "new_df_ffill.tail(495)"
      ],
      "execution_count": 278,
      "outputs": [
        {
          "output_type": "execute_result",
          "data": {
            "text/html": [
              "<div>\n",
              "<style scoped>\n",
              "    .dataframe tbody tr th:only-of-type {\n",
              "        vertical-align: middle;\n",
              "    }\n",
              "\n",
              "    .dataframe tbody tr th {\n",
              "        vertical-align: top;\n",
              "    }\n",
              "\n",
              "    .dataframe thead th {\n",
              "        text-align: right;\n",
              "    }\n",
              "</style>\n",
              "<table border=\"1\" class=\"dataframe\">\n",
              "  <thead>\n",
              "    <tr style=\"text-align: right;\">\n",
              "      <th></th>\n",
              "      <th>Date/Time</th>\n",
              "      <th>PM1.0_CF1_ug/m3</th>\n",
              "      <th>PM2.5_CF1_ug/m3</th>\n",
              "      <th>PM10.0_CF1_ug/m3</th>\n",
              "      <th>UptimeMinutes</th>\n",
              "      <th>RSSI_dbm</th>\n",
              "      <th>Temperature_F</th>\n",
              "      <th>Humidity_%</th>\n",
              "      <th>PM2.5_ATM_ug/m3</th>\n",
              "    </tr>\n",
              "  </thead>\n",
              "  <tbody>\n",
              "    <tr>\n",
              "      <th>37100</th>\n",
              "      <td>2021-05-31 23:30:00 UTC</td>\n",
              "      <td>14.23</td>\n",
              "      <td>20.18</td>\n",
              "      <td>21.21</td>\n",
              "      <td>614.0</td>\n",
              "      <td>-75.80</td>\n",
              "      <td>88.93</td>\n",
              "      <td>60.53</td>\n",
              "      <td>20.18</td>\n",
              "    </tr>\n",
              "    <tr>\n",
              "      <th>37101</th>\n",
              "      <td>2021-06-01 00:00:00 UTC</td>\n",
              "      <td>19.42</td>\n",
              "      <td>28.67</td>\n",
              "      <td>30.12</td>\n",
              "      <td>644.0</td>\n",
              "      <td>-74.40</td>\n",
              "      <td>89.00</td>\n",
              "      <td>61.00</td>\n",
              "      <td>26.84</td>\n",
              "    </tr>\n",
              "    <tr>\n",
              "      <th>37102</th>\n",
              "      <td>2021-06-01 00:30:00 UTC</td>\n",
              "      <td>30.49</td>\n",
              "      <td>49.12</td>\n",
              "      <td>52.94</td>\n",
              "      <td>674.0</td>\n",
              "      <td>-75.07</td>\n",
              "      <td>89.00</td>\n",
              "      <td>60.93</td>\n",
              "      <td>40.51</td>\n",
              "    </tr>\n",
              "    <tr>\n",
              "      <th>37103</th>\n",
              "      <td>2021-06-01 01:00:00 UTC</td>\n",
              "      <td>17.82</td>\n",
              "      <td>26.56</td>\n",
              "      <td>27.90</td>\n",
              "      <td>704.0</td>\n",
              "      <td>-73.93</td>\n",
              "      <td>88.73</td>\n",
              "      <td>60.80</td>\n",
              "      <td>26.43</td>\n",
              "    </tr>\n",
              "    <tr>\n",
              "      <th>37104</th>\n",
              "      <td>2021-06-01 01:30:00 UTC</td>\n",
              "      <td>16.54</td>\n",
              "      <td>23.73</td>\n",
              "      <td>24.91</td>\n",
              "      <td>734.0</td>\n",
              "      <td>-73.47</td>\n",
              "      <td>88.07</td>\n",
              "      <td>61.07</td>\n",
              "      <td>23.70</td>\n",
              "    </tr>\n",
              "    <tr>\n",
              "      <th>...</th>\n",
              "      <td>...</td>\n",
              "      <td>...</td>\n",
              "      <td>...</td>\n",
              "      <td>...</td>\n",
              "      <td>...</td>\n",
              "      <td>...</td>\n",
              "      <td>...</td>\n",
              "      <td>...</td>\n",
              "      <td>...</td>\n",
              "    </tr>\n",
              "    <tr>\n",
              "      <th>37590</th>\n",
              "      <td>2021-06-06 06:00:00 UTC</td>\n",
              "      <td>40.47</td>\n",
              "      <td>56.64</td>\n",
              "      <td>59.53</td>\n",
              "      <td>798.0</td>\n",
              "      <td>-77.33</td>\n",
              "      <td>86.00</td>\n",
              "      <td>64.00</td>\n",
              "      <td>44.06</td>\n",
              "    </tr>\n",
              "    <tr>\n",
              "      <th>37591</th>\n",
              "      <td>2021-06-06 06:30:00 UTC</td>\n",
              "      <td>40.47</td>\n",
              "      <td>56.64</td>\n",
              "      <td>59.53</td>\n",
              "      <td>798.0</td>\n",
              "      <td>-77.33</td>\n",
              "      <td>86.00</td>\n",
              "      <td>64.00</td>\n",
              "      <td>44.06</td>\n",
              "    </tr>\n",
              "    <tr>\n",
              "      <th>37592</th>\n",
              "      <td>2021-06-06 07:00:00 UTC</td>\n",
              "      <td>26.22</td>\n",
              "      <td>37.35</td>\n",
              "      <td>39.07</td>\n",
              "      <td>962.0</td>\n",
              "      <td>-82.31</td>\n",
              "      <td>88.38</td>\n",
              "      <td>62.62</td>\n",
              "      <td>34.06</td>\n",
              "    </tr>\n",
              "    <tr>\n",
              "      <th>37593</th>\n",
              "      <td>2021-06-06 07:30:00 UTC</td>\n",
              "      <td>23.22</td>\n",
              "      <td>33.16</td>\n",
              "      <td>34.51</td>\n",
              "      <td>990.0</td>\n",
              "      <td>-75.20</td>\n",
              "      <td>89.73</td>\n",
              "      <td>57.33</td>\n",
              "      <td>31.54</td>\n",
              "    </tr>\n",
              "    <tr>\n",
              "      <th>37594</th>\n",
              "      <td>2021-06-06 08:00:00 UTC</td>\n",
              "      <td>23.23</td>\n",
              "      <td>32.86</td>\n",
              "      <td>33.53</td>\n",
              "      <td>1008.0</td>\n",
              "      <td>-75.67</td>\n",
              "      <td>91.00</td>\n",
              "      <td>55.33</td>\n",
              "      <td>31.37</td>\n",
              "    </tr>\n",
              "  </tbody>\n",
              "</table>\n",
              "<p>495 rows × 9 columns</p>\n",
              "</div>"
            ],
            "text/plain": [
              "                     Date/Time  PM1.0_CF1_ug/m3  ...  Humidity_%  PM2.5_ATM_ug/m3\n",
              "37100  2021-05-31 23:30:00 UTC            14.23  ...       60.53            20.18\n",
              "37101  2021-06-01 00:00:00 UTC            19.42  ...       61.00            26.84\n",
              "37102  2021-06-01 00:30:00 UTC            30.49  ...       60.93            40.51\n",
              "37103  2021-06-01 01:00:00 UTC            17.82  ...       60.80            26.43\n",
              "37104  2021-06-01 01:30:00 UTC            16.54  ...       61.07            23.70\n",
              "...                        ...              ...  ...         ...              ...\n",
              "37590  2021-06-06 06:00:00 UTC            40.47  ...       64.00            44.06\n",
              "37591  2021-06-06 06:30:00 UTC            40.47  ...       64.00            44.06\n",
              "37592  2021-06-06 07:00:00 UTC            26.22  ...       62.62            34.06\n",
              "37593  2021-06-06 07:30:00 UTC            23.22  ...       57.33            31.54\n",
              "37594  2021-06-06 08:00:00 UTC            23.23  ...       55.33            31.37\n",
              "\n",
              "[495 rows x 9 columns]"
            ]
          },
          "metadata": {
            "tags": []
          },
          "execution_count": 278
        }
      ]
    },
    {
      "cell_type": "code",
      "metadata": {
        "id": "DOGFdR6VcKmp"
      },
      "source": [
        ""
      ],
      "execution_count": 278,
      "outputs": []
    },
    {
      "cell_type": "markdown",
      "metadata": {
        "id": "Qg7Cy_KKcJAk"
      },
      "source": [
        "#JUNE 2021\n",
        "\n",
        "\n",
        "\n",
        "\n",
        "\n"
      ]
    },
    {
      "cell_type": "code",
      "metadata": {
        "colab": {
          "base_uri": "https://localhost:8080/",
          "height": 419
        },
        "id": "OzNzjAyIalze",
        "outputId": "6015104f-e8e2-4a96-a052-f9051bc23e09"
      },
      "source": [
        "june21 = new_df_ffill.iloc[37101:37595]\n",
        "june21"
      ],
      "execution_count": 279,
      "outputs": [
        {
          "output_type": "execute_result",
          "data": {
            "text/html": [
              "<div>\n",
              "<style scoped>\n",
              "    .dataframe tbody tr th:only-of-type {\n",
              "        vertical-align: middle;\n",
              "    }\n",
              "\n",
              "    .dataframe tbody tr th {\n",
              "        vertical-align: top;\n",
              "    }\n",
              "\n",
              "    .dataframe thead th {\n",
              "        text-align: right;\n",
              "    }\n",
              "</style>\n",
              "<table border=\"1\" class=\"dataframe\">\n",
              "  <thead>\n",
              "    <tr style=\"text-align: right;\">\n",
              "      <th></th>\n",
              "      <th>Date/Time</th>\n",
              "      <th>PM1.0_CF1_ug/m3</th>\n",
              "      <th>PM2.5_CF1_ug/m3</th>\n",
              "      <th>PM10.0_CF1_ug/m3</th>\n",
              "      <th>UptimeMinutes</th>\n",
              "      <th>RSSI_dbm</th>\n",
              "      <th>Temperature_F</th>\n",
              "      <th>Humidity_%</th>\n",
              "      <th>PM2.5_ATM_ug/m3</th>\n",
              "    </tr>\n",
              "  </thead>\n",
              "  <tbody>\n",
              "    <tr>\n",
              "      <th>37101</th>\n",
              "      <td>2021-06-01 00:00:00 UTC</td>\n",
              "      <td>19.42</td>\n",
              "      <td>28.67</td>\n",
              "      <td>30.12</td>\n",
              "      <td>644.0</td>\n",
              "      <td>-74.40</td>\n",
              "      <td>89.00</td>\n",
              "      <td>61.00</td>\n",
              "      <td>26.84</td>\n",
              "    </tr>\n",
              "    <tr>\n",
              "      <th>37102</th>\n",
              "      <td>2021-06-01 00:30:00 UTC</td>\n",
              "      <td>30.49</td>\n",
              "      <td>49.12</td>\n",
              "      <td>52.94</td>\n",
              "      <td>674.0</td>\n",
              "      <td>-75.07</td>\n",
              "      <td>89.00</td>\n",
              "      <td>60.93</td>\n",
              "      <td>40.51</td>\n",
              "    </tr>\n",
              "    <tr>\n",
              "      <th>37103</th>\n",
              "      <td>2021-06-01 01:00:00 UTC</td>\n",
              "      <td>17.82</td>\n",
              "      <td>26.56</td>\n",
              "      <td>27.90</td>\n",
              "      <td>704.0</td>\n",
              "      <td>-73.93</td>\n",
              "      <td>88.73</td>\n",
              "      <td>60.80</td>\n",
              "      <td>26.43</td>\n",
              "    </tr>\n",
              "    <tr>\n",
              "      <th>37104</th>\n",
              "      <td>2021-06-01 01:30:00 UTC</td>\n",
              "      <td>16.54</td>\n",
              "      <td>23.73</td>\n",
              "      <td>24.91</td>\n",
              "      <td>734.0</td>\n",
              "      <td>-73.47</td>\n",
              "      <td>88.07</td>\n",
              "      <td>61.07</td>\n",
              "      <td>23.70</td>\n",
              "    </tr>\n",
              "    <tr>\n",
              "      <th>37105</th>\n",
              "      <td>2021-06-01 02:00:00 UTC</td>\n",
              "      <td>17.95</td>\n",
              "      <td>26.67</td>\n",
              "      <td>28.02</td>\n",
              "      <td>764.0</td>\n",
              "      <td>-72.80</td>\n",
              "      <td>88.00</td>\n",
              "      <td>62.47</td>\n",
              "      <td>26.56</td>\n",
              "    </tr>\n",
              "    <tr>\n",
              "      <th>...</th>\n",
              "      <td>...</td>\n",
              "      <td>...</td>\n",
              "      <td>...</td>\n",
              "      <td>...</td>\n",
              "      <td>...</td>\n",
              "      <td>...</td>\n",
              "      <td>...</td>\n",
              "      <td>...</td>\n",
              "      <td>...</td>\n",
              "    </tr>\n",
              "    <tr>\n",
              "      <th>37590</th>\n",
              "      <td>2021-06-06 06:00:00 UTC</td>\n",
              "      <td>40.47</td>\n",
              "      <td>56.64</td>\n",
              "      <td>59.53</td>\n",
              "      <td>798.0</td>\n",
              "      <td>-77.33</td>\n",
              "      <td>86.00</td>\n",
              "      <td>64.00</td>\n",
              "      <td>44.06</td>\n",
              "    </tr>\n",
              "    <tr>\n",
              "      <th>37591</th>\n",
              "      <td>2021-06-06 06:30:00 UTC</td>\n",
              "      <td>40.47</td>\n",
              "      <td>56.64</td>\n",
              "      <td>59.53</td>\n",
              "      <td>798.0</td>\n",
              "      <td>-77.33</td>\n",
              "      <td>86.00</td>\n",
              "      <td>64.00</td>\n",
              "      <td>44.06</td>\n",
              "    </tr>\n",
              "    <tr>\n",
              "      <th>37592</th>\n",
              "      <td>2021-06-06 07:00:00 UTC</td>\n",
              "      <td>26.22</td>\n",
              "      <td>37.35</td>\n",
              "      <td>39.07</td>\n",
              "      <td>962.0</td>\n",
              "      <td>-82.31</td>\n",
              "      <td>88.38</td>\n",
              "      <td>62.62</td>\n",
              "      <td>34.06</td>\n",
              "    </tr>\n",
              "    <tr>\n",
              "      <th>37593</th>\n",
              "      <td>2021-06-06 07:30:00 UTC</td>\n",
              "      <td>23.22</td>\n",
              "      <td>33.16</td>\n",
              "      <td>34.51</td>\n",
              "      <td>990.0</td>\n",
              "      <td>-75.20</td>\n",
              "      <td>89.73</td>\n",
              "      <td>57.33</td>\n",
              "      <td>31.54</td>\n",
              "    </tr>\n",
              "    <tr>\n",
              "      <th>37594</th>\n",
              "      <td>2021-06-06 08:00:00 UTC</td>\n",
              "      <td>23.23</td>\n",
              "      <td>32.86</td>\n",
              "      <td>33.53</td>\n",
              "      <td>1008.0</td>\n",
              "      <td>-75.67</td>\n",
              "      <td>91.00</td>\n",
              "      <td>55.33</td>\n",
              "      <td>31.37</td>\n",
              "    </tr>\n",
              "  </tbody>\n",
              "</table>\n",
              "<p>494 rows × 9 columns</p>\n",
              "</div>"
            ],
            "text/plain": [
              "                     Date/Time  PM1.0_CF1_ug/m3  ...  Humidity_%  PM2.5_ATM_ug/m3\n",
              "37101  2021-06-01 00:00:00 UTC            19.42  ...       61.00            26.84\n",
              "37102  2021-06-01 00:30:00 UTC            30.49  ...       60.93            40.51\n",
              "37103  2021-06-01 01:00:00 UTC            17.82  ...       60.80            26.43\n",
              "37104  2021-06-01 01:30:00 UTC            16.54  ...       61.07            23.70\n",
              "37105  2021-06-01 02:00:00 UTC            17.95  ...       62.47            26.56\n",
              "...                        ...              ...  ...         ...              ...\n",
              "37590  2021-06-06 06:00:00 UTC            40.47  ...       64.00            44.06\n",
              "37591  2021-06-06 06:30:00 UTC            40.47  ...       64.00            44.06\n",
              "37592  2021-06-06 07:00:00 UTC            26.22  ...       62.62            34.06\n",
              "37593  2021-06-06 07:30:00 UTC            23.22  ...       57.33            31.54\n",
              "37594  2021-06-06 08:00:00 UTC            23.23  ...       55.33            31.37\n",
              "\n",
              "[494 rows x 9 columns]"
            ]
          },
          "metadata": {
            "tags": []
          },
          "execution_count": 279
        }
      ]
    },
    {
      "cell_type": "code",
      "metadata": {
        "id": "J28WHKlZkKUk"
      },
      "source": [
        "june21 = june21[['Date/Time', 'Temperature_F', 'Humidity_%', 'PM2.5_ATM_ug/m3']]"
      ],
      "execution_count": 280,
      "outputs": []
    },
    {
      "cell_type": "code",
      "metadata": {
        "colab": {
          "base_uri": "https://localhost:8080/",
          "height": 419
        },
        "id": "3M1Azk1po9UN",
        "outputId": "f56cff6b-9a15-426d-b9b6-d7ec00863026"
      },
      "source": [
        "june21"
      ],
      "execution_count": 281,
      "outputs": [
        {
          "output_type": "execute_result",
          "data": {
            "text/html": [
              "<div>\n",
              "<style scoped>\n",
              "    .dataframe tbody tr th:only-of-type {\n",
              "        vertical-align: middle;\n",
              "    }\n",
              "\n",
              "    .dataframe tbody tr th {\n",
              "        vertical-align: top;\n",
              "    }\n",
              "\n",
              "    .dataframe thead th {\n",
              "        text-align: right;\n",
              "    }\n",
              "</style>\n",
              "<table border=\"1\" class=\"dataframe\">\n",
              "  <thead>\n",
              "    <tr style=\"text-align: right;\">\n",
              "      <th></th>\n",
              "      <th>Date/Time</th>\n",
              "      <th>Temperature_F</th>\n",
              "      <th>Humidity_%</th>\n",
              "      <th>PM2.5_ATM_ug/m3</th>\n",
              "    </tr>\n",
              "  </thead>\n",
              "  <tbody>\n",
              "    <tr>\n",
              "      <th>37101</th>\n",
              "      <td>2021-06-01 00:00:00 UTC</td>\n",
              "      <td>89.00</td>\n",
              "      <td>61.00</td>\n",
              "      <td>26.84</td>\n",
              "    </tr>\n",
              "    <tr>\n",
              "      <th>37102</th>\n",
              "      <td>2021-06-01 00:30:00 UTC</td>\n",
              "      <td>89.00</td>\n",
              "      <td>60.93</td>\n",
              "      <td>40.51</td>\n",
              "    </tr>\n",
              "    <tr>\n",
              "      <th>37103</th>\n",
              "      <td>2021-06-01 01:00:00 UTC</td>\n",
              "      <td>88.73</td>\n",
              "      <td>60.80</td>\n",
              "      <td>26.43</td>\n",
              "    </tr>\n",
              "    <tr>\n",
              "      <th>37104</th>\n",
              "      <td>2021-06-01 01:30:00 UTC</td>\n",
              "      <td>88.07</td>\n",
              "      <td>61.07</td>\n",
              "      <td>23.70</td>\n",
              "    </tr>\n",
              "    <tr>\n",
              "      <th>37105</th>\n",
              "      <td>2021-06-01 02:00:00 UTC</td>\n",
              "      <td>88.00</td>\n",
              "      <td>62.47</td>\n",
              "      <td>26.56</td>\n",
              "    </tr>\n",
              "    <tr>\n",
              "      <th>...</th>\n",
              "      <td>...</td>\n",
              "      <td>...</td>\n",
              "      <td>...</td>\n",
              "      <td>...</td>\n",
              "    </tr>\n",
              "    <tr>\n",
              "      <th>37590</th>\n",
              "      <td>2021-06-06 06:00:00 UTC</td>\n",
              "      <td>86.00</td>\n",
              "      <td>64.00</td>\n",
              "      <td>44.06</td>\n",
              "    </tr>\n",
              "    <tr>\n",
              "      <th>37591</th>\n",
              "      <td>2021-06-06 06:30:00 UTC</td>\n",
              "      <td>86.00</td>\n",
              "      <td>64.00</td>\n",
              "      <td>44.06</td>\n",
              "    </tr>\n",
              "    <tr>\n",
              "      <th>37592</th>\n",
              "      <td>2021-06-06 07:00:00 UTC</td>\n",
              "      <td>88.38</td>\n",
              "      <td>62.62</td>\n",
              "      <td>34.06</td>\n",
              "    </tr>\n",
              "    <tr>\n",
              "      <th>37593</th>\n",
              "      <td>2021-06-06 07:30:00 UTC</td>\n",
              "      <td>89.73</td>\n",
              "      <td>57.33</td>\n",
              "      <td>31.54</td>\n",
              "    </tr>\n",
              "    <tr>\n",
              "      <th>37594</th>\n",
              "      <td>2021-06-06 08:00:00 UTC</td>\n",
              "      <td>91.00</td>\n",
              "      <td>55.33</td>\n",
              "      <td>31.37</td>\n",
              "    </tr>\n",
              "  </tbody>\n",
              "</table>\n",
              "<p>494 rows × 4 columns</p>\n",
              "</div>"
            ],
            "text/plain": [
              "                     Date/Time  Temperature_F  Humidity_%  PM2.5_ATM_ug/m3\n",
              "37101  2021-06-01 00:00:00 UTC          89.00       61.00            26.84\n",
              "37102  2021-06-01 00:30:00 UTC          89.00       60.93            40.51\n",
              "37103  2021-06-01 01:00:00 UTC          88.73       60.80            26.43\n",
              "37104  2021-06-01 01:30:00 UTC          88.07       61.07            23.70\n",
              "37105  2021-06-01 02:00:00 UTC          88.00       62.47            26.56\n",
              "...                        ...            ...         ...              ...\n",
              "37590  2021-06-06 06:00:00 UTC          86.00       64.00            44.06\n",
              "37591  2021-06-06 06:30:00 UTC          86.00       64.00            44.06\n",
              "37592  2021-06-06 07:00:00 UTC          88.38       62.62            34.06\n",
              "37593  2021-06-06 07:30:00 UTC          89.73       57.33            31.54\n",
              "37594  2021-06-06 08:00:00 UTC          91.00       55.33            31.37\n",
              "\n",
              "[494 rows x 4 columns]"
            ]
          },
          "metadata": {
            "tags": []
          },
          "execution_count": 281
        }
      ]
    },
    {
      "cell_type": "code",
      "metadata": {
        "colab": {
          "base_uri": "https://localhost:8080/",
          "height": 285
        },
        "id": "OSmw80fwbdJ-",
        "outputId": "c86c525c-3dd6-4687-ed68-51f171876620"
      },
      "source": [
        "june21.plot()\n",
        "plt.legend(bbox_to_anchor=(1.5,1), loc=\"upper right\")"
      ],
      "execution_count": 299,
      "outputs": [
        {
          "output_type": "execute_result",
          "data": {
            "text/plain": [
              "<matplotlib.legend.Legend at 0x7fa30d5039d0>"
            ]
          },
          "metadata": {
            "tags": []
          },
          "execution_count": 299
        },
        {
          "output_type": "display_data",
          "data": {
            "image/png": "[encoded data removed]",
            "text/plain": [
              "<Figure size 432x288 with 1 Axes>"
            ]
          },
          "metadata": {
            "tags": [],
            "needs_background": "light"
          }
        }
      ]
    },
    {
      "cell_type": "code",
      "metadata": {
        "colab": {
          "base_uri": "https://localhost:8080/",
          "height": 460
        },
        "id": "IC0n4inzcmti",
        "outputId": "e8e0cda8-21ba-4195-c021-fe5828defa7b"
      },
      "source": [
        "june21.plot(subplots=True, x = 'Date/Time', figsize=(14,8))\n",
        "plt.tick_params(labelsize = '8.0', labelrotation = 1.0)"
      ],
      "execution_count": 297,
      "outputs": [
        {
          "output_type": "display_data",
          "data": {
            "image/png": "[encoded data removed]",
            "text/plain": [
              "<Figure size 1008x576 with 3 Axes>"
            ]
          },
          "metadata": {
            "tags": [],
            "needs_background": "light"
          }
        }
      ]
    },
    {
      "cell_type": "code",
      "metadata": {
        "colab": {
          "base_uri": "https://localhost:8080/",
          "height": 302
        },
        "id": "Wr0BcJsEfQze",
        "outputId": "ab6e5155-3e50-4431-94f0-04da7498d683"
      },
      "source": [
        "june21.plot(x=\"Date/Time\", y= 'PM2.5_ATM_ug/m3', figsize=(20,4))"
      ],
      "execution_count": 284,
      "outputs": [
        {
          "output_type": "execute_result",
          "data": {
            "text/plain": [
              "<matplotlib.axes._subplots.AxesSubplot at 0x7fa30e348450>"
            ]
          },
          "metadata": {
            "tags": []
          },
          "execution_count": 284
        },
        {
          "output_type": "display_data",
          "data": {
            "image/png": "[encoded data removed]",
            "text/plain": [
              "<Figure size 1440x288 with 1 Axes>"
            ]
          },
          "metadata": {
            "tags": [],
            "needs_background": "light"
          }
        }
      ]
    },
    {
      "cell_type": "markdown",
      "metadata": {
        "id": "UMI11_3o1_wU"
      },
      "source": [
        "#Attempt to locate the first day of the month of June 2021"
      ]
    },
    {
      "cell_type": "code",
      "metadata": {
        "colab": {
          "base_uri": "https://localhost:8080/",
          "height": 1000
        },
        "id": "MDQHMurFg8ly",
        "outputId": "a7b38117-c9a0-45cf-bf07-5db60478f822"
      },
      "source": [
        "new_df_ffill.iloc[37101:37150]"
      ],
      "execution_count": 285,
      "outputs": [
        {
          "output_type": "execute_result",
          "data": {
            "text/html": [
              "<div>\n",
              "<style scoped>\n",
              "    .dataframe tbody tr th:only-of-type {\n",
              "        vertical-align: middle;\n",
              "    }\n",
              "\n",
              "    .dataframe tbody tr th {\n",
              "        vertical-align: top;\n",
              "    }\n",
              "\n",
              "    .dataframe thead th {\n",
              "        text-align: right;\n",
              "    }\n",
              "</style>\n",
              "<table border=\"1\" class=\"dataframe\">\n",
              "  <thead>\n",
              "    <tr style=\"text-align: right;\">\n",
              "      <th></th>\n",
              "      <th>Date/Time</th>\n",
              "      <th>PM1.0_CF1_ug/m3</th>\n",
              "      <th>PM2.5_CF1_ug/m3</th>\n",
              "      <th>PM10.0_CF1_ug/m3</th>\n",
              "      <th>UptimeMinutes</th>\n",
              "      <th>RSSI_dbm</th>\n",
              "      <th>Temperature_F</th>\n",
              "      <th>Humidity_%</th>\n",
              "      <th>PM2.5_ATM_ug/m3</th>\n",
              "    </tr>\n",
              "  </thead>\n",
              "  <tbody>\n",
              "    <tr>\n",
              "      <th>37101</th>\n",
              "      <td>2021-06-01 00:00:00 UTC</td>\n",
              "      <td>19.42</td>\n",
              "      <td>28.67</td>\n",
              "      <td>30.12</td>\n",
              "      <td>644.00</td>\n",
              "      <td>-74.40</td>\n",
              "      <td>89.00</td>\n",
              "      <td>61.00</td>\n",
              "      <td>26.84</td>\n",
              "    </tr>\n",
              "    <tr>\n",
              "      <th>37102</th>\n",
              "      <td>2021-06-01 00:30:00 UTC</td>\n",
              "      <td>30.49</td>\n",
              "      <td>49.12</td>\n",
              "      <td>52.94</td>\n",
              "      <td>674.00</td>\n",
              "      <td>-75.07</td>\n",
              "      <td>89.00</td>\n",
              "      <td>60.93</td>\n",
              "      <td>40.51</td>\n",
              "    </tr>\n",
              "    <tr>\n",
              "      <th>37103</th>\n",
              "      <td>2021-06-01 01:00:00 UTC</td>\n",
              "      <td>17.82</td>\n",
              "      <td>26.56</td>\n",
              "      <td>27.90</td>\n",
              "      <td>704.00</td>\n",
              "      <td>-73.93</td>\n",
              "      <td>88.73</td>\n",
              "      <td>60.80</td>\n",
              "      <td>26.43</td>\n",
              "    </tr>\n",
              "    <tr>\n",
              "      <th>37104</th>\n",
              "      <td>2021-06-01 01:30:00 UTC</td>\n",
              "      <td>16.54</td>\n",
              "      <td>23.73</td>\n",
              "      <td>24.91</td>\n",
              "      <td>734.00</td>\n",
              "      <td>-73.47</td>\n",
              "      <td>88.07</td>\n",
              "      <td>61.07</td>\n",
              "      <td>23.70</td>\n",
              "    </tr>\n",
              "    <tr>\n",
              "      <th>37105</th>\n",
              "      <td>2021-06-01 02:00:00 UTC</td>\n",
              "      <td>17.95</td>\n",
              "      <td>26.67</td>\n",
              "      <td>28.02</td>\n",
              "      <td>764.00</td>\n",
              "      <td>-72.80</td>\n",
              "      <td>88.00</td>\n",
              "      <td>62.47</td>\n",
              "      <td>26.56</td>\n",
              "    </tr>\n",
              "    <tr>\n",
              "      <th>37106</th>\n",
              "      <td>2021-06-01 02:30:00 UTC</td>\n",
              "      <td>20.20</td>\n",
              "      <td>30.23</td>\n",
              "      <td>31.98</td>\n",
              "      <td>794.00</td>\n",
              "      <td>-72.27</td>\n",
              "      <td>88.00</td>\n",
              "      <td>63.47</td>\n",
              "      <td>29.61</td>\n",
              "    </tr>\n",
              "    <tr>\n",
              "      <th>37107</th>\n",
              "      <td>2021-06-01 03:00:00 UTC</td>\n",
              "      <td>20.47</td>\n",
              "      <td>30.22</td>\n",
              "      <td>31.92</td>\n",
              "      <td>824.00</td>\n",
              "      <td>-71.27</td>\n",
              "      <td>88.00</td>\n",
              "      <td>63.27</td>\n",
              "      <td>29.64</td>\n",
              "    </tr>\n",
              "    <tr>\n",
              "      <th>37108</th>\n",
              "      <td>2021-06-01 03:30:00 UTC</td>\n",
              "      <td>18.84</td>\n",
              "      <td>27.55</td>\n",
              "      <td>28.94</td>\n",
              "      <td>854.00</td>\n",
              "      <td>-72.07</td>\n",
              "      <td>88.00</td>\n",
              "      <td>62.87</td>\n",
              "      <td>27.42</td>\n",
              "    </tr>\n",
              "    <tr>\n",
              "      <th>37109</th>\n",
              "      <td>2021-06-01 04:00:00 UTC</td>\n",
              "      <td>24.50</td>\n",
              "      <td>38.36</td>\n",
              "      <td>41.25</td>\n",
              "      <td>884.00</td>\n",
              "      <td>-72.00</td>\n",
              "      <td>88.00</td>\n",
              "      <td>62.93</td>\n",
              "      <td>34.47</td>\n",
              "    </tr>\n",
              "    <tr>\n",
              "      <th>37110</th>\n",
              "      <td>2021-06-01 04:30:00 UTC</td>\n",
              "      <td>15.99</td>\n",
              "      <td>23.31</td>\n",
              "      <td>24.50</td>\n",
              "      <td>914.00</td>\n",
              "      <td>-71.53</td>\n",
              "      <td>87.93</td>\n",
              "      <td>62.47</td>\n",
              "      <td>23.08</td>\n",
              "    </tr>\n",
              "    <tr>\n",
              "      <th>37111</th>\n",
              "      <td>2021-06-01 05:00:00 UTC</td>\n",
              "      <td>13.17</td>\n",
              "      <td>18.94</td>\n",
              "      <td>19.73</td>\n",
              "      <td>944.00</td>\n",
              "      <td>-74.60</td>\n",
              "      <td>87.07</td>\n",
              "      <td>61.93</td>\n",
              "      <td>18.94</td>\n",
              "    </tr>\n",
              "    <tr>\n",
              "      <th>37112</th>\n",
              "      <td>2021-06-01 05:30:00 UTC</td>\n",
              "      <td>14.91</td>\n",
              "      <td>21.02</td>\n",
              "      <td>22.26</td>\n",
              "      <td>974.00</td>\n",
              "      <td>-75.33</td>\n",
              "      <td>87.00</td>\n",
              "      <td>62.27</td>\n",
              "      <td>21.02</td>\n",
              "    </tr>\n",
              "    <tr>\n",
              "      <th>37113</th>\n",
              "      <td>2021-06-01 06:00:00 UTC</td>\n",
              "      <td>9.53</td>\n",
              "      <td>13.84</td>\n",
              "      <td>14.85</td>\n",
              "      <td>1004.00</td>\n",
              "      <td>-72.67</td>\n",
              "      <td>87.00</td>\n",
              "      <td>59.33</td>\n",
              "      <td>13.84</td>\n",
              "    </tr>\n",
              "    <tr>\n",
              "      <th>37114</th>\n",
              "      <td>2021-06-01 06:30:00 UTC</td>\n",
              "      <td>11.47</td>\n",
              "      <td>16.53</td>\n",
              "      <td>17.74</td>\n",
              "      <td>1034.00</td>\n",
              "      <td>-72.20</td>\n",
              "      <td>87.00</td>\n",
              "      <td>57.67</td>\n",
              "      <td>16.53</td>\n",
              "    </tr>\n",
              "    <tr>\n",
              "      <th>37115</th>\n",
              "      <td>2021-06-01 07:00:00 UTC</td>\n",
              "      <td>20.21</td>\n",
              "      <td>28.85</td>\n",
              "      <td>30.28</td>\n",
              "      <td>1064.00</td>\n",
              "      <td>-73.20</td>\n",
              "      <td>87.00</td>\n",
              "      <td>57.00</td>\n",
              "      <td>27.65</td>\n",
              "    </tr>\n",
              "    <tr>\n",
              "      <th>37116</th>\n",
              "      <td>2021-06-01 07:30:00 UTC</td>\n",
              "      <td>15.18</td>\n",
              "      <td>22.25</td>\n",
              "      <td>24.18</td>\n",
              "      <td>1094.00</td>\n",
              "      <td>-73.00</td>\n",
              "      <td>86.00</td>\n",
              "      <td>62.80</td>\n",
              "      <td>20.89</td>\n",
              "    </tr>\n",
              "    <tr>\n",
              "      <th>37117</th>\n",
              "      <td>2021-06-01 08:00:00 UTC</td>\n",
              "      <td>8.82</td>\n",
              "      <td>13.17</td>\n",
              "      <td>14.64</td>\n",
              "      <td>1124.00</td>\n",
              "      <td>-72.93</td>\n",
              "      <td>85.00</td>\n",
              "      <td>63.80</td>\n",
              "      <td>13.17</td>\n",
              "    </tr>\n",
              "    <tr>\n",
              "      <th>37118</th>\n",
              "      <td>2021-06-01 08:30:00 UTC</td>\n",
              "      <td>8.96</td>\n",
              "      <td>12.46</td>\n",
              "      <td>13.69</td>\n",
              "      <td>1154.00</td>\n",
              "      <td>-74.33</td>\n",
              "      <td>86.33</td>\n",
              "      <td>62.47</td>\n",
              "      <td>12.46</td>\n",
              "    </tr>\n",
              "    <tr>\n",
              "      <th>37119</th>\n",
              "      <td>2021-06-01 09:00:00 UTC</td>\n",
              "      <td>12.03</td>\n",
              "      <td>16.01</td>\n",
              "      <td>16.94</td>\n",
              "      <td>1184.00</td>\n",
              "      <td>-72.47</td>\n",
              "      <td>87.87</td>\n",
              "      <td>59.47</td>\n",
              "      <td>16.01</td>\n",
              "    </tr>\n",
              "    <tr>\n",
              "      <th>37120</th>\n",
              "      <td>2021-06-01 09:30:00 UTC</td>\n",
              "      <td>27.46</td>\n",
              "      <td>36.82</td>\n",
              "      <td>38.21</td>\n",
              "      <td>1214.00</td>\n",
              "      <td>-73.47</td>\n",
              "      <td>88.87</td>\n",
              "      <td>58.13</td>\n",
              "      <td>33.37</td>\n",
              "    </tr>\n",
              "    <tr>\n",
              "      <th>37121</th>\n",
              "      <td>2021-06-01 10:00:00 UTC</td>\n",
              "      <td>38.98</td>\n",
              "      <td>56.13</td>\n",
              "      <td>58.26</td>\n",
              "      <td>1244.00</td>\n",
              "      <td>-72.60</td>\n",
              "      <td>89.47</td>\n",
              "      <td>57.47</td>\n",
              "      <td>43.73</td>\n",
              "    </tr>\n",
              "    <tr>\n",
              "      <th>37122</th>\n",
              "      <td>2021-06-01 10:30:00 UTC</td>\n",
              "      <td>33.74</td>\n",
              "      <td>48.64</td>\n",
              "      <td>50.72</td>\n",
              "      <td>1274.00</td>\n",
              "      <td>-71.67</td>\n",
              "      <td>90.33</td>\n",
              "      <td>56.73</td>\n",
              "      <td>40.15</td>\n",
              "    </tr>\n",
              "    <tr>\n",
              "      <th>37123</th>\n",
              "      <td>2021-06-01 11:00:00 UTC</td>\n",
              "      <td>24.20</td>\n",
              "      <td>34.01</td>\n",
              "      <td>35.50</td>\n",
              "      <td>1304.00</td>\n",
              "      <td>-72.80</td>\n",
              "      <td>88.67</td>\n",
              "      <td>59.00</td>\n",
              "      <td>30.46</td>\n",
              "    </tr>\n",
              "    <tr>\n",
              "      <th>37124</th>\n",
              "      <td>2021-06-01 11:30:00 UTC</td>\n",
              "      <td>7.86</td>\n",
              "      <td>11.18</td>\n",
              "      <td>11.88</td>\n",
              "      <td>556.92</td>\n",
              "      <td>-73.25</td>\n",
              "      <td>81.75</td>\n",
              "      <td>63.50</td>\n",
              "      <td>11.18</td>\n",
              "    </tr>\n",
              "    <tr>\n",
              "      <th>37125</th>\n",
              "      <td>2021-06-01 12:00:00 UTC</td>\n",
              "      <td>10.22</td>\n",
              "      <td>14.17</td>\n",
              "      <td>15.05</td>\n",
              "      <td>31.00</td>\n",
              "      <td>-72.80</td>\n",
              "      <td>81.00</td>\n",
              "      <td>64.47</td>\n",
              "      <td>14.17</td>\n",
              "    </tr>\n",
              "    <tr>\n",
              "      <th>37126</th>\n",
              "      <td>2021-06-01 12:30:00 UTC</td>\n",
              "      <td>11.69</td>\n",
              "      <td>15.70</td>\n",
              "      <td>16.48</td>\n",
              "      <td>61.00</td>\n",
              "      <td>-74.00</td>\n",
              "      <td>81.20</td>\n",
              "      <td>61.60</td>\n",
              "      <td>15.70</td>\n",
              "    </tr>\n",
              "    <tr>\n",
              "      <th>37127</th>\n",
              "      <td>2021-06-01 13:00:00 UTC</td>\n",
              "      <td>15.79</td>\n",
              "      <td>20.73</td>\n",
              "      <td>21.81</td>\n",
              "      <td>91.00</td>\n",
              "      <td>-75.47</td>\n",
              "      <td>81.80</td>\n",
              "      <td>61.00</td>\n",
              "      <td>20.68</td>\n",
              "    </tr>\n",
              "    <tr>\n",
              "      <th>37128</th>\n",
              "      <td>2021-06-01 13:30:00 UTC</td>\n",
              "      <td>15.35</td>\n",
              "      <td>19.90</td>\n",
              "      <td>20.97</td>\n",
              "      <td>121.47</td>\n",
              "      <td>-73.67</td>\n",
              "      <td>82.20</td>\n",
              "      <td>50.33</td>\n",
              "      <td>19.89</td>\n",
              "    </tr>\n",
              "    <tr>\n",
              "      <th>37129</th>\n",
              "      <td>2021-06-01 14:00:00 UTC</td>\n",
              "      <td>18.31</td>\n",
              "      <td>23.69</td>\n",
              "      <td>24.71</td>\n",
              "      <td>152.00</td>\n",
              "      <td>-71.93</td>\n",
              "      <td>83.00</td>\n",
              "      <td>47.60</td>\n",
              "      <td>23.58</td>\n",
              "    </tr>\n",
              "    <tr>\n",
              "      <th>37130</th>\n",
              "      <td>2021-06-01 14:30:00 UTC</td>\n",
              "      <td>15.54</td>\n",
              "      <td>19.69</td>\n",
              "      <td>20.32</td>\n",
              "      <td>182.00</td>\n",
              "      <td>-73.33</td>\n",
              "      <td>83.20</td>\n",
              "      <td>43.20</td>\n",
              "      <td>19.69</td>\n",
              "    </tr>\n",
              "    <tr>\n",
              "      <th>37131</th>\n",
              "      <td>2021-06-01 15:00:00 UTC</td>\n",
              "      <td>13.27</td>\n",
              "      <td>16.54</td>\n",
              "      <td>17.07</td>\n",
              "      <td>212.00</td>\n",
              "      <td>-73.00</td>\n",
              "      <td>83.73</td>\n",
              "      <td>41.27</td>\n",
              "      <td>16.54</td>\n",
              "    </tr>\n",
              "    <tr>\n",
              "      <th>37132</th>\n",
              "      <td>2021-06-01 15:30:00 UTC</td>\n",
              "      <td>10.77</td>\n",
              "      <td>13.72</td>\n",
              "      <td>14.20</td>\n",
              "      <td>242.00</td>\n",
              "      <td>-74.20</td>\n",
              "      <td>83.00</td>\n",
              "      <td>38.27</td>\n",
              "      <td>13.72</td>\n",
              "    </tr>\n",
              "    <tr>\n",
              "      <th>37133</th>\n",
              "      <td>2021-06-01 16:00:00 UTC</td>\n",
              "      <td>10.66</td>\n",
              "      <td>13.93</td>\n",
              "      <td>14.57</td>\n",
              "      <td>272.00</td>\n",
              "      <td>-73.00</td>\n",
              "      <td>83.00</td>\n",
              "      <td>44.27</td>\n",
              "      <td>13.93</td>\n",
              "    </tr>\n",
              "    <tr>\n",
              "      <th>37134</th>\n",
              "      <td>2021-06-01 16:30:00 UTC</td>\n",
              "      <td>10.34</td>\n",
              "      <td>13.91</td>\n",
              "      <td>14.59</td>\n",
              "      <td>302.00</td>\n",
              "      <td>-74.40</td>\n",
              "      <td>83.00</td>\n",
              "      <td>45.93</td>\n",
              "      <td>13.91</td>\n",
              "    </tr>\n",
              "    <tr>\n",
              "      <th>37135</th>\n",
              "      <td>2021-06-01 17:00:00 UTC</td>\n",
              "      <td>9.41</td>\n",
              "      <td>12.75</td>\n",
              "      <td>13.42</td>\n",
              "      <td>332.00</td>\n",
              "      <td>-76.60</td>\n",
              "      <td>83.00</td>\n",
              "      <td>43.67</td>\n",
              "      <td>12.75</td>\n",
              "    </tr>\n",
              "    <tr>\n",
              "      <th>37136</th>\n",
              "      <td>2021-06-01 17:30:00 UTC</td>\n",
              "      <td>11.18</td>\n",
              "      <td>16.22</td>\n",
              "      <td>17.47</td>\n",
              "      <td>362.00</td>\n",
              "      <td>-79.67</td>\n",
              "      <td>83.00</td>\n",
              "      <td>51.20</td>\n",
              "      <td>16.22</td>\n",
              "    </tr>\n",
              "    <tr>\n",
              "      <th>37137</th>\n",
              "      <td>2021-06-01 18:00:00 UTC</td>\n",
              "      <td>10.37</td>\n",
              "      <td>14.60</td>\n",
              "      <td>15.95</td>\n",
              "      <td>392.00</td>\n",
              "      <td>-78.20</td>\n",
              "      <td>83.00</td>\n",
              "      <td>48.20</td>\n",
              "      <td>14.60</td>\n",
              "    </tr>\n",
              "    <tr>\n",
              "      <th>37138</th>\n",
              "      <td>2021-06-01 18:30:00 UTC</td>\n",
              "      <td>9.88</td>\n",
              "      <td>13.52</td>\n",
              "      <td>14.45</td>\n",
              "      <td>422.00</td>\n",
              "      <td>-77.93</td>\n",
              "      <td>83.00</td>\n",
              "      <td>43.60</td>\n",
              "      <td>13.52</td>\n",
              "    </tr>\n",
              "    <tr>\n",
              "      <th>37139</th>\n",
              "      <td>2021-06-01 19:00:00 UTC</td>\n",
              "      <td>10.40</td>\n",
              "      <td>14.14</td>\n",
              "      <td>14.97</td>\n",
              "      <td>452.00</td>\n",
              "      <td>-75.73</td>\n",
              "      <td>82.07</td>\n",
              "      <td>41.87</td>\n",
              "      <td>14.14</td>\n",
              "    </tr>\n",
              "    <tr>\n",
              "      <th>37140</th>\n",
              "      <td>2021-06-01 19:30:00 UTC</td>\n",
              "      <td>11.03</td>\n",
              "      <td>14.90</td>\n",
              "      <td>15.74</td>\n",
              "      <td>307.79</td>\n",
              "      <td>-75.86</td>\n",
              "      <td>82.00</td>\n",
              "      <td>40.71</td>\n",
              "      <td>14.90</td>\n",
              "    </tr>\n",
              "    <tr>\n",
              "      <th>37141</th>\n",
              "      <td>2021-06-01 20:00:00 UTC</td>\n",
              "      <td>10.77</td>\n",
              "      <td>14.45</td>\n",
              "      <td>15.15</td>\n",
              "      <td>25.00</td>\n",
              "      <td>-74.07</td>\n",
              "      <td>82.00</td>\n",
              "      <td>39.73</td>\n",
              "      <td>14.45</td>\n",
              "    </tr>\n",
              "    <tr>\n",
              "      <th>37142</th>\n",
              "      <td>2021-06-01 20:30:00 UTC</td>\n",
              "      <td>10.93</td>\n",
              "      <td>14.41</td>\n",
              "      <td>15.01</td>\n",
              "      <td>55.00</td>\n",
              "      <td>-71.27</td>\n",
              "      <td>82.00</td>\n",
              "      <td>41.53</td>\n",
              "      <td>14.41</td>\n",
              "    </tr>\n",
              "    <tr>\n",
              "      <th>37143</th>\n",
              "      <td>2021-06-01 21:00:00 UTC</td>\n",
              "      <td>11.13</td>\n",
              "      <td>14.46</td>\n",
              "      <td>15.16</td>\n",
              "      <td>85.00</td>\n",
              "      <td>-72.80</td>\n",
              "      <td>82.00</td>\n",
              "      <td>39.40</td>\n",
              "      <td>14.46</td>\n",
              "    </tr>\n",
              "    <tr>\n",
              "      <th>37144</th>\n",
              "      <td>2021-06-01 21:30:00 UTC</td>\n",
              "      <td>14.09</td>\n",
              "      <td>18.63</td>\n",
              "      <td>19.47</td>\n",
              "      <td>115.27</td>\n",
              "      <td>-73.53</td>\n",
              "      <td>82.47</td>\n",
              "      <td>40.60</td>\n",
              "      <td>18.63</td>\n",
              "    </tr>\n",
              "    <tr>\n",
              "      <th>37145</th>\n",
              "      <td>2021-06-01 22:00:00 UTC</td>\n",
              "      <td>23.80</td>\n",
              "      <td>33.17</td>\n",
              "      <td>34.68</td>\n",
              "      <td>146.00</td>\n",
              "      <td>-73.87</td>\n",
              "      <td>83.47</td>\n",
              "      <td>45.07</td>\n",
              "      <td>31.38</td>\n",
              "    </tr>\n",
              "    <tr>\n",
              "      <th>37146</th>\n",
              "      <td>2021-06-01 22:30:00 UTC</td>\n",
              "      <td>30.21</td>\n",
              "      <td>42.83</td>\n",
              "      <td>45.15</td>\n",
              "      <td>176.00</td>\n",
              "      <td>-73.27</td>\n",
              "      <td>84.00</td>\n",
              "      <td>47.73</td>\n",
              "      <td>37.33</td>\n",
              "    </tr>\n",
              "    <tr>\n",
              "      <th>37147</th>\n",
              "      <td>2021-06-01 23:00:00 UTC</td>\n",
              "      <td>35.31</td>\n",
              "      <td>50.61</td>\n",
              "      <td>53.17</td>\n",
              "      <td>206.00</td>\n",
              "      <td>-75.67</td>\n",
              "      <td>84.00</td>\n",
              "      <td>50.20</td>\n",
              "      <td>41.31</td>\n",
              "    </tr>\n",
              "    <tr>\n",
              "      <th>37148</th>\n",
              "      <td>2021-06-01 23:30:00 UTC</td>\n",
              "      <td>42.95</td>\n",
              "      <td>61.97</td>\n",
              "      <td>65.11</td>\n",
              "      <td>236.00</td>\n",
              "      <td>-76.33</td>\n",
              "      <td>84.00</td>\n",
              "      <td>51.67</td>\n",
              "      <td>46.24</td>\n",
              "    </tr>\n",
              "    <tr>\n",
              "      <th>37149</th>\n",
              "      <td>2021-06-01 00:00:00 UTC</td>\n",
              "      <td>19.42</td>\n",
              "      <td>28.67</td>\n",
              "      <td>30.12</td>\n",
              "      <td>644.00</td>\n",
              "      <td>-74.40</td>\n",
              "      <td>89.00</td>\n",
              "      <td>61.00</td>\n",
              "      <td>26.84</td>\n",
              "    </tr>\n",
              "  </tbody>\n",
              "</table>\n",
              "</div>"
            ],
            "text/plain": [
              "                     Date/Time  PM1.0_CF1_ug/m3  ...  Humidity_%  PM2.5_ATM_ug/m3\n",
              "37101  2021-06-01 00:00:00 UTC            19.42  ...       61.00            26.84\n",
              "37102  2021-06-01 00:30:00 UTC            30.49  ...       60.93            40.51\n",
              "37103  2021-06-01 01:00:00 UTC            17.82  ...       60.80            26.43\n",
              "37104  2021-06-01 01:30:00 UTC            16.54  ...       61.07            23.70\n",
              "37105  2021-06-01 02:00:00 UTC            17.95  ...       62.47            26.56\n",
              "37106  2021-06-01 02:30:00 UTC            20.20  ...       63.47            29.61\n",
              "37107  2021-06-01 03:00:00 UTC            20.47  ...       63.27            29.64\n",
              "37108  2021-06-01 03:30:00 UTC            18.84  ...       62.87            27.42\n",
              "37109  2021-06-01 04:00:00 UTC            24.50  ...       62.93            34.47\n",
              "37110  2021-06-01 04:30:00 UTC            15.99  ...       62.47            23.08\n",
              "37111  2021-06-01 05:00:00 UTC            13.17  ...       61.93            18.94\n",
              "37112  2021-06-01 05:30:00 UTC            14.91  ...       62.27            21.02\n",
              "37113  2021-06-01 06:00:00 UTC             9.53  ...       59.33            13.84\n",
              "37114  2021-06-01 06:30:00 UTC            11.47  ...       57.67            16.53\n",
              "37115  2021-06-01 07:00:00 UTC            20.21  ...       57.00            27.65\n",
              "37116  2021-06-01 07:30:00 UTC            15.18  ...       62.80            20.89\n",
              "37117  2021-06-01 08:00:00 UTC             8.82  ...       63.80            13.17\n",
              "37118  2021-06-01 08:30:00 UTC             8.96  ...       62.47            12.46\n",
              "37119  2021-06-01 09:00:00 UTC            12.03  ...       59.47            16.01\n",
              "37120  2021-06-01 09:30:00 UTC            27.46  ...       58.13            33.37\n",
              "37121  2021-06-01 10:00:00 UTC            38.98  ...       57.47            43.73\n",
              "37122  2021-06-01 10:30:00 UTC            33.74  ...       56.73            40.15\n",
              "37123  2021-06-01 11:00:00 UTC            24.20  ...       59.00            30.46\n",
              "37124  2021-06-01 11:30:00 UTC             7.86  ...       63.50            11.18\n",
              "37125  2021-06-01 12:00:00 UTC            10.22  ...       64.47            14.17\n",
              "37126  2021-06-01 12:30:00 UTC            11.69  ...       61.60            15.70\n",
              "37127  2021-06-01 13:00:00 UTC            15.79  ...       61.00            20.68\n",
              "37128  2021-06-01 13:30:00 UTC            15.35  ...       50.33            19.89\n",
              "37129  2021-06-01 14:00:00 UTC            18.31  ...       47.60            23.58\n",
              "37130  2021-06-01 14:30:00 UTC            15.54  ...       43.20            19.69\n",
              "37131  2021-06-01 15:00:00 UTC            13.27  ...       41.27            16.54\n",
              "37132  2021-06-01 15:30:00 UTC            10.77  ...       38.27            13.72\n",
              "37133  2021-06-01 16:00:00 UTC            10.66  ...       44.27            13.93\n",
              "37134  2021-06-01 16:30:00 UTC            10.34  ...       45.93            13.91\n",
              "37135  2021-06-01 17:00:00 UTC             9.41  ...       43.67            12.75\n",
              "37136  2021-06-01 17:30:00 UTC            11.18  ...       51.20            16.22\n",
              "37137  2021-06-01 18:00:00 UTC            10.37  ...       48.20            14.60\n",
              "37138  2021-06-01 18:30:00 UTC             9.88  ...       43.60            13.52\n",
              "37139  2021-06-01 19:00:00 UTC            10.40  ...       41.87            14.14\n",
              "37140  2021-06-01 19:30:00 UTC            11.03  ...       40.71            14.90\n",
              "37141  2021-06-01 20:00:00 UTC            10.77  ...       39.73            14.45\n",
              "37142  2021-06-01 20:30:00 UTC            10.93  ...       41.53            14.41\n",
              "37143  2021-06-01 21:00:00 UTC            11.13  ...       39.40            14.46\n",
              "37144  2021-06-01 21:30:00 UTC            14.09  ...       40.60            18.63\n",
              "37145  2021-06-01 22:00:00 UTC            23.80  ...       45.07            31.38\n",
              "37146  2021-06-01 22:30:00 UTC            30.21  ...       47.73            37.33\n",
              "37147  2021-06-01 23:00:00 UTC            35.31  ...       50.20            41.31\n",
              "37148  2021-06-01 23:30:00 UTC            42.95  ...       51.67            46.24\n",
              "37149  2021-06-01 00:00:00 UTC            19.42  ...       61.00            26.84\n",
              "\n",
              "[49 rows x 9 columns]"
            ]
          },
          "metadata": {
            "tags": []
          },
          "execution_count": 285
        }
      ]
    },
    {
      "cell_type": "markdown",
      "metadata": {
        "id": "mlPSAE0t2p-H"
      },
      "source": [
        "#01 JUNE 2021"
      ]
    },
    {
      "cell_type": "code",
      "metadata": {
        "id": "1A8FHMFNrLAx"
      },
      "source": [
        "june1_21 = new_df_ffill.iloc[37101:37150]"
      ],
      "execution_count": 286,
      "outputs": []
    },
    {
      "cell_type": "code",
      "metadata": {
        "id": "BzlC_4n9u5kM"
      },
      "source": [
        "june1_21 = june1_21[['Date/Time', 'Temperature_F', 'Humidity_%', 'PM2.5_ATM_ug/m3']]"
      ],
      "execution_count": 287,
      "outputs": []
    },
    {
      "cell_type": "code",
      "metadata": {
        "colab": {
          "base_uri": "https://localhost:8080/",
          "height": 285
        },
        "id": "fce0LTCzrLaF",
        "outputId": "d35d1252-fa4b-4fda-f24e-a562e7cca527"
      },
      "source": [
        "june1_21.plot()\n",
        "plt.legend(bbox_to_anchor=(1.5,1), loc=\"upper right\")"
      ],
      "execution_count": 288,
      "outputs": [
        {
          "output_type": "execute_result",
          "data": {
            "text/plain": [
              "<matplotlib.legend.Legend at 0x7fa30da21250>"
            ]
          },
          "metadata": {
            "tags": []
          },
          "execution_count": 288
        },
        {
          "output_type": "display_data",
          "data": {
            "image/png": "[encoded data removed]",
            "text/plain": [
              "<Figure size 432x288 with 1 Axes>"
            ]
          },
          "metadata": {
            "tags": [],
            "needs_background": "light"
          }
        }
      ]
    },
    {
      "cell_type": "code",
      "metadata": {
        "colab": {
          "base_uri": "https://localhost:8080/",
          "height": 460
        },
        "id": "rE8dt4-HuZD1",
        "outputId": "cda0820f-24a6-46cd-8498-2bfa870c29ca"
      },
      "source": [
        "june1_21.plot(subplots=True, x = 'Date/Time', figsize=(14,8))\n",
        "plt.tick_params(labelsize = '8.0', labelrotation = 1.0)"
      ],
      "execution_count": 295,
      "outputs": [
        {
          "output_type": "display_data",
          "data": {
            "image/png": "[encoded data removed]",
            "text/plain": [
              "<Figure size 1008x576 with 3 Axes>"
            ]
          },
          "metadata": {
            "tags": [],
            "needs_background": "light"
          }
        }
      ]
    },
    {
      "cell_type": "code",
      "metadata": {
        "colab": {
          "base_uri": "https://localhost:8080/",
          "height": 337
        },
        "id": "17Rgiy0Eunil",
        "outputId": "73f3479c-d9c5-4bee-b5b2-05f1648df157"
      },
      "source": [
        "june1_21.plot(x=\"Date/Time\", y= 'PM2.5_ATM_ug/m3', figsize=(20,4))\n",
        "plt.axhline(35.4, color =\"red\")\n",
        "plt.title(\"PM2.5 measurement in Lagos\\non 2021-06-01\", size=15)\n",
        "plt.xlabel('TIME', size=12)\n",
        "plt.ylabel('PM2.5', size=12)"
      ],
      "execution_count": 290,
      "outputs": [
        {
          "output_type": "execute_result",
          "data": {
            "text/plain": [
              "Text(0, 0.5, 'PM2.5')"
            ]
          },
          "metadata": {
            "tags": []
          },
          "execution_count": 290
        },
        {
          "output_type": "display_data",
          "data": {
            "image/png": "[encoded data removed]",
            "text/plain": [
              "<Figure size 1440x288 with 1 Axes>"
            ]
          },
          "metadata": {
            "tags": [],
            "needs_background": "light"
          }
        }
      ]
    },
    {
      "cell_type": "markdown",
      "metadata": {
        "id": "-KngPxpOiwO-"
      },
      "source": [
        "The 24-hour concentration of PM2.5 is considered unhealthy when it rises above 35.4 μg/m3 (microgram per cubic meter) threshold."
      ]
    },
    {
      "cell_type": "markdown",
      "metadata": {
        "id": "ypvadCqgxTEs"
      },
      "source": [
        "From the above, the pollution is maximum in the late hours of the evening and early hours of the morning. This is because of less wind at night and early hours and that allows pollutants like soot to settle closer to the ground. The hours between noon and 6pm is best."
      ]
    }
  ]
}