{
  "nbformat": 4,
  "nbformat_minor": 0,
  "metadata": {
    "colab": {
      "name": "Data Viz 2",
      "provenance": [],
      "collapsed_sections": [],
      "include_colab_link": true
    },
    "kernelspec": {
      "name": "python3",
      "display_name": "Python 3"
    },
    "language_info": {
      "name": "python"
    },
    "accelerator": "GPU"
  },
  "cells": [
    {
      "cell_type": "markdown",
      "metadata": {
        "id": "view-in-github",
        "colab_type": "text"
      },
      "source": [
        "<a href=\"https://colab.research.google.com/github/gideononyewuenyi/Exploratory-analysis/blob/main/Data_Viz_2.ipynb\" target=\"_parent\"><img src=\"https://colab.research.google.com/assets/colab-badge.svg\" alt=\"Open In Colab\"/></a>"
      ]
    },
    {
      "cell_type": "markdown",
      "metadata": {
        "id": "Otbl7NQ70cQ7"
      },
      "source": [
        "**I LEFT SOME NOTE AT THE BOTTOM**"
      ]
    },
    {
      "cell_type": "code",
      "metadata": {
        "id": "rFBRgwp9n4vE"
      },
      "source": [
        "import numpy as np\n",
        "import pandas as pd\n",
        "import matplotlib.pyplot as plt\n",
        "import seaborn as sns\n",
        "sns.set_theme(style=\"whitegrid\")"
      ],
      "execution_count": 1,
      "outputs": []
    },
    {
      "cell_type": "code",
      "metadata": {
        "id": "KP9zX-BUoTYa"
      },
      "source": [
        "url = \"https://raw.githubusercontent.com/gideononyewuenyi/Exploratory-analysis/main/Lekki%20Phase%201%20(outside)%20(6.451397%203.471201)%20Primary%2030_minute_average%2012_17_2019%206_6_2021.csv\"\n",
        "df = pd.read_csv (url, parse_dates=['created_at'])"
      ],
      "execution_count": 2,
      "outputs": []
    },
    {
      "cell_type": "code",
      "metadata": {
        "colab": {
          "base_uri": "https://localhost:8080/",
          "height": 204
        },
        "id": "sFurnb2Vs7Nq",
        "outputId": "b0e71cab-74d0-4589-e8e0-8965309dae18"
      },
      "source": [
        "df.head()"
      ],
      "execution_count": 3,
      "outputs": [
        {
          "output_type": "execute_result",
          "data": {
            "text/html": [
              "<div>\n",
              "<style scoped>\n",
              "    .dataframe tbody tr th:only-of-type {\n",
              "        vertical-align: middle;\n",
              "    }\n",
              "\n",
              "    .dataframe tbody tr th {\n",
              "        vertical-align: top;\n",
              "    }\n",
              "\n",
              "    .dataframe thead th {\n",
              "        text-align: right;\n",
              "    }\n",
              "</style>\n",
              "<table border=\"1\" class=\"dataframe\">\n",
              "  <thead>\n",
              "    <tr style=\"text-align: right;\">\n",
              "      <th></th>\n",
              "      <th>created_at</th>\n",
              "      <th>PM1.0_CF1_ug/m3</th>\n",
              "      <th>PM2.5_CF1_ug/m3</th>\n",
              "      <th>PM10.0_CF1_ug/m3</th>\n",
              "      <th>UptimeMinutes</th>\n",
              "      <th>RSSI_dbm</th>\n",
              "      <th>Temperature_F</th>\n",
              "      <th>Humidity_%</th>\n",
              "      <th>PM2.5_ATM_ug/m3</th>\n",
              "      <th>Unnamed: 9</th>\n",
              "    </tr>\n",
              "  </thead>\n",
              "  <tbody>\n",
              "    <tr>\n",
              "      <th>0</th>\n",
              "      <td>2019-12-17 20:00:00+00:00</td>\n",
              "      <td>1.99</td>\n",
              "      <td>3.05</td>\n",
              "      <td>3.27</td>\n",
              "      <td>3.25</td>\n",
              "      <td>-53.75</td>\n",
              "      <td>72.50</td>\n",
              "      <td>16.50</td>\n",
              "      <td>3.05</td>\n",
              "      <td>NaN</td>\n",
              "    </tr>\n",
              "    <tr>\n",
              "      <th>1</th>\n",
              "      <td>2019-12-17 20:30:00+00:00</td>\n",
              "      <td>1.89</td>\n",
              "      <td>2.80</td>\n",
              "      <td>3.09</td>\n",
              "      <td>11.19</td>\n",
              "      <td>-53.69</td>\n",
              "      <td>73.88</td>\n",
              "      <td>15.12</td>\n",
              "      <td>2.80</td>\n",
              "      <td>NaN</td>\n",
              "    </tr>\n",
              "    <tr>\n",
              "      <th>2</th>\n",
              "      <td>2019-12-17 21:00:00+00:00</td>\n",
              "      <td>34.62</td>\n",
              "      <td>93.43</td>\n",
              "      <td>141.47</td>\n",
              "      <td>38.00</td>\n",
              "      <td>-53.87</td>\n",
              "      <td>74.07</td>\n",
              "      <td>15.40</td>\n",
              "      <td>63.67</td>\n",
              "      <td>NaN</td>\n",
              "    </tr>\n",
              "    <tr>\n",
              "      <th>3</th>\n",
              "      <td>2019-12-17 21:30:00+00:00</td>\n",
              "      <td>0.89</td>\n",
              "      <td>2.59</td>\n",
              "      <td>3.58</td>\n",
              "      <td>68.00</td>\n",
              "      <td>-55.47</td>\n",
              "      <td>76.53</td>\n",
              "      <td>15.00</td>\n",
              "      <td>2.59</td>\n",
              "      <td>NaN</td>\n",
              "    </tr>\n",
              "    <tr>\n",
              "      <th>4</th>\n",
              "      <td>2019-12-17 22:00:00+00:00</td>\n",
              "      <td>0.00</td>\n",
              "      <td>0.00</td>\n",
              "      <td>0.01</td>\n",
              "      <td>98.00</td>\n",
              "      <td>-54.60</td>\n",
              "      <td>77.00</td>\n",
              "      <td>14.87</td>\n",
              "      <td>0.00</td>\n",
              "      <td>NaN</td>\n",
              "    </tr>\n",
              "  </tbody>\n",
              "</table>\n",
              "</div>"
            ],
            "text/plain": [
              "                 created_at  PM1.0_CF1_ug/m3  ...  PM2.5_ATM_ug/m3  Unnamed: 9\n",
              "0 2019-12-17 20:00:00+00:00             1.99  ...             3.05         NaN\n",
              "1 2019-12-17 20:30:00+00:00             1.89  ...             2.80         NaN\n",
              "2 2019-12-17 21:00:00+00:00            34.62  ...            63.67         NaN\n",
              "3 2019-12-17 21:30:00+00:00             0.89  ...             2.59         NaN\n",
              "4 2019-12-17 22:00:00+00:00             0.00  ...             0.00         NaN\n",
              "\n",
              "[5 rows x 10 columns]"
            ]
          },
          "metadata": {
            "tags": []
          },
          "execution_count": 3
        }
      ]
    },
    {
      "cell_type": "code",
      "metadata": {
        "colab": {
          "base_uri": "https://localhost:8080/",
          "height": 306
        },
        "id": "gn6s-ciOGMXs",
        "outputId": "e3a5041c-ccb2-4be2-bce1-84964a85bdbc"
      },
      "source": [
        "df.sample(5)"
      ],
      "execution_count": 4,
      "outputs": [
        {
          "output_type": "execute_result",
          "data": {
            "text/html": [
              "<div>\n",
              "<style scoped>\n",
              "    .dataframe tbody tr th:only-of-type {\n",
              "        vertical-align: middle;\n",
              "    }\n",
              "\n",
              "    .dataframe tbody tr th {\n",
              "        vertical-align: top;\n",
              "    }\n",
              "\n",
              "    .dataframe thead th {\n",
              "        text-align: right;\n",
              "    }\n",
              "</style>\n",
              "<table border=\"1\" class=\"dataframe\">\n",
              "  <thead>\n",
              "    <tr style=\"text-align: right;\">\n",
              "      <th></th>\n",
              "      <th>created_at</th>\n",
              "      <th>PM1.0_CF1_ug/m3</th>\n",
              "      <th>PM2.5_CF1_ug/m3</th>\n",
              "      <th>PM10.0_CF1_ug/m3</th>\n",
              "      <th>UptimeMinutes</th>\n",
              "      <th>RSSI_dbm</th>\n",
              "      <th>Temperature_F</th>\n",
              "      <th>Humidity_%</th>\n",
              "      <th>PM2.5_ATM_ug/m3</th>\n",
              "      <th>Unnamed: 9</th>\n",
              "    </tr>\n",
              "  </thead>\n",
              "  <tbody>\n",
              "    <tr>\n",
              "      <th>17102</th>\n",
              "      <td>2020-08-06 08:30:00+00:00</td>\n",
              "      <td>12.82</td>\n",
              "      <td>19.76</td>\n",
              "      <td>20.62</td>\n",
              "      <td>52878.0</td>\n",
              "      <td>-59.13</td>\n",
              "      <td>86.67</td>\n",
              "      <td>35.00</td>\n",
              "      <td>19.76</td>\n",
              "      <td>NaN</td>\n",
              "    </tr>\n",
              "    <tr>\n",
              "      <th>36963</th>\n",
              "      <td>2021-05-30 03:00:00+00:00</td>\n",
              "      <td>11.54</td>\n",
              "      <td>16.55</td>\n",
              "      <td>17.53</td>\n",
              "      <td>488.0</td>\n",
              "      <td>-71.67</td>\n",
              "      <td>89.80</td>\n",
              "      <td>61.67</td>\n",
              "      <td>16.55</td>\n",
              "      <td>NaN</td>\n",
              "    </tr>\n",
              "    <tr>\n",
              "      <th>22783</th>\n",
              "      <td>2020-10-17 11:00:00+00:00</td>\n",
              "      <td>0.00</td>\n",
              "      <td>0.02</td>\n",
              "      <td>0.07</td>\n",
              "      <td>68153.0</td>\n",
              "      <td>-73.93</td>\n",
              "      <td>73.40</td>\n",
              "      <td>31.00</td>\n",
              "      <td>0.02</td>\n",
              "      <td>NaN</td>\n",
              "    </tr>\n",
              "    <tr>\n",
              "      <th>33764</th>\n",
              "      <td>2021-04-16 05:30:00+00:00</td>\n",
              "      <td>0.13</td>\n",
              "      <td>0.35</td>\n",
              "      <td>0.39</td>\n",
              "      <td>20753.0</td>\n",
              "      <td>-72.07</td>\n",
              "      <td>72.07</td>\n",
              "      <td>20.00</td>\n",
              "      <td>0.35</td>\n",
              "      <td>NaN</td>\n",
              "    </tr>\n",
              "    <tr>\n",
              "      <th>21533</th>\n",
              "      <td>2020-10-04 10:00:00+00:00</td>\n",
              "      <td>0.93</td>\n",
              "      <td>1.18</td>\n",
              "      <td>1.25</td>\n",
              "      <td>49372.0</td>\n",
              "      <td>-78.47</td>\n",
              "      <td>74.00</td>\n",
              "      <td>35.00</td>\n",
              "      <td>1.18</td>\n",
              "      <td>NaN</td>\n",
              "    </tr>\n",
              "  </tbody>\n",
              "</table>\n",
              "</div>"
            ],
            "text/plain": [
              "                     created_at  PM1.0_CF1_ug/m3  ...  PM2.5_ATM_ug/m3  Unnamed: 9\n",
              "17102 2020-08-06 08:30:00+00:00            12.82  ...            19.76         NaN\n",
              "36963 2021-05-30 03:00:00+00:00            11.54  ...            16.55         NaN\n",
              "22783 2020-10-17 11:00:00+00:00             0.00  ...             0.02         NaN\n",
              "33764 2021-04-16 05:30:00+00:00             0.13  ...             0.35         NaN\n",
              "21533 2020-10-04 10:00:00+00:00             0.93  ...             1.18         NaN\n",
              "\n",
              "[5 rows x 10 columns]"
            ]
          },
          "metadata": {
            "tags": []
          },
          "execution_count": 4
        }
      ]
    },
    {
      "cell_type": "code",
      "metadata": {
        "id": "mK9sAhXqwh8y"
      },
      "source": [
        ""
      ],
      "execution_count": 4,
      "outputs": []
    },
    {
      "cell_type": "code",
      "metadata": {
        "colab": {
          "base_uri": "https://localhost:8080/",
          "height": 297
        },
        "id": "IMeg93xptTu3",
        "outputId": "4001efe3-d450-445c-a096-082e67b281ea"
      },
      "source": [
        "df.describe()"
      ],
      "execution_count": 5,
      "outputs": [
        {
          "output_type": "execute_result",
          "data": {
            "text/html": [
              "<div>\n",
              "<style scoped>\n",
              "    .dataframe tbody tr th:only-of-type {\n",
              "        vertical-align: middle;\n",
              "    }\n",
              "\n",
              "    .dataframe tbody tr th {\n",
              "        vertical-align: top;\n",
              "    }\n",
              "\n",
              "    .dataframe thead th {\n",
              "        text-align: right;\n",
              "    }\n",
              "</style>\n",
              "<table border=\"1\" class=\"dataframe\">\n",
              "  <thead>\n",
              "    <tr style=\"text-align: right;\">\n",
              "      <th></th>\n",
              "      <th>PM1.0_CF1_ug/m3</th>\n",
              "      <th>PM2.5_CF1_ug/m3</th>\n",
              "      <th>PM10.0_CF1_ug/m3</th>\n",
              "      <th>UptimeMinutes</th>\n",
              "      <th>RSSI_dbm</th>\n",
              "      <th>Temperature_F</th>\n",
              "      <th>Humidity_%</th>\n",
              "      <th>PM2.5_ATM_ug/m3</th>\n",
              "      <th>Unnamed: 9</th>\n",
              "    </tr>\n",
              "  </thead>\n",
              "  <tbody>\n",
              "    <tr>\n",
              "      <th>count</th>\n",
              "      <td>37538.000000</td>\n",
              "      <td>37538.000000</td>\n",
              "      <td>37538.000000</td>\n",
              "      <td>37538.000000</td>\n",
              "      <td>37538.000000</td>\n",
              "      <td>37538.000000</td>\n",
              "      <td>37538.000000</td>\n",
              "      <td>37538.000000</td>\n",
              "      <td>0.0</td>\n",
              "    </tr>\n",
              "    <tr>\n",
              "      <th>mean</th>\n",
              "      <td>6.007100</td>\n",
              "      <td>8.584424</td>\n",
              "      <td>9.092260</td>\n",
              "      <td>22233.899164</td>\n",
              "      <td>-66.844293</td>\n",
              "      <td>78.717398</td>\n",
              "      <td>31.854816</td>\n",
              "      <td>7.991469</td>\n",
              "      <td>NaN</td>\n",
              "    </tr>\n",
              "    <tr>\n",
              "      <th>std</th>\n",
              "      <td>10.415071</td>\n",
              "      <td>16.605593</td>\n",
              "      <td>18.286916</td>\n",
              "      <td>18422.876237</td>\n",
              "      <td>8.783105</td>\n",
              "      <td>6.350175</td>\n",
              "      <td>12.522367</td>\n",
              "      <td>12.175910</td>\n",
              "      <td>NaN</td>\n",
              "    </tr>\n",
              "    <tr>\n",
              "      <th>min</th>\n",
              "      <td>0.000000</td>\n",
              "      <td>0.000000</td>\n",
              "      <td>0.000000</td>\n",
              "      <td>2.000000</td>\n",
              "      <td>-87.000000</td>\n",
              "      <td>52.200000</td>\n",
              "      <td>10.000000</td>\n",
              "      <td>0.000000</td>\n",
              "      <td>NaN</td>\n",
              "    </tr>\n",
              "    <tr>\n",
              "      <th>25%</th>\n",
              "      <td>1.470000</td>\n",
              "      <td>2.120000</td>\n",
              "      <td>2.280000</td>\n",
              "      <td>6348.000000</td>\n",
              "      <td>-74.200000</td>\n",
              "      <td>73.930000</td>\n",
              "      <td>22.000000</td>\n",
              "      <td>2.120000</td>\n",
              "      <td>NaN</td>\n",
              "    </tr>\n",
              "    <tr>\n",
              "      <th>50%</th>\n",
              "      <td>3.470000</td>\n",
              "      <td>4.750000</td>\n",
              "      <td>5.030000</td>\n",
              "      <td>18293.000000</td>\n",
              "      <td>-69.930000</td>\n",
              "      <td>79.000000</td>\n",
              "      <td>30.000000</td>\n",
              "      <td>4.750000</td>\n",
              "      <td>NaN</td>\n",
              "    </tr>\n",
              "    <tr>\n",
              "      <th>75%</th>\n",
              "      <td>6.990000</td>\n",
              "      <td>9.580000</td>\n",
              "      <td>10.037500</td>\n",
              "      <td>34524.000000</td>\n",
              "      <td>-58.330000</td>\n",
              "      <td>83.000000</td>\n",
              "      <td>40.530000</td>\n",
              "      <td>9.570000</td>\n",
              "      <td>NaN</td>\n",
              "    </tr>\n",
              "    <tr>\n",
              "      <th>max</th>\n",
              "      <td>360.400000</td>\n",
              "      <td>737.140000</td>\n",
              "      <td>848.470000</td>\n",
              "      <td>71568.000000</td>\n",
              "      <td>-52.600000</td>\n",
              "      <td>105.270000</td>\n",
              "      <td>84.730000</td>\n",
              "      <td>490.740000</td>\n",
              "      <td>NaN</td>\n",
              "    </tr>\n",
              "  </tbody>\n",
              "</table>\n",
              "</div>"
            ],
            "text/plain": [
              "       PM1.0_CF1_ug/m3  PM2.5_CF1_ug/m3  ...  PM2.5_ATM_ug/m3  Unnamed: 9\n",
              "count     37538.000000     37538.000000  ...     37538.000000         0.0\n",
              "mean          6.007100         8.584424  ...         7.991469         NaN\n",
              "std          10.415071        16.605593  ...        12.175910         NaN\n",
              "min           0.000000         0.000000  ...         0.000000         NaN\n",
              "25%           1.470000         2.120000  ...         2.120000         NaN\n",
              "50%           3.470000         4.750000  ...         4.750000         NaN\n",
              "75%           6.990000         9.580000  ...         9.570000         NaN\n",
              "max         360.400000       737.140000  ...       490.740000         NaN\n",
              "\n",
              "[8 rows x 9 columns]"
            ]
          },
          "metadata": {
            "tags": []
          },
          "execution_count": 5
        }
      ]
    },
    {
      "cell_type": "code",
      "metadata": {
        "id": "D6c87ncCtgjO",
        "colab": {
          "base_uri": "https://localhost:8080/"
        },
        "outputId": "e153b408-b39a-4bf6-c9a6-d3e1088ea40e"
      },
      "source": [
        "df.shape"
      ],
      "execution_count": 6,
      "outputs": [
        {
          "output_type": "execute_result",
          "data": {
            "text/plain": [
              "(37595, 10)"
            ]
          },
          "metadata": {
            "tags": []
          },
          "execution_count": 6
        }
      ]
    },
    {
      "cell_type": "code",
      "metadata": {
        "colab": {
          "base_uri": "https://localhost:8080/"
        },
        "id": "1Z6GMH8e7Pw5",
        "outputId": "947ed6d2-c4e0-4bc1-ebdd-23319a7de0f6"
      },
      "source": [
        "df.columns"
      ],
      "execution_count": 7,
      "outputs": [
        {
          "output_type": "execute_result",
          "data": {
            "text/plain": [
              "Index(['created_at', 'PM1.0_CF1_ug/m3', 'PM2.5_CF1_ug/m3', 'PM10.0_CF1_ug/m3',\n",
              "       'UptimeMinutes', 'RSSI_dbm', 'Temperature_F', 'Humidity_%',\n",
              "       'PM2.5_ATM_ug/m3', 'Unnamed: 9'],\n",
              "      dtype='object')"
            ]
          },
          "metadata": {
            "tags": []
          },
          "execution_count": 7
        }
      ]
    },
    {
      "cell_type": "code",
      "metadata": {
        "colab": {
          "base_uri": "https://localhost:8080/"
        },
        "id": "E3iulhU47YFn",
        "outputId": "e74d95ce-cb63-40cb-a115-4972c2fb2a9f"
      },
      "source": [
        "df.dtypes"
      ],
      "execution_count": 8,
      "outputs": [
        {
          "output_type": "execute_result",
          "data": {
            "text/plain": [
              "created_at          datetime64[ns, UTC]\n",
              "PM1.0_CF1_ug/m3                 float64\n",
              "PM2.5_CF1_ug/m3                 float64\n",
              "PM10.0_CF1_ug/m3                float64\n",
              "UptimeMinutes                   float64\n",
              "RSSI_dbm                        float64\n",
              "Temperature_F                   float64\n",
              "Humidity_%                      float64\n",
              "PM2.5_ATM_ug/m3                 float64\n",
              "Unnamed: 9                      float64\n",
              "dtype: object"
            ]
          },
          "metadata": {
            "tags": []
          },
          "execution_count": 8
        }
      ]
    },
    {
      "cell_type": "code",
      "metadata": {
        "colab": {
          "base_uri": "https://localhost:8080/"
        },
        "id": "kJxd-8897lsB",
        "outputId": "75581571-b017-47b6-d937-7862276c8f3a"
      },
      "source": [
        "df.isnull().sum()"
      ],
      "execution_count": 9,
      "outputs": [
        {
          "output_type": "execute_result",
          "data": {
            "text/plain": [
              "created_at              0\n",
              "PM1.0_CF1_ug/m3        57\n",
              "PM2.5_CF1_ug/m3        57\n",
              "PM10.0_CF1_ug/m3       57\n",
              "UptimeMinutes          57\n",
              "RSSI_dbm               57\n",
              "Temperature_F          57\n",
              "Humidity_%             57\n",
              "PM2.5_ATM_ug/m3        57\n",
              "Unnamed: 9          37595\n",
              "dtype: int64"
            ]
          },
          "metadata": {
            "tags": []
          },
          "execution_count": 9
        }
      ]
    },
    {
      "cell_type": "code",
      "metadata": {
        "colab": {
          "base_uri": "https://localhost:8080/"
        },
        "id": "zPrGK9FG8HRl",
        "outputId": "f37f71f2-4118-45e7-e59b-ae09ae253210"
      },
      "source": [
        "df.isnull().sum().sum()"
      ],
      "execution_count": 10,
      "outputs": [
        {
          "output_type": "execute_result",
          "data": {
            "text/plain": [
              "38051"
            ]
          },
          "metadata": {
            "tags": []
          },
          "execution_count": 10
        }
      ]
    },
    {
      "cell_type": "code",
      "metadata": {
        "id": "KjMAURFp8zhv"
      },
      "source": [
        "new_df=df.drop(columns = ['Unnamed: 9'])"
      ],
      "execution_count": 11,
      "outputs": []
    },
    {
      "cell_type": "code",
      "metadata": {
        "colab": {
          "base_uri": "https://localhost:8080/"
        },
        "id": "VAM43cNP9beC",
        "outputId": "dee0fd2b-8819-4aef-d09a-7e3f53281850"
      },
      "source": [
        "new_df.columns"
      ],
      "execution_count": 12,
      "outputs": [
        {
          "output_type": "execute_result",
          "data": {
            "text/plain": [
              "Index(['created_at', 'PM1.0_CF1_ug/m3', 'PM2.5_CF1_ug/m3', 'PM10.0_CF1_ug/m3',\n",
              "       'UptimeMinutes', 'RSSI_dbm', 'Temperature_F', 'Humidity_%',\n",
              "       'PM2.5_ATM_ug/m3'],\n",
              "      dtype='object')"
            ]
          },
          "metadata": {
            "tags": []
          },
          "execution_count": 12
        }
      ]
    },
    {
      "cell_type": "code",
      "metadata": {
        "colab": {
          "base_uri": "https://localhost:8080/"
        },
        "id": "6BOtqUPS-HhL",
        "outputId": "3fc17855-0e4d-43bf-c6b4-b1e24e9b5e3f"
      },
      "source": [
        "new_df.isnull().sum()"
      ],
      "execution_count": 13,
      "outputs": [
        {
          "output_type": "execute_result",
          "data": {
            "text/plain": [
              "created_at           0\n",
              "PM1.0_CF1_ug/m3     57\n",
              "PM2.5_CF1_ug/m3     57\n",
              "PM10.0_CF1_ug/m3    57\n",
              "UptimeMinutes       57\n",
              "RSSI_dbm            57\n",
              "Temperature_F       57\n",
              "Humidity_%          57\n",
              "PM2.5_ATM_ug/m3     57\n",
              "dtype: int64"
            ]
          },
          "metadata": {
            "tags": []
          },
          "execution_count": 13
        }
      ]
    },
    {
      "cell_type": "code",
      "metadata": {
        "colab": {
          "base_uri": "https://localhost:8080/"
        },
        "id": "8BXSjAh8_FmC",
        "outputId": "32a08359-202d-4b4c-af65-6e21c52cadf6"
      },
      "source": [
        "new_df.isnull().sum().sum()"
      ],
      "execution_count": 14,
      "outputs": [
        {
          "output_type": "execute_result",
          "data": {
            "text/plain": [
              "456"
            ]
          },
          "metadata": {
            "tags": []
          },
          "execution_count": 14
        }
      ]
    },
    {
      "cell_type": "code",
      "metadata": {
        "colab": {
          "base_uri": "https://localhost:8080/"
        },
        "id": "kQSR0-lE-28-",
        "outputId": "5bdbf460-8168-462a-dfbc-51bcb4bf320a"
      },
      "source": [
        "new_df.shape"
      ],
      "execution_count": 15,
      "outputs": [
        {
          "output_type": "execute_result",
          "data": {
            "text/plain": [
              "(37595, 9)"
            ]
          },
          "metadata": {
            "tags": []
          },
          "execution_count": 15
        }
      ]
    },
    {
      "cell_type": "code",
      "metadata": {
        "id": "IA2inO6D-SWD"
      },
      "source": [
        "new_df_drop = new_df.dropna()"
      ],
      "execution_count": 16,
      "outputs": []
    },
    {
      "cell_type": "code",
      "metadata": {
        "colab": {
          "base_uri": "https://localhost:8080/"
        },
        "id": "XhZB3qPs_VXf",
        "outputId": "3b0384f7-6f10-4304-c85f-6744ee1ead58"
      },
      "source": [
        "new_df_drop.shape"
      ],
      "execution_count": 17,
      "outputs": [
        {
          "output_type": "execute_result",
          "data": {
            "text/plain": [
              "(37538, 9)"
            ]
          },
          "metadata": {
            "tags": []
          },
          "execution_count": 17
        }
      ]
    },
    {
      "cell_type": "code",
      "metadata": {
        "colab": {
          "base_uri": "https://localhost:8080/"
        },
        "id": "VgjUtDmy_hC1",
        "outputId": "5752331b-50eb-483a-fc8a-478f3cc6cac6"
      },
      "source": [
        "new_df_drop.isnull().sum()"
      ],
      "execution_count": 18,
      "outputs": [
        {
          "output_type": "execute_result",
          "data": {
            "text/plain": [
              "created_at          0\n",
              "PM1.0_CF1_ug/m3     0\n",
              "PM2.5_CF1_ug/m3     0\n",
              "PM10.0_CF1_ug/m3    0\n",
              "UptimeMinutes       0\n",
              "RSSI_dbm            0\n",
              "Temperature_F       0\n",
              "Humidity_%          0\n",
              "PM2.5_ATM_ug/m3     0\n",
              "dtype: int64"
            ]
          },
          "metadata": {
            "tags": []
          },
          "execution_count": 18
        }
      ]
    },
    {
      "cell_type": "code",
      "metadata": {
        "id": "7L8XBh1L_pBG"
      },
      "source": [
        "new_df_ffill = new_df.fillna(method='ffill')"
      ],
      "execution_count": 19,
      "outputs": []
    },
    {
      "cell_type": "code",
      "metadata": {
        "id": "XXJ8hWByAc9S"
      },
      "source": [
        "new_df_bfill = new_df.fillna(method='bfill')"
      ],
      "execution_count": 20,
      "outputs": []
    },
    {
      "cell_type": "code",
      "metadata": {
        "colab": {
          "base_uri": "https://localhost:8080/"
        },
        "id": "JLvCnaoQAt6i",
        "outputId": "ec619014-aaef-47d8-bd3c-3791f372ef72"
      },
      "source": [
        "new_df_ffill.shape"
      ],
      "execution_count": 21,
      "outputs": [
        {
          "output_type": "execute_result",
          "data": {
            "text/plain": [
              "(37595, 9)"
            ]
          },
          "metadata": {
            "tags": []
          },
          "execution_count": 21
        }
      ]
    },
    {
      "cell_type": "code",
      "metadata": {
        "colab": {
          "base_uri": "https://localhost:8080/"
        },
        "id": "VKUtbSnjAxky",
        "outputId": "7a7b109a-1668-476d-cf64-accde9b5db4a"
      },
      "source": [
        "new_df_bfill.shape"
      ],
      "execution_count": 22,
      "outputs": [
        {
          "output_type": "execute_result",
          "data": {
            "text/plain": [
              "(37595, 9)"
            ]
          },
          "metadata": {
            "tags": []
          },
          "execution_count": 22
        }
      ]
    },
    {
      "cell_type": "code",
      "metadata": {
        "colab": {
          "base_uri": "https://localhost:8080/"
        },
        "id": "zCYgdCynA0ys",
        "outputId": "583c6acd-b182-492a-ba26-4b086d40c12d"
      },
      "source": [
        "new_df_drop.shape"
      ],
      "execution_count": 23,
      "outputs": [
        {
          "output_type": "execute_result",
          "data": {
            "text/plain": [
              "(37538, 9)"
            ]
          },
          "metadata": {
            "tags": []
          },
          "execution_count": 23
        }
      ]
    },
    {
      "cell_type": "code",
      "metadata": {
        "id": "5dt7ZHyZA3rP",
        "colab": {
          "base_uri": "https://localhost:8080/",
          "height": 204
        },
        "outputId": "fd337a4f-c6ae-44fd-f67f-547c684f8285"
      },
      "source": [
        "new_df_ffill.head()"
      ],
      "execution_count": 24,
      "outputs": [
        {
          "output_type": "execute_result",
          "data": {
            "text/html": [
              "<div>\n",
              "<style scoped>\n",
              "    .dataframe tbody tr th:only-of-type {\n",
              "        vertical-align: middle;\n",
              "    }\n",
              "\n",
              "    .dataframe tbody tr th {\n",
              "        vertical-align: top;\n",
              "    }\n",
              "\n",
              "    .dataframe thead th {\n",
              "        text-align: right;\n",
              "    }\n",
              "</style>\n",
              "<table border=\"1\" class=\"dataframe\">\n",
              "  <thead>\n",
              "    <tr style=\"text-align: right;\">\n",
              "      <th></th>\n",
              "      <th>created_at</th>\n",
              "      <th>PM1.0_CF1_ug/m3</th>\n",
              "      <th>PM2.5_CF1_ug/m3</th>\n",
              "      <th>PM10.0_CF1_ug/m3</th>\n",
              "      <th>UptimeMinutes</th>\n",
              "      <th>RSSI_dbm</th>\n",
              "      <th>Temperature_F</th>\n",
              "      <th>Humidity_%</th>\n",
              "      <th>PM2.5_ATM_ug/m3</th>\n",
              "    </tr>\n",
              "  </thead>\n",
              "  <tbody>\n",
              "    <tr>\n",
              "      <th>0</th>\n",
              "      <td>2019-12-17 20:00:00+00:00</td>\n",
              "      <td>1.99</td>\n",
              "      <td>3.05</td>\n",
              "      <td>3.27</td>\n",
              "      <td>3.25</td>\n",
              "      <td>-53.75</td>\n",
              "      <td>72.50</td>\n",
              "      <td>16.50</td>\n",
              "      <td>3.05</td>\n",
              "    </tr>\n",
              "    <tr>\n",
              "      <th>1</th>\n",
              "      <td>2019-12-17 20:30:00+00:00</td>\n",
              "      <td>1.89</td>\n",
              "      <td>2.80</td>\n",
              "      <td>3.09</td>\n",
              "      <td>11.19</td>\n",
              "      <td>-53.69</td>\n",
              "      <td>73.88</td>\n",
              "      <td>15.12</td>\n",
              "      <td>2.80</td>\n",
              "    </tr>\n",
              "    <tr>\n",
              "      <th>2</th>\n",
              "      <td>2019-12-17 21:00:00+00:00</td>\n",
              "      <td>34.62</td>\n",
              "      <td>93.43</td>\n",
              "      <td>141.47</td>\n",
              "      <td>38.00</td>\n",
              "      <td>-53.87</td>\n",
              "      <td>74.07</td>\n",
              "      <td>15.40</td>\n",
              "      <td>63.67</td>\n",
              "    </tr>\n",
              "    <tr>\n",
              "      <th>3</th>\n",
              "      <td>2019-12-17 21:30:00+00:00</td>\n",
              "      <td>0.89</td>\n",
              "      <td>2.59</td>\n",
              "      <td>3.58</td>\n",
              "      <td>68.00</td>\n",
              "      <td>-55.47</td>\n",
              "      <td>76.53</td>\n",
              "      <td>15.00</td>\n",
              "      <td>2.59</td>\n",
              "    </tr>\n",
              "    <tr>\n",
              "      <th>4</th>\n",
              "      <td>2019-12-17 22:00:00+00:00</td>\n",
              "      <td>0.00</td>\n",
              "      <td>0.00</td>\n",
              "      <td>0.01</td>\n",
              "      <td>98.00</td>\n",
              "      <td>-54.60</td>\n",
              "      <td>77.00</td>\n",
              "      <td>14.87</td>\n",
              "      <td>0.00</td>\n",
              "    </tr>\n",
              "  </tbody>\n",
              "</table>\n",
              "</div>"
            ],
            "text/plain": [
              "                 created_at  PM1.0_CF1_ug/m3  ...  Humidity_%  PM2.5_ATM_ug/m3\n",
              "0 2019-12-17 20:00:00+00:00             1.99  ...       16.50             3.05\n",
              "1 2019-12-17 20:30:00+00:00             1.89  ...       15.12             2.80\n",
              "2 2019-12-17 21:00:00+00:00            34.62  ...       15.40            63.67\n",
              "3 2019-12-17 21:30:00+00:00             0.89  ...       15.00             2.59\n",
              "4 2019-12-17 22:00:00+00:00             0.00  ...       14.87             0.00\n",
              "\n",
              "[5 rows x 9 columns]"
            ]
          },
          "metadata": {
            "tags": []
          },
          "execution_count": 24
        }
      ]
    },
    {
      "cell_type": "code",
      "metadata": {
        "colab": {
          "base_uri": "https://localhost:8080/",
          "height": 204
        },
        "id": "C2nl9q0aAVG4",
        "outputId": "136f5c47-6c20-42f6-fcf3-2b5891c369cc"
      },
      "source": [
        "new_df_ffill.tail()"
      ],
      "execution_count": 34,
      "outputs": [
        {
          "output_type": "execute_result",
          "data": {
            "text/html": [
              "<div>\n",
              "<style scoped>\n",
              "    .dataframe tbody tr th:only-of-type {\n",
              "        vertical-align: middle;\n",
              "    }\n",
              "\n",
              "    .dataframe tbody tr th {\n",
              "        vertical-align: top;\n",
              "    }\n",
              "\n",
              "    .dataframe thead th {\n",
              "        text-align: right;\n",
              "    }\n",
              "</style>\n",
              "<table border=\"1\" class=\"dataframe\">\n",
              "  <thead>\n",
              "    <tr style=\"text-align: right;\">\n",
              "      <th></th>\n",
              "      <th>created_at</th>\n",
              "      <th>PM1.0_CF1_ug/m3</th>\n",
              "      <th>PM2.5_CF1_ug/m3</th>\n",
              "      <th>PM10.0_CF1_ug/m3</th>\n",
              "      <th>UptimeMinutes</th>\n",
              "      <th>RSSI_dbm</th>\n",
              "      <th>Temperature_F</th>\n",
              "      <th>Humidity_%</th>\n",
              "      <th>PM2.5_ATM_ug/m3</th>\n",
              "    </tr>\n",
              "  </thead>\n",
              "  <tbody>\n",
              "    <tr>\n",
              "      <th>37590</th>\n",
              "      <td>2021-06-06 06:00:00+00:00</td>\n",
              "      <td>40.47</td>\n",
              "      <td>56.64</td>\n",
              "      <td>59.53</td>\n",
              "      <td>798.0</td>\n",
              "      <td>-77.33</td>\n",
              "      <td>86.00</td>\n",
              "      <td>64.00</td>\n",
              "      <td>44.06</td>\n",
              "    </tr>\n",
              "    <tr>\n",
              "      <th>37591</th>\n",
              "      <td>2021-06-06 06:30:00+00:00</td>\n",
              "      <td>40.47</td>\n",
              "      <td>56.64</td>\n",
              "      <td>59.53</td>\n",
              "      <td>798.0</td>\n",
              "      <td>-77.33</td>\n",
              "      <td>86.00</td>\n",
              "      <td>64.00</td>\n",
              "      <td>44.06</td>\n",
              "    </tr>\n",
              "    <tr>\n",
              "      <th>37592</th>\n",
              "      <td>2021-06-06 07:00:00+00:00</td>\n",
              "      <td>26.22</td>\n",
              "      <td>37.35</td>\n",
              "      <td>39.07</td>\n",
              "      <td>962.0</td>\n",
              "      <td>-82.31</td>\n",
              "      <td>88.38</td>\n",
              "      <td>62.62</td>\n",
              "      <td>34.06</td>\n",
              "    </tr>\n",
              "    <tr>\n",
              "      <th>37593</th>\n",
              "      <td>2021-06-06 07:30:00+00:00</td>\n",
              "      <td>23.22</td>\n",
              "      <td>33.16</td>\n",
              "      <td>34.51</td>\n",
              "      <td>990.0</td>\n",
              "      <td>-75.20</td>\n",
              "      <td>89.73</td>\n",
              "      <td>57.33</td>\n",
              "      <td>31.54</td>\n",
              "    </tr>\n",
              "    <tr>\n",
              "      <th>37594</th>\n",
              "      <td>2021-06-06 08:00:00+00:00</td>\n",
              "      <td>23.23</td>\n",
              "      <td>32.86</td>\n",
              "      <td>33.53</td>\n",
              "      <td>1008.0</td>\n",
              "      <td>-75.67</td>\n",
              "      <td>91.00</td>\n",
              "      <td>55.33</td>\n",
              "      <td>31.37</td>\n",
              "    </tr>\n",
              "  </tbody>\n",
              "</table>\n",
              "</div>"
            ],
            "text/plain": [
              "                     created_at  PM1.0_CF1_ug/m3  ...  Humidity_%  PM2.5_ATM_ug/m3\n",
              "37590 2021-06-06 06:00:00+00:00            40.47  ...       64.00            44.06\n",
              "37591 2021-06-06 06:30:00+00:00            40.47  ...       64.00            44.06\n",
              "37592 2021-06-06 07:00:00+00:00            26.22  ...       62.62            34.06\n",
              "37593 2021-06-06 07:30:00+00:00            23.22  ...       57.33            31.54\n",
              "37594 2021-06-06 08:00:00+00:00            23.23  ...       55.33            31.37\n",
              "\n",
              "[5 rows x 9 columns]"
            ]
          },
          "metadata": {
            "tags": []
          },
          "execution_count": 34
        }
      ]
    },
    {
      "cell_type": "code",
      "metadata": {
        "colab": {
          "base_uri": "https://localhost:8080/",
          "height": 204
        },
        "id": "O6RFgTj6CR5A",
        "outputId": "5b5870c4-0f9a-4fe1-d1c5-4a7d6b19698c"
      },
      "source": [
        "new_df_ffill.sample(5)"
      ],
      "execution_count": 37,
      "outputs": [
        {
          "output_type": "execute_result",
          "data": {
            "text/html": [
              "<div>\n",
              "<style scoped>\n",
              "    .dataframe tbody tr th:only-of-type {\n",
              "        vertical-align: middle;\n",
              "    }\n",
              "\n",
              "    .dataframe tbody tr th {\n",
              "        vertical-align: top;\n",
              "    }\n",
              "\n",
              "    .dataframe thead th {\n",
              "        text-align: right;\n",
              "    }\n",
              "</style>\n",
              "<table border=\"1\" class=\"dataframe\">\n",
              "  <thead>\n",
              "    <tr style=\"text-align: right;\">\n",
              "      <th></th>\n",
              "      <th>created_at</th>\n",
              "      <th>PM1.0_CF1_ug/m3</th>\n",
              "      <th>PM2.5_CF1_ug/m3</th>\n",
              "      <th>PM10.0_CF1_ug/m3</th>\n",
              "      <th>UptimeMinutes</th>\n",
              "      <th>RSSI_dbm</th>\n",
              "      <th>Temperature_F</th>\n",
              "      <th>Humidity_%</th>\n",
              "      <th>PM2.5_ATM_ug/m3</th>\n",
              "    </tr>\n",
              "  </thead>\n",
              "  <tbody>\n",
              "    <tr>\n",
              "      <th>30652</th>\n",
              "      <td>2021-03-14 09:30:00+00:00</td>\n",
              "      <td>6.41</td>\n",
              "      <td>8.87</td>\n",
              "      <td>9.28</td>\n",
              "      <td>34315.0</td>\n",
              "      <td>-69.53</td>\n",
              "      <td>72.0</td>\n",
              "      <td>30.00</td>\n",
              "      <td>8.87</td>\n",
              "    </tr>\n",
              "    <tr>\n",
              "      <th>27565</th>\n",
              "      <td>2021-01-09 02:00:00+00:00</td>\n",
              "      <td>6.24</td>\n",
              "      <td>9.06</td>\n",
              "      <td>9.75</td>\n",
              "      <td>16533.0</td>\n",
              "      <td>-73.60</td>\n",
              "      <td>72.8</td>\n",
              "      <td>18.27</td>\n",
              "      <td>9.06</td>\n",
              "    </tr>\n",
              "    <tr>\n",
              "      <th>14798</th>\n",
              "      <td>2020-07-13 08:30:00+00:00</td>\n",
              "      <td>4.66</td>\n",
              "      <td>5.86</td>\n",
              "      <td>5.98</td>\n",
              "      <td>18318.0</td>\n",
              "      <td>-57.47</td>\n",
              "      <td>82.0</td>\n",
              "      <td>33.73</td>\n",
              "      <td>5.86</td>\n",
              "    </tr>\n",
              "    <tr>\n",
              "      <th>11418</th>\n",
              "      <td>2020-06-08 22:30:00+00:00</td>\n",
              "      <td>6.39</td>\n",
              "      <td>9.17</td>\n",
              "      <td>9.84</td>\n",
              "      <td>1082.0</td>\n",
              "      <td>-58.53</td>\n",
              "      <td>86.0</td>\n",
              "      <td>34.00</td>\n",
              "      <td>9.17</td>\n",
              "    </tr>\n",
              "    <tr>\n",
              "      <th>5256</th>\n",
              "      <td>2020-03-28 18:30:00+00:00</td>\n",
              "      <td>6.70</td>\n",
              "      <td>9.08</td>\n",
              "      <td>9.65</td>\n",
              "      <td>34306.0</td>\n",
              "      <td>-56.73</td>\n",
              "      <td>79.0</td>\n",
              "      <td>26.00</td>\n",
              "      <td>9.08</td>\n",
              "    </tr>\n",
              "  </tbody>\n",
              "</table>\n",
              "</div>"
            ],
            "text/plain": [
              "                     created_at  PM1.0_CF1_ug/m3  ...  Humidity_%  PM2.5_ATM_ug/m3\n",
              "30652 2021-03-14 09:30:00+00:00             6.41  ...       30.00             8.87\n",
              "27565 2021-01-09 02:00:00+00:00             6.24  ...       18.27             9.06\n",
              "14798 2020-07-13 08:30:00+00:00             4.66  ...       33.73             5.86\n",
              "11418 2020-06-08 22:30:00+00:00             6.39  ...       34.00             9.17\n",
              "5256  2020-03-28 18:30:00+00:00             6.70  ...       26.00             9.08\n",
              "\n",
              "[5 rows x 9 columns]"
            ]
          },
          "metadata": {
            "tags": []
          },
          "execution_count": 37
        }
      ]
    },
    {
      "cell_type": "code",
      "metadata": {
        "colab": {
          "base_uri": "https://localhost:8080/",
          "height": 297
        },
        "id": "jZ2vD8DExIjg",
        "outputId": "58892383-5dbc-4a17-cae5-9ecb4cfc6aa4"
      },
      "source": [
        "new_df_ffill.describe()"
      ],
      "execution_count": 35,
      "outputs": [
        {
          "output_type": "execute_result",
          "data": {
            "text/html": [
              "<div>\n",
              "<style scoped>\n",
              "    .dataframe tbody tr th:only-of-type {\n",
              "        vertical-align: middle;\n",
              "    }\n",
              "\n",
              "    .dataframe tbody tr th {\n",
              "        vertical-align: top;\n",
              "    }\n",
              "\n",
              "    .dataframe thead th {\n",
              "        text-align: right;\n",
              "    }\n",
              "</style>\n",
              "<table border=\"1\" class=\"dataframe\">\n",
              "  <thead>\n",
              "    <tr style=\"text-align: right;\">\n",
              "      <th></th>\n",
              "      <th>PM1.0_CF1_ug/m3</th>\n",
              "      <th>PM2.5_CF1_ug/m3</th>\n",
              "      <th>PM10.0_CF1_ug/m3</th>\n",
              "      <th>UptimeMinutes</th>\n",
              "      <th>RSSI_dbm</th>\n",
              "      <th>Temperature_F</th>\n",
              "      <th>Humidity_%</th>\n",
              "      <th>PM2.5_ATM_ug/m3</th>\n",
              "    </tr>\n",
              "  </thead>\n",
              "  <tbody>\n",
              "    <tr>\n",
              "      <th>count</th>\n",
              "      <td>37595.000000</td>\n",
              "      <td>37595.000000</td>\n",
              "      <td>37595.000000</td>\n",
              "      <td>37595.000000</td>\n",
              "      <td>37595.000000</td>\n",
              "      <td>37595.00000</td>\n",
              "      <td>37595.000000</td>\n",
              "      <td>37595.000000</td>\n",
              "    </tr>\n",
              "    <tr>\n",
              "      <th>mean</th>\n",
              "      <td>6.007333</td>\n",
              "      <td>8.583804</td>\n",
              "      <td>9.091479</td>\n",
              "      <td>22210.031092</td>\n",
              "      <td>-66.849480</td>\n",
              "      <td>78.72105</td>\n",
              "      <td>31.860672</td>\n",
              "      <td>7.990410</td>\n",
              "    </tr>\n",
              "    <tr>\n",
              "      <th>std</th>\n",
              "      <td>10.414809</td>\n",
              "      <td>16.602185</td>\n",
              "      <td>18.282239</td>\n",
              "      <td>18421.318729</td>\n",
              "      <td>8.782886</td>\n",
              "      <td>6.35755</td>\n",
              "      <td>12.536009</td>\n",
              "      <td>12.174536</td>\n",
              "    </tr>\n",
              "    <tr>\n",
              "      <th>min</th>\n",
              "      <td>0.000000</td>\n",
              "      <td>0.000000</td>\n",
              "      <td>0.000000</td>\n",
              "      <td>2.000000</td>\n",
              "      <td>-87.000000</td>\n",
              "      <td>52.20000</td>\n",
              "      <td>10.000000</td>\n",
              "      <td>0.000000</td>\n",
              "    </tr>\n",
              "    <tr>\n",
              "      <th>25%</th>\n",
              "      <td>1.460000</td>\n",
              "      <td>2.120000</td>\n",
              "      <td>2.280000</td>\n",
              "      <td>6326.500000</td>\n",
              "      <td>-74.200000</td>\n",
              "      <td>73.93000</td>\n",
              "      <td>22.000000</td>\n",
              "      <td>2.120000</td>\n",
              "    </tr>\n",
              "    <tr>\n",
              "      <th>50%</th>\n",
              "      <td>3.460000</td>\n",
              "      <td>4.750000</td>\n",
              "      <td>5.030000</td>\n",
              "      <td>18243.000000</td>\n",
              "      <td>-69.930000</td>\n",
              "      <td>79.00000</td>\n",
              "      <td>30.000000</td>\n",
              "      <td>4.750000</td>\n",
              "    </tr>\n",
              "    <tr>\n",
              "      <th>75%</th>\n",
              "      <td>6.990000</td>\n",
              "      <td>9.580000</td>\n",
              "      <td>10.035000</td>\n",
              "      <td>34494.000000</td>\n",
              "      <td>-58.330000</td>\n",
              "      <td>83.00000</td>\n",
              "      <td>40.530000</td>\n",
              "      <td>9.570000</td>\n",
              "    </tr>\n",
              "    <tr>\n",
              "      <th>max</th>\n",
              "      <td>360.400000</td>\n",
              "      <td>737.140000</td>\n",
              "      <td>848.470000</td>\n",
              "      <td>71568.000000</td>\n",
              "      <td>-52.600000</td>\n",
              "      <td>105.27000</td>\n",
              "      <td>84.730000</td>\n",
              "      <td>490.740000</td>\n",
              "    </tr>\n",
              "  </tbody>\n",
              "</table>\n",
              "</div>"
            ],
            "text/plain": [
              "       PM1.0_CF1_ug/m3  PM2.5_CF1_ug/m3  ...    Humidity_%  PM2.5_ATM_ug/m3\n",
              "count     37595.000000     37595.000000  ...  37595.000000     37595.000000\n",
              "mean          6.007333         8.583804  ...     31.860672         7.990410\n",
              "std          10.414809        16.602185  ...     12.536009        12.174536\n",
              "min           0.000000         0.000000  ...     10.000000         0.000000\n",
              "25%           1.460000         2.120000  ...     22.000000         2.120000\n",
              "50%           3.460000         4.750000  ...     30.000000         4.750000\n",
              "75%           6.990000         9.580000  ...     40.530000         9.570000\n",
              "max         360.400000       737.140000  ...     84.730000       490.740000\n",
              "\n",
              "[8 rows x 8 columns]"
            ]
          },
          "metadata": {
            "tags": []
          },
          "execution_count": 35
        }
      ]
    },
    {
      "cell_type": "code",
      "metadata": {
        "id": "xMBiDuW7xaaU"
      },
      "source": [
        "#new_df_ffill = new_df_ffil.rename(columns = {'str_player_name': 'PlayerName', 'str_positions': ...."
      ],
      "execution_count": 26,
      "outputs": []
    },
    {
      "cell_type": "code",
      "metadata": {
        "id": "5XeeNv04Pk2G",
        "colab": {
          "base_uri": "https://localhost:8080/"
        },
        "outputId": "18381bf7-b24a-43f2-b489-0d81b9960a28"
      },
      "source": [
        "new_df_ffill.nunique()"
      ],
      "execution_count": 27,
      "outputs": [
        {
          "output_type": "execute_result",
          "data": {
            "text/plain": [
              "created_at          23697\n",
              "PM1.0_CF1_ug/m3      2752\n",
              "PM2.5_CF1_ug/m3      3423\n",
              "PM10.0_CF1_ug/m3     3528\n",
              "UptimeMinutes       18029\n",
              "RSSI_dbm              627\n",
              "Temperature_F         699\n",
              "Humidity_%           1059\n",
              "PM2.5_ATM_ug/m3      3299\n",
              "dtype: int64"
            ]
          },
          "metadata": {
            "tags": []
          },
          "execution_count": 27
        }
      ]
    },
    {
      "cell_type": "code",
      "metadata": {
        "colab": {
          "base_uri": "https://localhost:8080/",
          "height": 356
        },
        "id": "yI-_uiRLnoub",
        "outputId": "3c1ca98a-09af-4628-e46f-ae9bc49ec4b6"
      },
      "source": [
        "sns.distplot(new_df_ffill['PM2.5_ATM_ug/m3'])"
      ],
      "execution_count": 31,
      "outputs": [
        {
          "output_type": "stream",
          "text": [
            "/usr/local/lib/python3.7/dist-packages/seaborn/distributions.py:2557: FutureWarning: `distplot` is a deprecated function and will be removed in a future version. Please adapt your code to use either `displot` (a figure-level function with similar flexibility) or `histplot` (an axes-level function for histograms).\n",
            "  warnings.warn(msg, FutureWarning)\n"
          ],
          "name": "stderr"
        },
        {
          "output_type": "execute_result",
          "data": {
            "text/plain": [
              "<matplotlib.axes._subplots.AxesSubplot at 0x7fc9197cf990>"
            ]
          },
          "metadata": {
            "tags": []
          },
          "execution_count": 31
        },
        {
          "output_type": "display_data",
          "data": {
            "image/png": "[encoded data removed]",
            "text/plain": [
              "<Figure size 432x288 with 1 Axes>"
            ]
          },
          "metadata": {
            "tags": [],
            "needs_background": "light"
          }
        }
      ]
    },
    {
      "cell_type": "code",
      "metadata": {
        "colab": {
          "base_uri": "https://localhost:8080/",
          "height": 302
        },
        "id": "6y_oZMkcoFR7",
        "outputId": "647d697b-eb1e-49ef-c334-1c6ca309634a"
      },
      "source": [
        "sns.histplot(new_df_ffill['PM2.5_ATM_ug/m3'])"
      ],
      "execution_count": 32,
      "outputs": [
        {
          "output_type": "execute_result",
          "data": {
            "text/plain": [
              "<matplotlib.axes._subplots.AxesSubplot at 0x7fc9197581d0>"
            ]
          },
          "metadata": {
            "tags": []
          },
          "execution_count": 32
        },
        {
          "output_type": "display_data",
          "data": {
            "image/png": "[encoded data removed]",
            "text/plain": [
              "<Figure size 432x288 with 1 Axes>"
            ]
          },
          "metadata": {
            "tags": [],
            "needs_background": "light"
          }
        }
      ]
    },
    {
      "cell_type": "code",
      "metadata": {
        "colab": {
          "base_uri": "https://localhost:8080/",
          "height": 367
        },
        "id": "s3sM2pbiI7w4",
        "outputId": "31bafa17-f05c-4b78-afcf-dd861b3e29f2"
      },
      "source": [
        "sns.distplot(new_df_ffill['UptimeMinutes'])"
      ],
      "execution_count": 36,
      "outputs": [
        {
          "output_type": "stream",
          "text": [
            "/usr/local/lib/python3.7/dist-packages/seaborn/distributions.py:2557: FutureWarning: `distplot` is a deprecated function and will be removed in a future version. Please adapt your code to use either `displot` (a figure-level function with similar flexibility) or `histplot` (an axes-level function for histograms).\n",
            "  warnings.warn(msg, FutureWarning)\n"
          ],
          "name": "stderr"
        },
        {
          "output_type": "execute_result",
          "data": {
            "text/plain": [
              "<matplotlib.axes._subplots.AxesSubplot at 0x7fc918fe7d50>"
            ]
          },
          "metadata": {
            "tags": []
          },
          "execution_count": 36
        },
        {
          "output_type": "display_data",
          "data": {
            "image/png": "[encoded data removed]",
            "text/plain": [
              "<Figure size 432x288 with 1 Axes>"
            ]
          },
          "metadata": {
            "tags": [],
            "needs_background": "light"
          }
        }
      ]
    },
    {
      "cell_type": "code",
      "metadata": {
        "colab": {
          "base_uri": "https://localhost:8080/",
          "height": 302
        },
        "id": "bqhcZ0LnCeLw",
        "outputId": "ae715ed1-6f36-4201-e47e-ae6e5b860387"
      },
      "source": [
        "sns.scatterplot(data = new_df_ffill, y = 'PM2.5_CF1_ug/m3', x = 'PM2.5_ATM_ug/m3' )"
      ],
      "execution_count": 43,
      "outputs": [
        {
          "output_type": "execute_result",
          "data": {
            "text/plain": [
              "<matplotlib.axes._subplots.AxesSubplot at 0x7fc91834ad50>"
            ]
          },
          "metadata": {
            "tags": []
          },
          "execution_count": 43
        },
        {
          "output_type": "display_data",
          "data": {
            "image/png": "[encoded data removed]",
            "text/plain": [
              "<Figure size 432x288 with 1 Axes>"
            ]
          },
          "metadata": {
            "tags": [],
            "needs_background": "light"
          }
        }
      ]
    },
    {
      "cell_type": "code",
      "metadata": {
        "id": "I29cjUkYVrYL"
      },
      "source": [
        ""
      ],
      "execution_count": 30,
      "outputs": []
    },
    {
      "cell_type": "markdown",
      "metadata": {
        "id": "qB97eJn07IZK"
      },
      "source": [
        "Description of some features:\n",
        "\n",
        "1. PM 1.0 - Ambient suspended particulate matter,  the mass concentration of ambient suspended particulate matter (PM) of an aerodynamic diameter of less than 1 micrometer.\n",
        "\n",
        "2. PM 2.5  - Fine particulate matter, an air pollutant that is a concern for people's health when levels in air are high. PM2.5 are tiny particles in the air that reduce visibility and cause the air to appear hazy when levels are elevated\n",
        "\n",
        "3. PM 10 - particulate matter in the air with a diameter of 10 micrometers or less, including smoke, dust, soot, salts, acids, and metals. Particulate matter can also be formed indirectly when gases emitted from motor vehicles and industries undergo chemical reactions in the atmosphere.\n",
        "\n",
        "Note that: Particulate matter is the sum of all solid and liquid particles suspended in air many of which are hazardous. This complex mixture includes both organic and inorganic particles, such as dust, pollen, soot, smoke, and liquid droplets.\n",
        "\n",
        "\n",
        "4. RSSI_dbm - This is referred to the signal strength of Wifi\n",
        "\n",
        "5. Temperature - \n",
        "\n",
        "6. Humidity - \n",
        "\n",
        "7. Uptime - "
      ]
    },
    {
      "cell_type": "markdown",
      "metadata": {
        "id": "YQyiXbtdwae1"
      },
      "source": [
        "The dataset is obtained from the Purpleair sensor in Lagos from 12.2019 until it stopped reporting back in 6/2021"
      ]
    },
    {
      "cell_type": "code",
      "metadata": {
        "id": "kV-oNaM20WRV"
      },
      "source": [
        ""
      ],
      "execution_count": 30,
      "outputs": []
    }
  ]
}