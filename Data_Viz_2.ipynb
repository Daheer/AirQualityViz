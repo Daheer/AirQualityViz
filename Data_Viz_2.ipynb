{
  "nbformat": 4,
  "nbformat_minor": 0,
  "metadata": {
    "colab": {
      "name": "Data Viz 2",
      "provenance": [],
      "collapsed_sections": [],
      "authorship_tag": "ABX9TyOcOqA+HBfonL9IrQChGJlR",
      "include_colab_link": true
    },
    "kernelspec": {
      "name": "python3",
      "display_name": "Python 3"
    },
    "language_info": {
      "name": "python"
    },
    "accelerator": "GPU"
  },
  "cells": [
    {
      "cell_type": "markdown",
      "metadata": {
        "id": "view-in-github",
        "colab_type": "text"
      },
      "source": [
        "<a href=\"https://colab.research.google.com/github/gideononyewuenyi/Exploratory-analysis/blob/main/Data_Viz_2.ipynb\" target=\"_parent\"><img src=\"https://colab.research.google.com/assets/colab-badge.svg\" alt=\"Open In Colab\"/></a>"
      ]
    },
    {
      "cell_type": "code",
      "metadata": {
        "id": "rFBRgwp9n4vE"
      },
      "source": [
        "import numpy as np\n",
        "import pandas as pd\n",
        "import matplotlib.pyplot as plt\n",
        "import seaborn as sns\n",
        "sns.set_theme(style=\"whitegrid\")"
      ],
      "execution_count": 1,
      "outputs": []
    },
    {
      "cell_type": "code",
      "metadata": {
        "id": "KP9zX-BUoTYa"
      },
      "source": [
        "df = pd.read_csv (\"/content/Lekki Phase 1 (outside) (6.451397 3.471201) Primary 30_minute_average 12_17_2019 6_6_2021.csv\", parse_dates=['created_at'])"
      ],
      "execution_count": 2,
      "outputs": []
    },
    {
      "cell_type": "code",
      "metadata": {
        "colab": {
          "base_uri": "https://localhost:8080/",
          "height": 204
        },
        "id": "sFurnb2Vs7Nq",
        "outputId": "c9d91af6-31e2-4615-a160-b35e45aa5753"
      },
      "source": [
        "df.head()"
      ],
      "execution_count": 3,
      "outputs": [
        {
          "output_type": "execute_result",
          "data": {
            "text/html": [
              "<div>\n",
              "<style scoped>\n",
              "    .dataframe tbody tr th:only-of-type {\n",
              "        vertical-align: middle;\n",
              "    }\n",
              "\n",
              "    .dataframe tbody tr th {\n",
              "        vertical-align: top;\n",
              "    }\n",
              "\n",
              "    .dataframe thead th {\n",
              "        text-align: right;\n",
              "    }\n",
              "</style>\n",
              "<table border=\"1\" class=\"dataframe\">\n",
              "  <thead>\n",
              "    <tr style=\"text-align: right;\">\n",
              "      <th></th>\n",
              "      <th>created_at</th>\n",
              "      <th>PM1.0_CF1_ug/m3</th>\n",
              "      <th>PM2.5_CF1_ug/m3</th>\n",
              "      <th>PM10.0_CF1_ug/m3</th>\n",
              "      <th>UptimeMinutes</th>\n",
              "      <th>RSSI_dbm</th>\n",
              "      <th>Temperature_F</th>\n",
              "      <th>Humidity_%</th>\n",
              "      <th>PM2.5_ATM_ug/m3</th>\n",
              "      <th>Unnamed: 9</th>\n",
              "    </tr>\n",
              "  </thead>\n",
              "  <tbody>\n",
              "    <tr>\n",
              "      <th>0</th>\n",
              "      <td>2019-12-17 20:00:00+00:00</td>\n",
              "      <td>1.99</td>\n",
              "      <td>3.05</td>\n",
              "      <td>3.27</td>\n",
              "      <td>3.25</td>\n",
              "      <td>-53.75</td>\n",
              "      <td>72.50</td>\n",
              "      <td>16.50</td>\n",
              "      <td>3.05</td>\n",
              "      <td>NaN</td>\n",
              "    </tr>\n",
              "    <tr>\n",
              "      <th>1</th>\n",
              "      <td>2019-12-17 20:30:00+00:00</td>\n",
              "      <td>1.89</td>\n",
              "      <td>2.80</td>\n",
              "      <td>3.09</td>\n",
              "      <td>11.19</td>\n",
              "      <td>-53.69</td>\n",
              "      <td>73.88</td>\n",
              "      <td>15.12</td>\n",
              "      <td>2.80</td>\n",
              "      <td>NaN</td>\n",
              "    </tr>\n",
              "    <tr>\n",
              "      <th>2</th>\n",
              "      <td>2019-12-17 21:00:00+00:00</td>\n",
              "      <td>34.62</td>\n",
              "      <td>93.43</td>\n",
              "      <td>141.47</td>\n",
              "      <td>38.00</td>\n",
              "      <td>-53.87</td>\n",
              "      <td>74.07</td>\n",
              "      <td>15.40</td>\n",
              "      <td>63.67</td>\n",
              "      <td>NaN</td>\n",
              "    </tr>\n",
              "    <tr>\n",
              "      <th>3</th>\n",
              "      <td>2019-12-17 21:30:00+00:00</td>\n",
              "      <td>0.89</td>\n",
              "      <td>2.59</td>\n",
              "      <td>3.58</td>\n",
              "      <td>68.00</td>\n",
              "      <td>-55.47</td>\n",
              "      <td>76.53</td>\n",
              "      <td>15.00</td>\n",
              "      <td>2.59</td>\n",
              "      <td>NaN</td>\n",
              "    </tr>\n",
              "    <tr>\n",
              "      <th>4</th>\n",
              "      <td>2019-12-17 22:00:00+00:00</td>\n",
              "      <td>0.00</td>\n",
              "      <td>0.00</td>\n",
              "      <td>0.01</td>\n",
              "      <td>98.00</td>\n",
              "      <td>-54.60</td>\n",
              "      <td>77.00</td>\n",
              "      <td>14.87</td>\n",
              "      <td>0.00</td>\n",
              "      <td>NaN</td>\n",
              "    </tr>\n",
              "  </tbody>\n",
              "</table>\n",
              "</div>"
            ],
            "text/plain": [
              "                 created_at  PM1.0_CF1_ug/m3  ...  PM2.5_ATM_ug/m3  Unnamed: 9\n",
              "0 2019-12-17 20:00:00+00:00             1.99  ...             3.05         NaN\n",
              "1 2019-12-17 20:30:00+00:00             1.89  ...             2.80         NaN\n",
              "2 2019-12-17 21:00:00+00:00            34.62  ...            63.67         NaN\n",
              "3 2019-12-17 21:30:00+00:00             0.89  ...             2.59         NaN\n",
              "4 2019-12-17 22:00:00+00:00             0.00  ...             0.00         NaN\n",
              "\n",
              "[5 rows x 10 columns]"
            ]
          },
          "metadata": {
            "tags": []
          },
          "execution_count": 3
        }
      ]
    },
    {
      "cell_type": "code",
      "metadata": {
        "colab": {
          "base_uri": "https://localhost:8080/",
          "height": 306
        },
        "id": "gn6s-ciOGMXs",
        "outputId": "bae676ea-bab6-4da5-e48b-e3b09880e13a"
      },
      "source": [
        "df.sample(5)"
      ],
      "execution_count": 4,
      "outputs": [
        {
          "output_type": "execute_result",
          "data": {
            "text/html": [
              "<div>\n",
              "<style scoped>\n",
              "    .dataframe tbody tr th:only-of-type {\n",
              "        vertical-align: middle;\n",
              "    }\n",
              "\n",
              "    .dataframe tbody tr th {\n",
              "        vertical-align: top;\n",
              "    }\n",
              "\n",
              "    .dataframe thead th {\n",
              "        text-align: right;\n",
              "    }\n",
              "</style>\n",
              "<table border=\"1\" class=\"dataframe\">\n",
              "  <thead>\n",
              "    <tr style=\"text-align: right;\">\n",
              "      <th></th>\n",
              "      <th>created_at</th>\n",
              "      <th>PM1.0_CF1_ug/m3</th>\n",
              "      <th>PM2.5_CF1_ug/m3</th>\n",
              "      <th>PM10.0_CF1_ug/m3</th>\n",
              "      <th>UptimeMinutes</th>\n",
              "      <th>RSSI_dbm</th>\n",
              "      <th>Temperature_F</th>\n",
              "      <th>Humidity_%</th>\n",
              "      <th>PM2.5_ATM_ug/m3</th>\n",
              "      <th>Unnamed: 9</th>\n",
              "    </tr>\n",
              "  </thead>\n",
              "  <tbody>\n",
              "    <tr>\n",
              "      <th>26647</th>\n",
              "      <td>2020-12-20 23:00:00+00:00</td>\n",
              "      <td>360.40</td>\n",
              "      <td>737.14</td>\n",
              "      <td>848.47</td>\n",
              "      <td>28612.0</td>\n",
              "      <td>-71.67</td>\n",
              "      <td>73.13</td>\n",
              "      <td>21.93</td>\n",
              "      <td>490.74</td>\n",
              "      <td>NaN</td>\n",
              "    </tr>\n",
              "    <tr>\n",
              "      <th>18990</th>\n",
              "      <td>2020-09-07 10:30:00+00:00</td>\n",
              "      <td>2.87</td>\n",
              "      <td>3.45</td>\n",
              "      <td>3.57</td>\n",
              "      <td>10524.0</td>\n",
              "      <td>-77.13</td>\n",
              "      <td>75.00</td>\n",
              "      <td>47.00</td>\n",
              "      <td>3.45</td>\n",
              "      <td>NaN</td>\n",
              "    </tr>\n",
              "    <tr>\n",
              "      <th>30573</th>\n",
              "      <td>2021-03-12 18:00:00+00:00</td>\n",
              "      <td>9.06</td>\n",
              "      <td>11.87</td>\n",
              "      <td>12.42</td>\n",
              "      <td>31945.0</td>\n",
              "      <td>-71.60</td>\n",
              "      <td>73.87</td>\n",
              "      <td>26.33</td>\n",
              "      <td>11.87</td>\n",
              "      <td>NaN</td>\n",
              "    </tr>\n",
              "    <tr>\n",
              "      <th>22329</th>\n",
              "      <td>2020-10-12 00:00:00+00:00</td>\n",
              "      <td>4.34</td>\n",
              "      <td>6.52</td>\n",
              "      <td>7.12</td>\n",
              "      <td>60293.0</td>\n",
              "      <td>-78.67</td>\n",
              "      <td>75.07</td>\n",
              "      <td>47.00</td>\n",
              "      <td>6.52</td>\n",
              "      <td>NaN</td>\n",
              "    </tr>\n",
              "    <tr>\n",
              "      <th>1119</th>\n",
              "      <td>2020-01-21 14:00:00+00:00</td>\n",
              "      <td>1.14</td>\n",
              "      <td>1.70</td>\n",
              "      <td>1.84</td>\n",
              "      <td>17328.0</td>\n",
              "      <td>-58.53</td>\n",
              "      <td>79.73</td>\n",
              "      <td>12.20</td>\n",
              "      <td>1.70</td>\n",
              "      <td>NaN</td>\n",
              "    </tr>\n",
              "  </tbody>\n",
              "</table>\n",
              "</div>"
            ],
            "text/plain": [
              "                     created_at  PM1.0_CF1_ug/m3  ...  PM2.5_ATM_ug/m3  Unnamed: 9\n",
              "26647 2020-12-20 23:00:00+00:00           360.40  ...           490.74         NaN\n",
              "18990 2020-09-07 10:30:00+00:00             2.87  ...             3.45         NaN\n",
              "30573 2021-03-12 18:00:00+00:00             9.06  ...            11.87         NaN\n",
              "22329 2020-10-12 00:00:00+00:00             4.34  ...             6.52         NaN\n",
              "1119  2020-01-21 14:00:00+00:00             1.14  ...             1.70         NaN\n",
              "\n",
              "[5 rows x 10 columns]"
            ]
          },
          "metadata": {
            "tags": []
          },
          "execution_count": 4
        }
      ]
    },
    {
      "cell_type": "code",
      "metadata": {
        "colab": {
          "base_uri": "https://localhost:8080/",
          "height": 297
        },
        "id": "IMeg93xptTu3",
        "outputId": "f359073c-408b-4eb1-ca48-9a737a33178b"
      },
      "source": [
        "df.describe()"
      ],
      "execution_count": 5,
      "outputs": [
        {
          "output_type": "execute_result",
          "data": {
            "text/html": [
              "<div>\n",
              "<style scoped>\n",
              "    .dataframe tbody tr th:only-of-type {\n",
              "        vertical-align: middle;\n",
              "    }\n",
              "\n",
              "    .dataframe tbody tr th {\n",
              "        vertical-align: top;\n",
              "    }\n",
              "\n",
              "    .dataframe thead th {\n",
              "        text-align: right;\n",
              "    }\n",
              "</style>\n",
              "<table border=\"1\" class=\"dataframe\">\n",
              "  <thead>\n",
              "    <tr style=\"text-align: right;\">\n",
              "      <th></th>\n",
              "      <th>PM1.0_CF1_ug/m3</th>\n",
              "      <th>PM2.5_CF1_ug/m3</th>\n",
              "      <th>PM10.0_CF1_ug/m3</th>\n",
              "      <th>UptimeMinutes</th>\n",
              "      <th>RSSI_dbm</th>\n",
              "      <th>Temperature_F</th>\n",
              "      <th>Humidity_%</th>\n",
              "      <th>PM2.5_ATM_ug/m3</th>\n",
              "      <th>Unnamed: 9</th>\n",
              "    </tr>\n",
              "  </thead>\n",
              "  <tbody>\n",
              "    <tr>\n",
              "      <th>count</th>\n",
              "      <td>37538.000000</td>\n",
              "      <td>37538.000000</td>\n",
              "      <td>37538.000000</td>\n",
              "      <td>37538.000000</td>\n",
              "      <td>37538.000000</td>\n",
              "      <td>37538.000000</td>\n",
              "      <td>37538.000000</td>\n",
              "      <td>37538.000000</td>\n",
              "      <td>0.0</td>\n",
              "    </tr>\n",
              "    <tr>\n",
              "      <th>mean</th>\n",
              "      <td>6.007100</td>\n",
              "      <td>8.584424</td>\n",
              "      <td>9.092260</td>\n",
              "      <td>22233.899164</td>\n",
              "      <td>-66.844293</td>\n",
              "      <td>78.717398</td>\n",
              "      <td>31.854816</td>\n",
              "      <td>7.991469</td>\n",
              "      <td>NaN</td>\n",
              "    </tr>\n",
              "    <tr>\n",
              "      <th>std</th>\n",
              "      <td>10.415071</td>\n",
              "      <td>16.605593</td>\n",
              "      <td>18.286916</td>\n",
              "      <td>18422.876237</td>\n",
              "      <td>8.783105</td>\n",
              "      <td>6.350175</td>\n",
              "      <td>12.522367</td>\n",
              "      <td>12.175910</td>\n",
              "      <td>NaN</td>\n",
              "    </tr>\n",
              "    <tr>\n",
              "      <th>min</th>\n",
              "      <td>0.000000</td>\n",
              "      <td>0.000000</td>\n",
              "      <td>0.000000</td>\n",
              "      <td>2.000000</td>\n",
              "      <td>-87.000000</td>\n",
              "      <td>52.200000</td>\n",
              "      <td>10.000000</td>\n",
              "      <td>0.000000</td>\n",
              "      <td>NaN</td>\n",
              "    </tr>\n",
              "    <tr>\n",
              "      <th>25%</th>\n",
              "      <td>1.470000</td>\n",
              "      <td>2.120000</td>\n",
              "      <td>2.280000</td>\n",
              "      <td>6348.000000</td>\n",
              "      <td>-74.200000</td>\n",
              "      <td>73.930000</td>\n",
              "      <td>22.000000</td>\n",
              "      <td>2.120000</td>\n",
              "      <td>NaN</td>\n",
              "    </tr>\n",
              "    <tr>\n",
              "      <th>50%</th>\n",
              "      <td>3.470000</td>\n",
              "      <td>4.750000</td>\n",
              "      <td>5.030000</td>\n",
              "      <td>18293.000000</td>\n",
              "      <td>-69.930000</td>\n",
              "      <td>79.000000</td>\n",
              "      <td>30.000000</td>\n",
              "      <td>4.750000</td>\n",
              "      <td>NaN</td>\n",
              "    </tr>\n",
              "    <tr>\n",
              "      <th>75%</th>\n",
              "      <td>6.990000</td>\n",
              "      <td>9.580000</td>\n",
              "      <td>10.037500</td>\n",
              "      <td>34524.000000</td>\n",
              "      <td>-58.330000</td>\n",
              "      <td>83.000000</td>\n",
              "      <td>40.530000</td>\n",
              "      <td>9.570000</td>\n",
              "      <td>NaN</td>\n",
              "    </tr>\n",
              "    <tr>\n",
              "      <th>max</th>\n",
              "      <td>360.400000</td>\n",
              "      <td>737.140000</td>\n",
              "      <td>848.470000</td>\n",
              "      <td>71568.000000</td>\n",
              "      <td>-52.600000</td>\n",
              "      <td>105.270000</td>\n",
              "      <td>84.730000</td>\n",
              "      <td>490.740000</td>\n",
              "      <td>NaN</td>\n",
              "    </tr>\n",
              "  </tbody>\n",
              "</table>\n",
              "</div>"
            ],
            "text/plain": [
              "       PM1.0_CF1_ug/m3  PM2.5_CF1_ug/m3  ...  PM2.5_ATM_ug/m3  Unnamed: 9\n",
              "count     37538.000000     37538.000000  ...     37538.000000         0.0\n",
              "mean          6.007100         8.584424  ...         7.991469         NaN\n",
              "std          10.415071        16.605593  ...        12.175910         NaN\n",
              "min           0.000000         0.000000  ...         0.000000         NaN\n",
              "25%           1.470000         2.120000  ...         2.120000         NaN\n",
              "50%           3.470000         4.750000  ...         4.750000         NaN\n",
              "75%           6.990000         9.580000  ...         9.570000         NaN\n",
              "max         360.400000       737.140000  ...       490.740000         NaN\n",
              "\n",
              "[8 rows x 9 columns]"
            ]
          },
          "metadata": {
            "tags": []
          },
          "execution_count": 5
        }
      ]
    },
    {
      "cell_type": "code",
      "metadata": {
        "id": "D6c87ncCtgjO",
        "colab": {
          "base_uri": "https://localhost:8080/"
        },
        "outputId": "273c4d4f-c264-4c2c-fc7d-848b2398c1b7"
      },
      "source": [
        "df.shape"
      ],
      "execution_count": 6,
      "outputs": [
        {
          "output_type": "execute_result",
          "data": {
            "text/plain": [
              "(37595, 10)"
            ]
          },
          "metadata": {
            "tags": []
          },
          "execution_count": 6
        }
      ]
    },
    {
      "cell_type": "code",
      "metadata": {
        "colab": {
          "base_uri": "https://localhost:8080/"
        },
        "id": "1Z6GMH8e7Pw5",
        "outputId": "e6649430-346f-4cc8-dd4c-b7e7fe51c7ce"
      },
      "source": [
        "df.columns"
      ],
      "execution_count": 7,
      "outputs": [
        {
          "output_type": "execute_result",
          "data": {
            "text/plain": [
              "Index(['created_at', 'PM1.0_CF1_ug/m3', 'PM2.5_CF1_ug/m3', 'PM10.0_CF1_ug/m3',\n",
              "       'UptimeMinutes', 'RSSI_dbm', 'Temperature_F', 'Humidity_%',\n",
              "       'PM2.5_ATM_ug/m3', 'Unnamed: 9'],\n",
              "      dtype='object')"
            ]
          },
          "metadata": {
            "tags": []
          },
          "execution_count": 7
        }
      ]
    },
    {
      "cell_type": "code",
      "metadata": {
        "colab": {
          "base_uri": "https://localhost:8080/"
        },
        "id": "E3iulhU47YFn",
        "outputId": "73aacb1e-155d-46d0-febb-a48f88651920"
      },
      "source": [
        "df.dtypes"
      ],
      "execution_count": 8,
      "outputs": [
        {
          "output_type": "execute_result",
          "data": {
            "text/plain": [
              "created_at          datetime64[ns, UTC]\n",
              "PM1.0_CF1_ug/m3                 float64\n",
              "PM2.5_CF1_ug/m3                 float64\n",
              "PM10.0_CF1_ug/m3                float64\n",
              "UptimeMinutes                   float64\n",
              "RSSI_dbm                        float64\n",
              "Temperature_F                   float64\n",
              "Humidity_%                      float64\n",
              "PM2.5_ATM_ug/m3                 float64\n",
              "Unnamed: 9                      float64\n",
              "dtype: object"
            ]
          },
          "metadata": {
            "tags": []
          },
          "execution_count": 8
        }
      ]
    },
    {
      "cell_type": "code",
      "metadata": {
        "colab": {
          "base_uri": "https://localhost:8080/"
        },
        "id": "kJxd-8897lsB",
        "outputId": "31fd582b-2a90-43bc-8a6d-e6ab8660a5f0"
      },
      "source": [
        "df.isnull().sum()"
      ],
      "execution_count": 9,
      "outputs": [
        {
          "output_type": "execute_result",
          "data": {
            "text/plain": [
              "created_at              0\n",
              "PM1.0_CF1_ug/m3        57\n",
              "PM2.5_CF1_ug/m3        57\n",
              "PM10.0_CF1_ug/m3       57\n",
              "UptimeMinutes          57\n",
              "RSSI_dbm               57\n",
              "Temperature_F          57\n",
              "Humidity_%             57\n",
              "PM2.5_ATM_ug/m3        57\n",
              "Unnamed: 9          37595\n",
              "dtype: int64"
            ]
          },
          "metadata": {
            "tags": []
          },
          "execution_count": 9
        }
      ]
    },
    {
      "cell_type": "code",
      "metadata": {
        "colab": {
          "base_uri": "https://localhost:8080/"
        },
        "id": "zPrGK9FG8HRl",
        "outputId": "7c8d8899-1cc5-4efd-8101-678d1a1ee314"
      },
      "source": [
        "df.isnull().sum().sum()"
      ],
      "execution_count": 10,
      "outputs": [
        {
          "output_type": "execute_result",
          "data": {
            "text/plain": [
              "38051"
            ]
          },
          "metadata": {
            "tags": []
          },
          "execution_count": 10
        }
      ]
    },
    {
      "cell_type": "code",
      "metadata": {
        "id": "KjMAURFp8zhv"
      },
      "source": [
        "new_df=df.drop(columns = ['Unnamed: 9'])"
      ],
      "execution_count": 11,
      "outputs": []
    },
    {
      "cell_type": "code",
      "metadata": {
        "colab": {
          "base_uri": "https://localhost:8080/"
        },
        "id": "VAM43cNP9beC",
        "outputId": "ac564573-57ac-43cb-ed15-90f1b8342695"
      },
      "source": [
        "new_df.columns"
      ],
      "execution_count": 12,
      "outputs": [
        {
          "output_type": "execute_result",
          "data": {
            "text/plain": [
              "Index(['created_at', 'PM1.0_CF1_ug/m3', 'PM2.5_CF1_ug/m3', 'PM10.0_CF1_ug/m3',\n",
              "       'UptimeMinutes', 'RSSI_dbm', 'Temperature_F', 'Humidity_%',\n",
              "       'PM2.5_ATM_ug/m3'],\n",
              "      dtype='object')"
            ]
          },
          "metadata": {
            "tags": []
          },
          "execution_count": 12
        }
      ]
    },
    {
      "cell_type": "code",
      "metadata": {
        "colab": {
          "base_uri": "https://localhost:8080/"
        },
        "id": "6BOtqUPS-HhL",
        "outputId": "386cd5ab-7927-4cfa-e2fd-40487469f1f7"
      },
      "source": [
        "new_df.isnull().sum()"
      ],
      "execution_count": 13,
      "outputs": [
        {
          "output_type": "execute_result",
          "data": {
            "text/plain": [
              "created_at           0\n",
              "PM1.0_CF1_ug/m3     57\n",
              "PM2.5_CF1_ug/m3     57\n",
              "PM10.0_CF1_ug/m3    57\n",
              "UptimeMinutes       57\n",
              "RSSI_dbm            57\n",
              "Temperature_F       57\n",
              "Humidity_%          57\n",
              "PM2.5_ATM_ug/m3     57\n",
              "dtype: int64"
            ]
          },
          "metadata": {
            "tags": []
          },
          "execution_count": 13
        }
      ]
    },
    {
      "cell_type": "code",
      "metadata": {
        "colab": {
          "base_uri": "https://localhost:8080/"
        },
        "id": "8BXSjAh8_FmC",
        "outputId": "0403c9ce-f23d-4dbe-f072-f8cd29190316"
      },
      "source": [
        "new_df.isnull().sum().sum()"
      ],
      "execution_count": 14,
      "outputs": [
        {
          "output_type": "execute_result",
          "data": {
            "text/plain": [
              "456"
            ]
          },
          "metadata": {
            "tags": []
          },
          "execution_count": 14
        }
      ]
    },
    {
      "cell_type": "code",
      "metadata": {
        "colab": {
          "base_uri": "https://localhost:8080/"
        },
        "id": "kQSR0-lE-28-",
        "outputId": "7e966bd3-73a4-4dc7-bf6e-0029b9e39d77"
      },
      "source": [
        "new_df.shape"
      ],
      "execution_count": 15,
      "outputs": [
        {
          "output_type": "execute_result",
          "data": {
            "text/plain": [
              "(37595, 9)"
            ]
          },
          "metadata": {
            "tags": []
          },
          "execution_count": 15
        }
      ]
    },
    {
      "cell_type": "code",
      "metadata": {
        "id": "IA2inO6D-SWD"
      },
      "source": [
        "new_df_drop = new_df.dropna()"
      ],
      "execution_count": 16,
      "outputs": []
    },
    {
      "cell_type": "code",
      "metadata": {
        "colab": {
          "base_uri": "https://localhost:8080/"
        },
        "id": "XhZB3qPs_VXf",
        "outputId": "8084deac-dd84-452c-8dd2-1e1ef0009b83"
      },
      "source": [
        "new_df_drop.shape"
      ],
      "execution_count": 17,
      "outputs": [
        {
          "output_type": "execute_result",
          "data": {
            "text/plain": [
              "(37538, 9)"
            ]
          },
          "metadata": {
            "tags": []
          },
          "execution_count": 17
        }
      ]
    },
    {
      "cell_type": "code",
      "metadata": {
        "colab": {
          "base_uri": "https://localhost:8080/"
        },
        "id": "VgjUtDmy_hC1",
        "outputId": "1f90e5fc-a116-4237-dfb1-74b4387583fd"
      },
      "source": [
        "new_df_drop.isnull().sum()"
      ],
      "execution_count": 18,
      "outputs": [
        {
          "output_type": "execute_result",
          "data": {
            "text/plain": [
              "created_at          0\n",
              "PM1.0_CF1_ug/m3     0\n",
              "PM2.5_CF1_ug/m3     0\n",
              "PM10.0_CF1_ug/m3    0\n",
              "UptimeMinutes       0\n",
              "RSSI_dbm            0\n",
              "Temperature_F       0\n",
              "Humidity_%          0\n",
              "PM2.5_ATM_ug/m3     0\n",
              "dtype: int64"
            ]
          },
          "metadata": {
            "tags": []
          },
          "execution_count": 18
        }
      ]
    },
    {
      "cell_type": "code",
      "metadata": {
        "id": "7L8XBh1L_pBG"
      },
      "source": [
        "new_df_ffill = new_df.fillna(method='ffill')"
      ],
      "execution_count": 19,
      "outputs": []
    },
    {
      "cell_type": "code",
      "metadata": {
        "id": "XXJ8hWByAc9S"
      },
      "source": [
        "new_df_bfill = new_df.fillna(method='bfill')"
      ],
      "execution_count": 20,
      "outputs": []
    },
    {
      "cell_type": "code",
      "metadata": {
        "colab": {
          "base_uri": "https://localhost:8080/"
        },
        "id": "JLvCnaoQAt6i",
        "outputId": "8156d5f3-2bf3-4817-9180-f0a5705f0cab"
      },
      "source": [
        "new_df_ffill.shape"
      ],
      "execution_count": 21,
      "outputs": [
        {
          "output_type": "execute_result",
          "data": {
            "text/plain": [
              "(37595, 9)"
            ]
          },
          "metadata": {
            "tags": []
          },
          "execution_count": 21
        }
      ]
    },
    {
      "cell_type": "code",
      "metadata": {
        "colab": {
          "base_uri": "https://localhost:8080/"
        },
        "id": "VKUtbSnjAxky",
        "outputId": "e8775686-a867-45e7-c64b-44e8725925cd"
      },
      "source": [
        "new_df_bfill.shape"
      ],
      "execution_count": 22,
      "outputs": [
        {
          "output_type": "execute_result",
          "data": {
            "text/plain": [
              "(37595, 9)"
            ]
          },
          "metadata": {
            "tags": []
          },
          "execution_count": 22
        }
      ]
    },
    {
      "cell_type": "code",
      "metadata": {
        "colab": {
          "base_uri": "https://localhost:8080/"
        },
        "id": "zCYgdCynA0ys",
        "outputId": "33de0e9f-a8d5-4ad3-957b-2fc8ebaad5bd"
      },
      "source": [
        "new_df_drop.shape"
      ],
      "execution_count": 23,
      "outputs": [
        {
          "output_type": "execute_result",
          "data": {
            "text/plain": [
              "(37538, 9)"
            ]
          },
          "metadata": {
            "tags": []
          },
          "execution_count": 23
        }
      ]
    },
    {
      "cell_type": "code",
      "metadata": {
        "id": "5dt7ZHyZA3rP",
        "colab": {
          "base_uri": "https://localhost:8080/",
          "height": 204
        },
        "outputId": "f7536b77-8a31-4074-c0ed-a8c38eda46da"
      },
      "source": [
        "new_df_ffill.head()"
      ],
      "execution_count": 24,
      "outputs": [
        {
          "output_type": "execute_result",
          "data": {
            "text/html": [
              "<div>\n",
              "<style scoped>\n",
              "    .dataframe tbody tr th:only-of-type {\n",
              "        vertical-align: middle;\n",
              "    }\n",
              "\n",
              "    .dataframe tbody tr th {\n",
              "        vertical-align: top;\n",
              "    }\n",
              "\n",
              "    .dataframe thead th {\n",
              "        text-align: right;\n",
              "    }\n",
              "</style>\n",
              "<table border=\"1\" class=\"dataframe\">\n",
              "  <thead>\n",
              "    <tr style=\"text-align: right;\">\n",
              "      <th></th>\n",
              "      <th>created_at</th>\n",
              "      <th>PM1.0_CF1_ug/m3</th>\n",
              "      <th>PM2.5_CF1_ug/m3</th>\n",
              "      <th>PM10.0_CF1_ug/m3</th>\n",
              "      <th>UptimeMinutes</th>\n",
              "      <th>RSSI_dbm</th>\n",
              "      <th>Temperature_F</th>\n",
              "      <th>Humidity_%</th>\n",
              "      <th>PM2.5_ATM_ug/m3</th>\n",
              "    </tr>\n",
              "  </thead>\n",
              "  <tbody>\n",
              "    <tr>\n",
              "      <th>0</th>\n",
              "      <td>2019-12-17 20:00:00+00:00</td>\n",
              "      <td>1.99</td>\n",
              "      <td>3.05</td>\n",
              "      <td>3.27</td>\n",
              "      <td>3.25</td>\n",
              "      <td>-53.75</td>\n",
              "      <td>72.50</td>\n",
              "      <td>16.50</td>\n",
              "      <td>3.05</td>\n",
              "    </tr>\n",
              "    <tr>\n",
              "      <th>1</th>\n",
              "      <td>2019-12-17 20:30:00+00:00</td>\n",
              "      <td>1.89</td>\n",
              "      <td>2.80</td>\n",
              "      <td>3.09</td>\n",
              "      <td>11.19</td>\n",
              "      <td>-53.69</td>\n",
              "      <td>73.88</td>\n",
              "      <td>15.12</td>\n",
              "      <td>2.80</td>\n",
              "    </tr>\n",
              "    <tr>\n",
              "      <th>2</th>\n",
              "      <td>2019-12-17 21:00:00+00:00</td>\n",
              "      <td>34.62</td>\n",
              "      <td>93.43</td>\n",
              "      <td>141.47</td>\n",
              "      <td>38.00</td>\n",
              "      <td>-53.87</td>\n",
              "      <td>74.07</td>\n",
              "      <td>15.40</td>\n",
              "      <td>63.67</td>\n",
              "    </tr>\n",
              "    <tr>\n",
              "      <th>3</th>\n",
              "      <td>2019-12-17 21:30:00+00:00</td>\n",
              "      <td>0.89</td>\n",
              "      <td>2.59</td>\n",
              "      <td>3.58</td>\n",
              "      <td>68.00</td>\n",
              "      <td>-55.47</td>\n",
              "      <td>76.53</td>\n",
              "      <td>15.00</td>\n",
              "      <td>2.59</td>\n",
              "    </tr>\n",
              "    <tr>\n",
              "      <th>4</th>\n",
              "      <td>2019-12-17 22:00:00+00:00</td>\n",
              "      <td>0.00</td>\n",
              "      <td>0.00</td>\n",
              "      <td>0.01</td>\n",
              "      <td>98.00</td>\n",
              "      <td>-54.60</td>\n",
              "      <td>77.00</td>\n",
              "      <td>14.87</td>\n",
              "      <td>0.00</td>\n",
              "    </tr>\n",
              "  </tbody>\n",
              "</table>\n",
              "</div>"
            ],
            "text/plain": [
              "                 created_at  PM1.0_CF1_ug/m3  ...  Humidity_%  PM2.5_ATM_ug/m3\n",
              "0 2019-12-17 20:00:00+00:00             1.99  ...       16.50             3.05\n",
              "1 2019-12-17 20:30:00+00:00             1.89  ...       15.12             2.80\n",
              "2 2019-12-17 21:00:00+00:00            34.62  ...       15.40            63.67\n",
              "3 2019-12-17 21:30:00+00:00             0.89  ...       15.00             2.59\n",
              "4 2019-12-17 22:00:00+00:00             0.00  ...       14.87             0.00\n",
              "\n",
              "[5 rows x 9 columns]"
            ]
          },
          "metadata": {
            "tags": []
          },
          "execution_count": 24
        }
      ]
    },
    {
      "cell_type": "code",
      "metadata": {
        "colab": {
          "base_uri": "https://localhost:8080/"
        },
        "id": "0KdwSPPnL4ZR",
        "outputId": "75b99086-f0f3-4807-93e4-e1858ba30dea"
      },
      "source": [
        "new_df_ffill.nunique()"
      ],
      "execution_count": 25,
      "outputs": [
        {
          "output_type": "execute_result",
          "data": {
            "text/plain": [
              "created_at          23697\n",
              "PM1.0_CF1_ug/m3      2752\n",
              "PM2.5_CF1_ug/m3      3423\n",
              "PM10.0_CF1_ug/m3     3528\n",
              "UptimeMinutes       18029\n",
              "RSSI_dbm              627\n",
              "Temperature_F         699\n",
              "Humidity_%           1059\n",
              "PM2.5_ATM_ug/m3      3299\n",
              "dtype: int64"
            ]
          },
          "metadata": {
            "tags": []
          },
          "execution_count": 25
        }
      ]
    },
    {
      "cell_type": "code",
      "metadata": {
        "id": "5XeeNv04Pk2G"
      },
      "source": [
        ""
      ],
      "execution_count": 25,
      "outputs": []
    },
    {
      "cell_type": "code",
      "metadata": {
        "id": "yI-_uiRLnoub",
        "outputId": "a6369eb8-08c7-4081-af4f-128f460a0003",
        "colab": {
          "base_uri": "https://localhost:8080/",
          "height": 356
        }
      },
      "source": [
        "sns.distplot(new_df_ffill['PM2.5_CF1_ug/m3'])"
      ],
      "execution_count": 36,
      "outputs": [
        {
          "output_type": "stream",
          "text": [
            "/usr/local/lib/python3.7/dist-packages/seaborn/distributions.py:2557: FutureWarning: `distplot` is a deprecated function and will be removed in a future version. Please adapt your code to use either `displot` (a figure-level function with similar flexibility) or `histplot` (an axes-level function for histograms).\n",
            "  warnings.warn(msg, FutureWarning)\n"
          ],
          "name": "stderr"
        },
        {
          "output_type": "execute_result",
          "data": {
            "text/plain": [
              "<matplotlib.axes._subplots.AxesSubplot at 0x7fdd54d9e150>"
            ]
          },
          "metadata": {
            "tags": []
          },
          "execution_count": 36
        },
        {
          "output_type": "display_data",
          "data": {
            "image/png": "[encoded data removed]",
            "text/plain": [
              "<Figure size 432x288 with 1 Axes>"
            ]
          },
          "metadata": {
            "tags": [],
            "needs_background": "light"
          }
        }
      ]
    },
    {
      "cell_type": "code",
      "metadata": {
        "id": "6y_oZMkcoFR7",
        "outputId": "2897d92a-67e5-4554-99ef-91c1418a5533",
        "colab": {
          "base_uri": "https://localhost:8080/",
          "height": 302
        }
      },
      "source": [
        "sns.histplot(new_df_ffill['PM2.5_CF1_ug/m3'])"
      ],
      "execution_count": 38,
      "outputs": [
        {
          "output_type": "execute_result",
          "data": {
            "text/plain": [
              "<matplotlib.axes._subplots.AxesSubplot at 0x7fdd5530c6d0>"
            ]
          },
          "metadata": {
            "tags": []
          },
          "execution_count": 38
        },
        {
          "output_type": "display_data",
          "data": {
            "image/png": "[encoded data removed]",
            "text/plain": [
              "<Figure size 432x288 with 1 Axes>"
            ]
          },
          "metadata": {
            "tags": [],
            "needs_background": "light"
          }
        }
      ]
    },
    {
      "cell_type": "code",
      "metadata": {
        "colab": {
          "base_uri": "https://localhost:8080/",
          "height": 356
        },
        "id": "s3sM2pbiI7w4",
        "outputId": "53212ea2-eb62-4c0b-b83f-6e3da130ac09"
      },
      "source": [
        "sns.distplot(new_df_ffill['RSSI_dbm'])"
      ],
      "execution_count": 28,
      "outputs": [
        {
          "output_type": "stream",
          "text": [
            "/usr/local/lib/python3.7/dist-packages/seaborn/distributions.py:2557: FutureWarning: `distplot` is a deprecated function and will be removed in a future version. Please adapt your code to use either `displot` (a figure-level function with similar flexibility) or `histplot` (an axes-level function for histograms).\n",
            "  warnings.warn(msg, FutureWarning)\n"
          ],
          "name": "stderr"
        },
        {
          "output_type": "execute_result",
          "data": {
            "text/plain": [
              "<matplotlib.axes._subplots.AxesSubplot at 0x7fdd5521ee50>"
            ]
          },
          "metadata": {
            "tags": []
          },
          "execution_count": 28
        },
        {
          "output_type": "display_data",
          "data": {
            "image/png": "[encoded data removed]",
            "text/plain": [
              "<Figure size 432x288 with 1 Axes>"
            ]
          },
          "metadata": {
            "tags": [],
            "needs_background": "light"
          }
        }
      ]
    },
    {
      "cell_type": "code",
      "metadata": {
        "id": "I29cjUkYVrYL"
      },
      "source": [
        ""
      ],
      "execution_count": 28,
      "outputs": []
    },
    {
      "cell_type": "markdown",
      "metadata": {
        "id": "Xg3TI5jglHzx"
      },
      "source": [
        "Some important features in the dataset include PM1, PM2.5, PM10, Signal Strength, Uptime, and so on. "
      ]
    },
    {
      "cell_type": "code",
      "metadata": {
        "id": "F_sKsKWUlKmT"
      },
      "source": [
        ""
      ],
      "execution_count": 28,
      "outputs": []
    }
  ]
}