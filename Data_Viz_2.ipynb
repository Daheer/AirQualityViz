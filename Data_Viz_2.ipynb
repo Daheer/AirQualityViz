{
  "nbformat": 4,
  "nbformat_minor": 0,
  "metadata": {
    "colab": {
      "name": "Data Viz 2",
      "provenance": [],
      "collapsed_sections": [],
      "include_colab_link": true
    },
    "kernelspec": {
      "name": "python3",
      "display_name": "Python 3"
    },
    "language_info": {
      "name": "python"
    },
    "accelerator": "GPU"
  },
  "cells": [
    {
      "cell_type": "markdown",
      "metadata": {
        "id": "view-in-github",
        "colab_type": "text"
      },
      "source": [
        "<a href=\"https://colab.research.google.com/github/gideononyewuenyi/Exploratory-analysis/blob/main/Data_Viz_2.ipynb\" target=\"_parent\"><img src=\"https://colab.research.google.com/assets/colab-badge.svg\" alt=\"Open In Colab\"/></a>"
      ]
    },
    {
      "cell_type": "markdown",
      "metadata": {
        "id": "Otbl7NQ70cQ7"
      },
      "source": [
        "\n",
        "**I LEFT SOME NOTE ABOUT THE DATA AT THE BOTTOM**"
      ]
    },
    {
      "cell_type": "code",
      "metadata": {
        "id": "rFBRgwp9n4vE"
      },
      "source": [
        "import numpy as np\n",
        "import pandas as pd\n",
        "import matplotlib.pyplot as plt\n",
        "from datetime import datetime\n",
        "import seaborn as sns\n",
        "sns.set_theme(style=\"whitegrid\")"
      ],
      "execution_count": null,
      "outputs": []
    },
    {
      "cell_type": "code",
      "metadata": {
        "id": "KP9zX-BUoTYa"
      },
      "source": [
        "url = \"https://raw.githubusercontent.com/gideononyewuenyi/Exploratory-analysis/main/Lekki%20Phase%201%20(outside)%20(6.451397%203.471201)%20Primary%2030_minute_average%2012_17_2019%206_6_2021.csv\"\n",
        "df = pd.read_csv (url)"
      ],
      "execution_count": null,
      "outputs": []
    },
    {
      "cell_type": "code",
      "metadata": {
        "colab": {
          "base_uri": "https://localhost:8080/",
          "height": 204
        },
        "id": "sFurnb2Vs7Nq",
        "outputId": "0a35b699-4824-4fb1-d443-b7117a01b85f"
      },
      "source": [
        "df.head()"
      ],
      "execution_count": null,
      "outputs": [
        {
          "output_type": "execute_result",
          "data": {
            "text/html": [
              "<div>\n",
              "<style scoped>\n",
              "    .dataframe tbody tr th:only-of-type {\n",
              "        vertical-align: middle;\n",
              "    }\n",
              "\n",
              "    .dataframe tbody tr th {\n",
              "        vertical-align: top;\n",
              "    }\n",
              "\n",
              "    .dataframe thead th {\n",
              "        text-align: right;\n",
              "    }\n",
              "</style>\n",
              "<table border=\"1\" class=\"dataframe\">\n",
              "  <thead>\n",
              "    <tr style=\"text-align: right;\">\n",
              "      <th></th>\n",
              "      <th>created_at</th>\n",
              "      <th>PM1.0_CF1_ug/m3</th>\n",
              "      <th>PM2.5_CF1_ug/m3</th>\n",
              "      <th>PM10.0_CF1_ug/m3</th>\n",
              "      <th>UptimeMinutes</th>\n",
              "      <th>RSSI_dbm</th>\n",
              "      <th>Temperature_F</th>\n",
              "      <th>Humidity_%</th>\n",
              "      <th>PM2.5_ATM_ug/m3</th>\n",
              "      <th>Unnamed: 9</th>\n",
              "    </tr>\n",
              "  </thead>\n",
              "  <tbody>\n",
              "    <tr>\n",
              "      <th>0</th>\n",
              "      <td>2019-12-17 20:00:00 UTC</td>\n",
              "      <td>1.99</td>\n",
              "      <td>3.05</td>\n",
              "      <td>3.27</td>\n",
              "      <td>3.25</td>\n",
              "      <td>-53.75</td>\n",
              "      <td>72.50</td>\n",
              "      <td>16.50</td>\n",
              "      <td>3.05</td>\n",
              "      <td>NaN</td>\n",
              "    </tr>\n",
              "    <tr>\n",
              "      <th>1</th>\n",
              "      <td>2019-12-17 20:30:00 UTC</td>\n",
              "      <td>1.89</td>\n",
              "      <td>2.80</td>\n",
              "      <td>3.09</td>\n",
              "      <td>11.19</td>\n",
              "      <td>-53.69</td>\n",
              "      <td>73.88</td>\n",
              "      <td>15.12</td>\n",
              "      <td>2.80</td>\n",
              "      <td>NaN</td>\n",
              "    </tr>\n",
              "    <tr>\n",
              "      <th>2</th>\n",
              "      <td>2019-12-17 21:00:00 UTC</td>\n",
              "      <td>34.62</td>\n",
              "      <td>93.43</td>\n",
              "      <td>141.47</td>\n",
              "      <td>38.00</td>\n",
              "      <td>-53.87</td>\n",
              "      <td>74.07</td>\n",
              "      <td>15.40</td>\n",
              "      <td>63.67</td>\n",
              "      <td>NaN</td>\n",
              "    </tr>\n",
              "    <tr>\n",
              "      <th>3</th>\n",
              "      <td>2019-12-17 21:30:00 UTC</td>\n",
              "      <td>0.89</td>\n",
              "      <td>2.59</td>\n",
              "      <td>3.58</td>\n",
              "      <td>68.00</td>\n",
              "      <td>-55.47</td>\n",
              "      <td>76.53</td>\n",
              "      <td>15.00</td>\n",
              "      <td>2.59</td>\n",
              "      <td>NaN</td>\n",
              "    </tr>\n",
              "    <tr>\n",
              "      <th>4</th>\n",
              "      <td>2019-12-17 22:00:00 UTC</td>\n",
              "      <td>0.00</td>\n",
              "      <td>0.00</td>\n",
              "      <td>0.01</td>\n",
              "      <td>98.00</td>\n",
              "      <td>-54.60</td>\n",
              "      <td>77.00</td>\n",
              "      <td>14.87</td>\n",
              "      <td>0.00</td>\n",
              "      <td>NaN</td>\n",
              "    </tr>\n",
              "  </tbody>\n",
              "</table>\n",
              "</div>"
            ],
            "text/plain": [
              "                created_at  PM1.0_CF1_ug/m3  ...  PM2.5_ATM_ug/m3  Unnamed: 9\n",
              "0  2019-12-17 20:00:00 UTC             1.99  ...             3.05         NaN\n",
              "1  2019-12-17 20:30:00 UTC             1.89  ...             2.80         NaN\n",
              "2  2019-12-17 21:00:00 UTC            34.62  ...            63.67         NaN\n",
              "3  2019-12-17 21:30:00 UTC             0.89  ...             2.59         NaN\n",
              "4  2019-12-17 22:00:00 UTC             0.00  ...             0.00         NaN\n",
              "\n",
              "[5 rows x 10 columns]"
            ]
          },
          "metadata": {
            "tags": []
          },
          "execution_count": 3
        }
      ]
    },
    {
      "cell_type": "code",
      "metadata": {
        "colab": {
          "base_uri": "https://localhost:8080/",
          "height": 204
        },
        "id": "gn6s-ciOGMXs",
        "outputId": "d088e272-c187-4fa4-d412-c89c89c11de5"
      },
      "source": [
        "df.sample(5)"
      ],
      "execution_count": null,
      "outputs": [
        {
          "output_type": "execute_result",
          "data": {
            "text/html": [
              "<div>\n",
              "<style scoped>\n",
              "    .dataframe tbody tr th:only-of-type {\n",
              "        vertical-align: middle;\n",
              "    }\n",
              "\n",
              "    .dataframe tbody tr th {\n",
              "        vertical-align: top;\n",
              "    }\n",
              "\n",
              "    .dataframe thead th {\n",
              "        text-align: right;\n",
              "    }\n",
              "</style>\n",
              "<table border=\"1\" class=\"dataframe\">\n",
              "  <thead>\n",
              "    <tr style=\"text-align: right;\">\n",
              "      <th></th>\n",
              "      <th>created_at</th>\n",
              "      <th>PM1.0_CF1_ug/m3</th>\n",
              "      <th>PM2.5_CF1_ug/m3</th>\n",
              "      <th>PM10.0_CF1_ug/m3</th>\n",
              "      <th>UptimeMinutes</th>\n",
              "      <th>RSSI_dbm</th>\n",
              "      <th>Temperature_F</th>\n",
              "      <th>Humidity_%</th>\n",
              "      <th>PM2.5_ATM_ug/m3</th>\n",
              "      <th>Unnamed: 9</th>\n",
              "    </tr>\n",
              "  </thead>\n",
              "  <tbody>\n",
              "    <tr>\n",
              "      <th>433</th>\n",
              "      <td>2020-01-07 07:00:00 UTC</td>\n",
              "      <td>2.49</td>\n",
              "      <td>3.21</td>\n",
              "      <td>3.37</td>\n",
              "      <td>12315.33</td>\n",
              "      <td>-59.80</td>\n",
              "      <td>82.00</td>\n",
              "      <td>17.0</td>\n",
              "      <td>3.21</td>\n",
              "      <td>NaN</td>\n",
              "    </tr>\n",
              "    <tr>\n",
              "      <th>19482</th>\n",
              "      <td>2020-09-12 16:30:00 UTC</td>\n",
              "      <td>4.49</td>\n",
              "      <td>6.40</td>\n",
              "      <td>6.56</td>\n",
              "      <td>18084.00</td>\n",
              "      <td>-74.00</td>\n",
              "      <td>80.00</td>\n",
              "      <td>54.0</td>\n",
              "      <td>6.40</td>\n",
              "      <td>NaN</td>\n",
              "    </tr>\n",
              "    <tr>\n",
              "      <th>14388</th>\n",
              "      <td>2020-07-09 19:30:00 UTC</td>\n",
              "      <td>4.69</td>\n",
              "      <td>6.57</td>\n",
              "      <td>6.87</td>\n",
              "      <td>13218.00</td>\n",
              "      <td>-59.40</td>\n",
              "      <td>86.13</td>\n",
              "      <td>35.2</td>\n",
              "      <td>6.57</td>\n",
              "      <td>NaN</td>\n",
              "    </tr>\n",
              "    <tr>\n",
              "      <th>29116</th>\n",
              "      <td>2021-02-10 09:30:00 UTC</td>\n",
              "      <td>4.05</td>\n",
              "      <td>5.40</td>\n",
              "      <td>5.68</td>\n",
              "      <td>4530.00</td>\n",
              "      <td>-70.27</td>\n",
              "      <td>73.00</td>\n",
              "      <td>21.0</td>\n",
              "      <td>5.40</td>\n",
              "      <td>NaN</td>\n",
              "    </tr>\n",
              "    <tr>\n",
              "      <th>19561</th>\n",
              "      <td>2020-09-13 08:00:00 UTC</td>\n",
              "      <td>0.90</td>\n",
              "      <td>1.36</td>\n",
              "      <td>1.48</td>\n",
              "      <td>19014.00</td>\n",
              "      <td>-79.07</td>\n",
              "      <td>78.00</td>\n",
              "      <td>56.0</td>\n",
              "      <td>1.36</td>\n",
              "      <td>NaN</td>\n",
              "    </tr>\n",
              "  </tbody>\n",
              "</table>\n",
              "</div>"
            ],
            "text/plain": [
              "                    created_at  PM1.0_CF1_ug/m3  ...  PM2.5_ATM_ug/m3  Unnamed: 9\n",
              "433    2020-01-07 07:00:00 UTC             2.49  ...             3.21         NaN\n",
              "19482  2020-09-12 16:30:00 UTC             4.49  ...             6.40         NaN\n",
              "14388  2020-07-09 19:30:00 UTC             4.69  ...             6.57         NaN\n",
              "29116  2021-02-10 09:30:00 UTC             4.05  ...             5.40         NaN\n",
              "19561  2020-09-13 08:00:00 UTC             0.90  ...             1.36         NaN\n",
              "\n",
              "[5 rows x 10 columns]"
            ]
          },
          "metadata": {
            "tags": []
          },
          "execution_count": 4
        }
      ]
    },
    {
      "cell_type": "code",
      "metadata": {
        "id": "mK9sAhXqwh8y"
      },
      "source": [
        ""
      ],
      "execution_count": null,
      "outputs": []
    },
    {
      "cell_type": "code",
      "metadata": {
        "colab": {
          "base_uri": "https://localhost:8080/",
          "height": 297
        },
        "id": "IMeg93xptTu3",
        "outputId": "b93fe18c-47dd-4232-b1de-b01311242885"
      },
      "source": [
        "df.describe()"
      ],
      "execution_count": null,
      "outputs": [
        {
          "output_type": "execute_result",
          "data": {
            "text/html": [
              "<div>\n",
              "<style scoped>\n",
              "    .dataframe tbody tr th:only-of-type {\n",
              "        vertical-align: middle;\n",
              "    }\n",
              "\n",
              "    .dataframe tbody tr th {\n",
              "        vertical-align: top;\n",
              "    }\n",
              "\n",
              "    .dataframe thead th {\n",
              "        text-align: right;\n",
              "    }\n",
              "</style>\n",
              "<table border=\"1\" class=\"dataframe\">\n",
              "  <thead>\n",
              "    <tr style=\"text-align: right;\">\n",
              "      <th></th>\n",
              "      <th>PM1.0_CF1_ug/m3</th>\n",
              "      <th>PM2.5_CF1_ug/m3</th>\n",
              "      <th>PM10.0_CF1_ug/m3</th>\n",
              "      <th>UptimeMinutes</th>\n",
              "      <th>RSSI_dbm</th>\n",
              "      <th>Temperature_F</th>\n",
              "      <th>Humidity_%</th>\n",
              "      <th>PM2.5_ATM_ug/m3</th>\n",
              "      <th>Unnamed: 9</th>\n",
              "    </tr>\n",
              "  </thead>\n",
              "  <tbody>\n",
              "    <tr>\n",
              "      <th>count</th>\n",
              "      <td>37538.000000</td>\n",
              "      <td>37538.000000</td>\n",
              "      <td>37538.000000</td>\n",
              "      <td>37538.000000</td>\n",
              "      <td>37538.000000</td>\n",
              "      <td>37538.000000</td>\n",
              "      <td>37538.000000</td>\n",
              "      <td>37538.000000</td>\n",
              "      <td>0.0</td>\n",
              "    </tr>\n",
              "    <tr>\n",
              "      <th>mean</th>\n",
              "      <td>6.007100</td>\n",
              "      <td>8.584424</td>\n",
              "      <td>9.092260</td>\n",
              "      <td>22233.899164</td>\n",
              "      <td>-66.844293</td>\n",
              "      <td>78.717398</td>\n",
              "      <td>31.854816</td>\n",
              "      <td>7.991469</td>\n",
              "      <td>NaN</td>\n",
              "    </tr>\n",
              "    <tr>\n",
              "      <th>std</th>\n",
              "      <td>10.415071</td>\n",
              "      <td>16.605593</td>\n",
              "      <td>18.286916</td>\n",
              "      <td>18422.876237</td>\n",
              "      <td>8.783105</td>\n",
              "      <td>6.350175</td>\n",
              "      <td>12.522367</td>\n",
              "      <td>12.175910</td>\n",
              "      <td>NaN</td>\n",
              "    </tr>\n",
              "    <tr>\n",
              "      <th>min</th>\n",
              "      <td>0.000000</td>\n",
              "      <td>0.000000</td>\n",
              "      <td>0.000000</td>\n",
              "      <td>2.000000</td>\n",
              "      <td>-87.000000</td>\n",
              "      <td>52.200000</td>\n",
              "      <td>10.000000</td>\n",
              "      <td>0.000000</td>\n",
              "      <td>NaN</td>\n",
              "    </tr>\n",
              "    <tr>\n",
              "      <th>25%</th>\n",
              "      <td>1.470000</td>\n",
              "      <td>2.120000</td>\n",
              "      <td>2.280000</td>\n",
              "      <td>6348.000000</td>\n",
              "      <td>-74.200000</td>\n",
              "      <td>73.930000</td>\n",
              "      <td>22.000000</td>\n",
              "      <td>2.120000</td>\n",
              "      <td>NaN</td>\n",
              "    </tr>\n",
              "    <tr>\n",
              "      <th>50%</th>\n",
              "      <td>3.470000</td>\n",
              "      <td>4.750000</td>\n",
              "      <td>5.030000</td>\n",
              "      <td>18293.000000</td>\n",
              "      <td>-69.930000</td>\n",
              "      <td>79.000000</td>\n",
              "      <td>30.000000</td>\n",
              "      <td>4.750000</td>\n",
              "      <td>NaN</td>\n",
              "    </tr>\n",
              "    <tr>\n",
              "      <th>75%</th>\n",
              "      <td>6.990000</td>\n",
              "      <td>9.580000</td>\n",
              "      <td>10.037500</td>\n",
              "      <td>34524.000000</td>\n",
              "      <td>-58.330000</td>\n",
              "      <td>83.000000</td>\n",
              "      <td>40.530000</td>\n",
              "      <td>9.570000</td>\n",
              "      <td>NaN</td>\n",
              "    </tr>\n",
              "    <tr>\n",
              "      <th>max</th>\n",
              "      <td>360.400000</td>\n",
              "      <td>737.140000</td>\n",
              "      <td>848.470000</td>\n",
              "      <td>71568.000000</td>\n",
              "      <td>-52.600000</td>\n",
              "      <td>105.270000</td>\n",
              "      <td>84.730000</td>\n",
              "      <td>490.740000</td>\n",
              "      <td>NaN</td>\n",
              "    </tr>\n",
              "  </tbody>\n",
              "</table>\n",
              "</div>"
            ],
            "text/plain": [
              "       PM1.0_CF1_ug/m3  PM2.5_CF1_ug/m3  ...  PM2.5_ATM_ug/m3  Unnamed: 9\n",
              "count     37538.000000     37538.000000  ...     37538.000000         0.0\n",
              "mean          6.007100         8.584424  ...         7.991469         NaN\n",
              "std          10.415071        16.605593  ...        12.175910         NaN\n",
              "min           0.000000         0.000000  ...         0.000000         NaN\n",
              "25%           1.470000         2.120000  ...         2.120000         NaN\n",
              "50%           3.470000         4.750000  ...         4.750000         NaN\n",
              "75%           6.990000         9.580000  ...         9.570000         NaN\n",
              "max         360.400000       737.140000  ...       490.740000         NaN\n",
              "\n",
              "[8 rows x 9 columns]"
            ]
          },
          "metadata": {
            "tags": []
          },
          "execution_count": 5
        }
      ]
    },
    {
      "cell_type": "code",
      "metadata": {
        "id": "D6c87ncCtgjO",
        "colab": {
          "base_uri": "https://localhost:8080/"
        },
        "outputId": "f03c1bda-fb4c-4b95-d8ba-fcded2bc654f"
      },
      "source": [
        "df.shape"
      ],
      "execution_count": null,
      "outputs": [
        {
          "output_type": "execute_result",
          "data": {
            "text/plain": [
              "(37595, 10)"
            ]
          },
          "metadata": {
            "tags": []
          },
          "execution_count": 6
        }
      ]
    },
    {
      "cell_type": "code",
      "metadata": {
        "colab": {
          "base_uri": "https://localhost:8080/"
        },
        "id": "1Z6GMH8e7Pw5",
        "outputId": "6bb14825-eead-4044-a5d0-fc86cb325630"
      },
      "source": [
        "df.columns"
      ],
      "execution_count": null,
      "outputs": [
        {
          "output_type": "execute_result",
          "data": {
            "text/plain": [
              "Index(['created_at', 'PM1.0_CF1_ug/m3', 'PM2.5_CF1_ug/m3', 'PM10.0_CF1_ug/m3',\n",
              "       'UptimeMinutes', 'RSSI_dbm', 'Temperature_F', 'Humidity_%',\n",
              "       'PM2.5_ATM_ug/m3', 'Unnamed: 9'],\n",
              "      dtype='object')"
            ]
          },
          "metadata": {
            "tags": []
          },
          "execution_count": 7
        }
      ]
    },
    {
      "cell_type": "code",
      "metadata": {
        "colab": {
          "base_uri": "https://localhost:8080/"
        },
        "id": "E3iulhU47YFn",
        "outputId": "8e873ef9-6c17-4ab9-9f65-998941c5cfe7"
      },
      "source": [
        "df.dtypes"
      ],
      "execution_count": null,
      "outputs": [
        {
          "output_type": "execute_result",
          "data": {
            "text/plain": [
              "created_at           object\n",
              "PM1.0_CF1_ug/m3     float64\n",
              "PM2.5_CF1_ug/m3     float64\n",
              "PM10.0_CF1_ug/m3    float64\n",
              "UptimeMinutes       float64\n",
              "RSSI_dbm            float64\n",
              "Temperature_F       float64\n",
              "Humidity_%          float64\n",
              "PM2.5_ATM_ug/m3     float64\n",
              "Unnamed: 9          float64\n",
              "dtype: object"
            ]
          },
          "metadata": {
            "tags": []
          },
          "execution_count": 8
        }
      ]
    },
    {
      "cell_type": "code",
      "metadata": {
        "colab": {
          "base_uri": "https://localhost:8080/"
        },
        "id": "kJxd-8897lsB",
        "outputId": "c2a50e68-3153-4458-f1be-0b9eb81fd047"
      },
      "source": [
        "df.isnull().sum()"
      ],
      "execution_count": null,
      "outputs": [
        {
          "output_type": "execute_result",
          "data": {
            "text/plain": [
              "created_at              0\n",
              "PM1.0_CF1_ug/m3        57\n",
              "PM2.5_CF1_ug/m3        57\n",
              "PM10.0_CF1_ug/m3       57\n",
              "UptimeMinutes          57\n",
              "RSSI_dbm               57\n",
              "Temperature_F          57\n",
              "Humidity_%             57\n",
              "PM2.5_ATM_ug/m3        57\n",
              "Unnamed: 9          37595\n",
              "dtype: int64"
            ]
          },
          "metadata": {
            "tags": []
          },
          "execution_count": 9
        }
      ]
    },
    {
      "cell_type": "code",
      "metadata": {
        "colab": {
          "base_uri": "https://localhost:8080/"
        },
        "id": "zPrGK9FG8HRl",
        "outputId": "64061090-86c9-45a2-fbe3-492bb2acfbcf"
      },
      "source": [
        "df.isnull().sum().sum()"
      ],
      "execution_count": null,
      "outputs": [
        {
          "output_type": "execute_result",
          "data": {
            "text/plain": [
              "38051"
            ]
          },
          "metadata": {
            "tags": []
          },
          "execution_count": 10
        }
      ]
    },
    {
      "cell_type": "code",
      "metadata": {
        "id": "KjMAURFp8zhv"
      },
      "source": [
        "new_df=df.drop(columns = ['Unnamed: 9'])"
      ],
      "execution_count": null,
      "outputs": []
    },
    {
      "cell_type": "code",
      "metadata": {
        "colab": {
          "base_uri": "https://localhost:8080/"
        },
        "id": "VAM43cNP9beC",
        "outputId": "0d063445-e771-44d0-953a-a1008d179d2f"
      },
      "source": [
        "new_df.columns"
      ],
      "execution_count": null,
      "outputs": [
        {
          "output_type": "execute_result",
          "data": {
            "text/plain": [
              "Index(['created_at', 'PM1.0_CF1_ug/m3', 'PM2.5_CF1_ug/m3', 'PM10.0_CF1_ug/m3',\n",
              "       'UptimeMinutes', 'RSSI_dbm', 'Temperature_F', 'Humidity_%',\n",
              "       'PM2.5_ATM_ug/m3'],\n",
              "      dtype='object')"
            ]
          },
          "metadata": {
            "tags": []
          },
          "execution_count": 12
        }
      ]
    },
    {
      "cell_type": "code",
      "metadata": {
        "colab": {
          "base_uri": "https://localhost:8080/"
        },
        "id": "6BOtqUPS-HhL",
        "outputId": "3abd723c-ee85-47fc-fd95-5582cc8a3db0"
      },
      "source": [
        "new_df.isnull().sum()"
      ],
      "execution_count": null,
      "outputs": [
        {
          "output_type": "execute_result",
          "data": {
            "text/plain": [
              "created_at           0\n",
              "PM1.0_CF1_ug/m3     57\n",
              "PM2.5_CF1_ug/m3     57\n",
              "PM10.0_CF1_ug/m3    57\n",
              "UptimeMinutes       57\n",
              "RSSI_dbm            57\n",
              "Temperature_F       57\n",
              "Humidity_%          57\n",
              "PM2.5_ATM_ug/m3     57\n",
              "dtype: int64"
            ]
          },
          "metadata": {
            "tags": []
          },
          "execution_count": 13
        }
      ]
    },
    {
      "cell_type": "code",
      "metadata": {
        "colab": {
          "base_uri": "https://localhost:8080/"
        },
        "id": "8BXSjAh8_FmC",
        "outputId": "dda7a15c-cb19-4f6c-eaa2-416be8cf7c81"
      },
      "source": [
        "new_df.isnull().sum().sum()"
      ],
      "execution_count": null,
      "outputs": [
        {
          "output_type": "execute_result",
          "data": {
            "text/plain": [
              "456"
            ]
          },
          "metadata": {
            "tags": []
          },
          "execution_count": 14
        }
      ]
    },
    {
      "cell_type": "code",
      "metadata": {
        "colab": {
          "base_uri": "https://localhost:8080/"
        },
        "id": "kQSR0-lE-28-",
        "outputId": "ef51a6cb-f786-41ec-c8a7-f787068f16b9"
      },
      "source": [
        "new_df.shape"
      ],
      "execution_count": null,
      "outputs": [
        {
          "output_type": "execute_result",
          "data": {
            "text/plain": [
              "(37595, 9)"
            ]
          },
          "metadata": {
            "tags": []
          },
          "execution_count": 15
        }
      ]
    },
    {
      "cell_type": "code",
      "metadata": {
        "id": "IA2inO6D-SWD"
      },
      "source": [
        "new_df_drop = new_df.dropna()"
      ],
      "execution_count": null,
      "outputs": []
    },
    {
      "cell_type": "code",
      "metadata": {
        "colab": {
          "base_uri": "https://localhost:8080/"
        },
        "id": "XhZB3qPs_VXf",
        "outputId": "c32af9e5-5e69-4e7a-bd26-9ebefbcd8466"
      },
      "source": [
        "new_df_drop.shape"
      ],
      "execution_count": null,
      "outputs": [
        {
          "output_type": "execute_result",
          "data": {
            "text/plain": [
              "(37538, 9)"
            ]
          },
          "metadata": {
            "tags": []
          },
          "execution_count": 17
        }
      ]
    },
    {
      "cell_type": "code",
      "metadata": {
        "colab": {
          "base_uri": "https://localhost:8080/"
        },
        "id": "VgjUtDmy_hC1",
        "outputId": "1b4ff5d1-f3a7-4b0d-e5fd-f478a74668d1"
      },
      "source": [
        "new_df_drop.isnull().sum()"
      ],
      "execution_count": null,
      "outputs": [
        {
          "output_type": "execute_result",
          "data": {
            "text/plain": [
              "created_at          0\n",
              "PM1.0_CF1_ug/m3     0\n",
              "PM2.5_CF1_ug/m3     0\n",
              "PM10.0_CF1_ug/m3    0\n",
              "UptimeMinutes       0\n",
              "RSSI_dbm            0\n",
              "Temperature_F       0\n",
              "Humidity_%          0\n",
              "PM2.5_ATM_ug/m3     0\n",
              "dtype: int64"
            ]
          },
          "metadata": {
            "tags": []
          },
          "execution_count": 18
        }
      ]
    },
    {
      "cell_type": "code",
      "metadata": {
        "id": "7L8XBh1L_pBG"
      },
      "source": [
        "new_df_ffill = new_df.fillna(method='ffill')"
      ],
      "execution_count": null,
      "outputs": []
    },
    {
      "cell_type": "code",
      "metadata": {
        "id": "XXJ8hWByAc9S"
      },
      "source": [
        "new_df_bfill = new_df.fillna(method='bfill')"
      ],
      "execution_count": null,
      "outputs": []
    },
    {
      "cell_type": "code",
      "metadata": {
        "colab": {
          "base_uri": "https://localhost:8080/"
        },
        "id": "JLvCnaoQAt6i",
        "outputId": "dc7960be-f5d6-4790-ee43-95a6c52af662"
      },
      "source": [
        "new_df_ffill.shape"
      ],
      "execution_count": null,
      "outputs": [
        {
          "output_type": "execute_result",
          "data": {
            "text/plain": [
              "(37595, 9)"
            ]
          },
          "metadata": {
            "tags": []
          },
          "execution_count": 21
        }
      ]
    },
    {
      "cell_type": "code",
      "metadata": {
        "colab": {
          "base_uri": "https://localhost:8080/"
        },
        "id": "VKUtbSnjAxky",
        "outputId": "04581b47-7cf1-4f05-b628-f1b6e070b037"
      },
      "source": [
        "new_df_bfill.shape"
      ],
      "execution_count": null,
      "outputs": [
        {
          "output_type": "execute_result",
          "data": {
            "text/plain": [
              "(37595, 9)"
            ]
          },
          "metadata": {
            "tags": []
          },
          "execution_count": 22
        }
      ]
    },
    {
      "cell_type": "code",
      "metadata": {
        "colab": {
          "base_uri": "https://localhost:8080/"
        },
        "id": "zCYgdCynA0ys",
        "outputId": "8b34c755-4ff6-4016-9bbc-0bd66c289448"
      },
      "source": [
        "new_df_drop.shape"
      ],
      "execution_count": null,
      "outputs": [
        {
          "output_type": "execute_result",
          "data": {
            "text/plain": [
              "(37538, 9)"
            ]
          },
          "metadata": {
            "tags": []
          },
          "execution_count": 23
        }
      ]
    },
    {
      "cell_type": "code",
      "metadata": {
        "id": "5dt7ZHyZA3rP",
        "colab": {
          "base_uri": "https://localhost:8080/",
          "height": 204
        },
        "outputId": "0c2f0e1e-9892-4b66-d8cd-4e8cb07d887d"
      },
      "source": [
        "new_df_ffill.head()"
      ],
      "execution_count": null,
      "outputs": [
        {
          "output_type": "execute_result",
          "data": {
            "text/html": [
              "<div>\n",
              "<style scoped>\n",
              "    .dataframe tbody tr th:only-of-type {\n",
              "        vertical-align: middle;\n",
              "    }\n",
              "\n",
              "    .dataframe tbody tr th {\n",
              "        vertical-align: top;\n",
              "    }\n",
              "\n",
              "    .dataframe thead th {\n",
              "        text-align: right;\n",
              "    }\n",
              "</style>\n",
              "<table border=\"1\" class=\"dataframe\">\n",
              "  <thead>\n",
              "    <tr style=\"text-align: right;\">\n",
              "      <th></th>\n",
              "      <th>created_at</th>\n",
              "      <th>PM1.0_CF1_ug/m3</th>\n",
              "      <th>PM2.5_CF1_ug/m3</th>\n",
              "      <th>PM10.0_CF1_ug/m3</th>\n",
              "      <th>UptimeMinutes</th>\n",
              "      <th>RSSI_dbm</th>\n",
              "      <th>Temperature_F</th>\n",
              "      <th>Humidity_%</th>\n",
              "      <th>PM2.5_ATM_ug/m3</th>\n",
              "    </tr>\n",
              "  </thead>\n",
              "  <tbody>\n",
              "    <tr>\n",
              "      <th>0</th>\n",
              "      <td>2019-12-17 20:00:00 UTC</td>\n",
              "      <td>1.99</td>\n",
              "      <td>3.05</td>\n",
              "      <td>3.27</td>\n",
              "      <td>3.25</td>\n",
              "      <td>-53.75</td>\n",
              "      <td>72.50</td>\n",
              "      <td>16.50</td>\n",
              "      <td>3.05</td>\n",
              "    </tr>\n",
              "    <tr>\n",
              "      <th>1</th>\n",
              "      <td>2019-12-17 20:30:00 UTC</td>\n",
              "      <td>1.89</td>\n",
              "      <td>2.80</td>\n",
              "      <td>3.09</td>\n",
              "      <td>11.19</td>\n",
              "      <td>-53.69</td>\n",
              "      <td>73.88</td>\n",
              "      <td>15.12</td>\n",
              "      <td>2.80</td>\n",
              "    </tr>\n",
              "    <tr>\n",
              "      <th>2</th>\n",
              "      <td>2019-12-17 21:00:00 UTC</td>\n",
              "      <td>34.62</td>\n",
              "      <td>93.43</td>\n",
              "      <td>141.47</td>\n",
              "      <td>38.00</td>\n",
              "      <td>-53.87</td>\n",
              "      <td>74.07</td>\n",
              "      <td>15.40</td>\n",
              "      <td>63.67</td>\n",
              "    </tr>\n",
              "    <tr>\n",
              "      <th>3</th>\n",
              "      <td>2019-12-17 21:30:00 UTC</td>\n",
              "      <td>0.89</td>\n",
              "      <td>2.59</td>\n",
              "      <td>3.58</td>\n",
              "      <td>68.00</td>\n",
              "      <td>-55.47</td>\n",
              "      <td>76.53</td>\n",
              "      <td>15.00</td>\n",
              "      <td>2.59</td>\n",
              "    </tr>\n",
              "    <tr>\n",
              "      <th>4</th>\n",
              "      <td>2019-12-17 22:00:00 UTC</td>\n",
              "      <td>0.00</td>\n",
              "      <td>0.00</td>\n",
              "      <td>0.01</td>\n",
              "      <td>98.00</td>\n",
              "      <td>-54.60</td>\n",
              "      <td>77.00</td>\n",
              "      <td>14.87</td>\n",
              "      <td>0.00</td>\n",
              "    </tr>\n",
              "  </tbody>\n",
              "</table>\n",
              "</div>"
            ],
            "text/plain": [
              "                created_at  PM1.0_CF1_ug/m3  ...  Humidity_%  PM2.5_ATM_ug/m3\n",
              "0  2019-12-17 20:00:00 UTC             1.99  ...       16.50             3.05\n",
              "1  2019-12-17 20:30:00 UTC             1.89  ...       15.12             2.80\n",
              "2  2019-12-17 21:00:00 UTC            34.62  ...       15.40            63.67\n",
              "3  2019-12-17 21:30:00 UTC             0.89  ...       15.00             2.59\n",
              "4  2019-12-17 22:00:00 UTC             0.00  ...       14.87             0.00\n",
              "\n",
              "[5 rows x 9 columns]"
            ]
          },
          "metadata": {
            "tags": []
          },
          "execution_count": 24
        }
      ]
    },
    {
      "cell_type": "code",
      "metadata": {
        "colab": {
          "base_uri": "https://localhost:8080/",
          "height": 204
        },
        "id": "C2nl9q0aAVG4",
        "outputId": "676c8b8e-4d71-446c-c793-dffaa9450c92"
      },
      "source": [
        "new_df_ffill.tail()"
      ],
      "execution_count": null,
      "outputs": [
        {
          "output_type": "execute_result",
          "data": {
            "text/html": [
              "<div>\n",
              "<style scoped>\n",
              "    .dataframe tbody tr th:only-of-type {\n",
              "        vertical-align: middle;\n",
              "    }\n",
              "\n",
              "    .dataframe tbody tr th {\n",
              "        vertical-align: top;\n",
              "    }\n",
              "\n",
              "    .dataframe thead th {\n",
              "        text-align: right;\n",
              "    }\n",
              "</style>\n",
              "<table border=\"1\" class=\"dataframe\">\n",
              "  <thead>\n",
              "    <tr style=\"text-align: right;\">\n",
              "      <th></th>\n",
              "      <th>created_at</th>\n",
              "      <th>PM1.0_CF1_ug/m3</th>\n",
              "      <th>PM2.5_CF1_ug/m3</th>\n",
              "      <th>PM10.0_CF1_ug/m3</th>\n",
              "      <th>UptimeMinutes</th>\n",
              "      <th>RSSI_dbm</th>\n",
              "      <th>Temperature_F</th>\n",
              "      <th>Humidity_%</th>\n",
              "      <th>PM2.5_ATM_ug/m3</th>\n",
              "    </tr>\n",
              "  </thead>\n",
              "  <tbody>\n",
              "    <tr>\n",
              "      <th>37590</th>\n",
              "      <td>2021-06-06 06:00:00 UTC</td>\n",
              "      <td>40.47</td>\n",
              "      <td>56.64</td>\n",
              "      <td>59.53</td>\n",
              "      <td>798.0</td>\n",
              "      <td>-77.33</td>\n",
              "      <td>86.00</td>\n",
              "      <td>64.00</td>\n",
              "      <td>44.06</td>\n",
              "    </tr>\n",
              "    <tr>\n",
              "      <th>37591</th>\n",
              "      <td>2021-06-06 06:30:00 UTC</td>\n",
              "      <td>40.47</td>\n",
              "      <td>56.64</td>\n",
              "      <td>59.53</td>\n",
              "      <td>798.0</td>\n",
              "      <td>-77.33</td>\n",
              "      <td>86.00</td>\n",
              "      <td>64.00</td>\n",
              "      <td>44.06</td>\n",
              "    </tr>\n",
              "    <tr>\n",
              "      <th>37592</th>\n",
              "      <td>2021-06-06 07:00:00 UTC</td>\n",
              "      <td>26.22</td>\n",
              "      <td>37.35</td>\n",
              "      <td>39.07</td>\n",
              "      <td>962.0</td>\n",
              "      <td>-82.31</td>\n",
              "      <td>88.38</td>\n",
              "      <td>62.62</td>\n",
              "      <td>34.06</td>\n",
              "    </tr>\n",
              "    <tr>\n",
              "      <th>37593</th>\n",
              "      <td>2021-06-06 07:30:00 UTC</td>\n",
              "      <td>23.22</td>\n",
              "      <td>33.16</td>\n",
              "      <td>34.51</td>\n",
              "      <td>990.0</td>\n",
              "      <td>-75.20</td>\n",
              "      <td>89.73</td>\n",
              "      <td>57.33</td>\n",
              "      <td>31.54</td>\n",
              "    </tr>\n",
              "    <tr>\n",
              "      <th>37594</th>\n",
              "      <td>2021-06-06 08:00:00 UTC</td>\n",
              "      <td>23.23</td>\n",
              "      <td>32.86</td>\n",
              "      <td>33.53</td>\n",
              "      <td>1008.0</td>\n",
              "      <td>-75.67</td>\n",
              "      <td>91.00</td>\n",
              "      <td>55.33</td>\n",
              "      <td>31.37</td>\n",
              "    </tr>\n",
              "  </tbody>\n",
              "</table>\n",
              "</div>"
            ],
            "text/plain": [
              "                    created_at  PM1.0_CF1_ug/m3  ...  Humidity_%  PM2.5_ATM_ug/m3\n",
              "37590  2021-06-06 06:00:00 UTC            40.47  ...       64.00            44.06\n",
              "37591  2021-06-06 06:30:00 UTC            40.47  ...       64.00            44.06\n",
              "37592  2021-06-06 07:00:00 UTC            26.22  ...       62.62            34.06\n",
              "37593  2021-06-06 07:30:00 UTC            23.22  ...       57.33            31.54\n",
              "37594  2021-06-06 08:00:00 UTC            23.23  ...       55.33            31.37\n",
              "\n",
              "[5 rows x 9 columns]"
            ]
          },
          "metadata": {
            "tags": []
          },
          "execution_count": 25
        }
      ]
    },
    {
      "cell_type": "code",
      "metadata": {
        "colab": {
          "base_uri": "https://localhost:8080/",
          "height": 204
        },
        "id": "O6RFgTj6CR5A",
        "outputId": "bbf3e89d-e2be-48e4-c71b-be63e8f40779"
      },
      "source": [
        "new_df_ffill.sample(5)"
      ],
      "execution_count": null,
      "outputs": [
        {
          "output_type": "execute_result",
          "data": {
            "text/html": [
              "<div>\n",
              "<style scoped>\n",
              "    .dataframe tbody tr th:only-of-type {\n",
              "        vertical-align: middle;\n",
              "    }\n",
              "\n",
              "    .dataframe tbody tr th {\n",
              "        vertical-align: top;\n",
              "    }\n",
              "\n",
              "    .dataframe thead th {\n",
              "        text-align: right;\n",
              "    }\n",
              "</style>\n",
              "<table border=\"1\" class=\"dataframe\">\n",
              "  <thead>\n",
              "    <tr style=\"text-align: right;\">\n",
              "      <th></th>\n",
              "      <th>created_at</th>\n",
              "      <th>PM1.0_CF1_ug/m3</th>\n",
              "      <th>PM2.5_CF1_ug/m3</th>\n",
              "      <th>PM10.0_CF1_ug/m3</th>\n",
              "      <th>UptimeMinutes</th>\n",
              "      <th>RSSI_dbm</th>\n",
              "      <th>Temperature_F</th>\n",
              "      <th>Humidity_%</th>\n",
              "      <th>PM2.5_ATM_ug/m3</th>\n",
              "    </tr>\n",
              "  </thead>\n",
              "  <tbody>\n",
              "    <tr>\n",
              "      <th>29856</th>\n",
              "      <td>2021-02-25 19:30:00 UTC</td>\n",
              "      <td>4.56</td>\n",
              "      <td>5.95</td>\n",
              "      <td>6.18</td>\n",
              "      <td>10435.0</td>\n",
              "      <td>-73.00</td>\n",
              "      <td>73.0</td>\n",
              "      <td>22.20</td>\n",
              "      <td>5.95</td>\n",
              "    </tr>\n",
              "    <tr>\n",
              "      <th>13874</th>\n",
              "      <td>2020-07-04 02:30:00 UTC</td>\n",
              "      <td>17.74</td>\n",
              "      <td>26.47</td>\n",
              "      <td>27.28</td>\n",
              "      <td>4999.0</td>\n",
              "      <td>-56.57</td>\n",
              "      <td>88.0</td>\n",
              "      <td>47.00</td>\n",
              "      <td>26.42</td>\n",
              "    </tr>\n",
              "    <tr>\n",
              "      <th>6770</th>\n",
              "      <td>2020-04-13 07:30:00 UTC</td>\n",
              "      <td>4.95</td>\n",
              "      <td>6.62</td>\n",
              "      <td>6.96</td>\n",
              "      <td>21150.0</td>\n",
              "      <td>-60.20</td>\n",
              "      <td>79.0</td>\n",
              "      <td>25.00</td>\n",
              "      <td>6.62</td>\n",
              "    </tr>\n",
              "    <tr>\n",
              "      <th>23674</th>\n",
              "      <td>2020-10-26 00:30:00 UTC</td>\n",
              "      <td>7.05</td>\n",
              "      <td>9.76</td>\n",
              "      <td>10.26</td>\n",
              "      <td>8901.0</td>\n",
              "      <td>-74.33</td>\n",
              "      <td>76.0</td>\n",
              "      <td>46.47</td>\n",
              "      <td>9.76</td>\n",
              "    </tr>\n",
              "    <tr>\n",
              "      <th>37568</th>\n",
              "      <td>2021-06-05 19:00:00 UTC</td>\n",
              "      <td>28.19</td>\n",
              "      <td>37.71</td>\n",
              "      <td>38.95</td>\n",
              "      <td>240.0</td>\n",
              "      <td>-81.73</td>\n",
              "      <td>88.0</td>\n",
              "      <td>53.60</td>\n",
              "      <td>32.82</td>\n",
              "    </tr>\n",
              "  </tbody>\n",
              "</table>\n",
              "</div>"
            ],
            "text/plain": [
              "                    created_at  PM1.0_CF1_ug/m3  ...  Humidity_%  PM2.5_ATM_ug/m3\n",
              "29856  2021-02-25 19:30:00 UTC             4.56  ...       22.20             5.95\n",
              "13874  2020-07-04 02:30:00 UTC            17.74  ...       47.00            26.42\n",
              "6770   2020-04-13 07:30:00 UTC             4.95  ...       25.00             6.62\n",
              "23674  2020-10-26 00:30:00 UTC             7.05  ...       46.47             9.76\n",
              "37568  2021-06-05 19:00:00 UTC            28.19  ...       53.60            32.82\n",
              "\n",
              "[5 rows x 9 columns]"
            ]
          },
          "metadata": {
            "tags": []
          },
          "execution_count": 26
        }
      ]
    },
    {
      "cell_type": "code",
      "metadata": {
        "colab": {
          "base_uri": "https://localhost:8080/",
          "height": 297
        },
        "id": "jZ2vD8DExIjg",
        "outputId": "4e9c82a5-336e-4ce8-cff1-d92f73067125"
      },
      "source": [
        "new_df_ffill.describe()"
      ],
      "execution_count": null,
      "outputs": [
        {
          "output_type": "execute_result",
          "data": {
            "text/html": [
              "<div>\n",
              "<style scoped>\n",
              "    .dataframe tbody tr th:only-of-type {\n",
              "        vertical-align: middle;\n",
              "    }\n",
              "\n",
              "    .dataframe tbody tr th {\n",
              "        vertical-align: top;\n",
              "    }\n",
              "\n",
              "    .dataframe thead th {\n",
              "        text-align: right;\n",
              "    }\n",
              "</style>\n",
              "<table border=\"1\" class=\"dataframe\">\n",
              "  <thead>\n",
              "    <tr style=\"text-align: right;\">\n",
              "      <th></th>\n",
              "      <th>PM1.0_CF1_ug/m3</th>\n",
              "      <th>PM2.5_CF1_ug/m3</th>\n",
              "      <th>PM10.0_CF1_ug/m3</th>\n",
              "      <th>UptimeMinutes</th>\n",
              "      <th>RSSI_dbm</th>\n",
              "      <th>Temperature_F</th>\n",
              "      <th>Humidity_%</th>\n",
              "      <th>PM2.5_ATM_ug/m3</th>\n",
              "    </tr>\n",
              "  </thead>\n",
              "  <tbody>\n",
              "    <tr>\n",
              "      <th>count</th>\n",
              "      <td>37595.000000</td>\n",
              "      <td>37595.000000</td>\n",
              "      <td>37595.000000</td>\n",
              "      <td>37595.000000</td>\n",
              "      <td>37595.000000</td>\n",
              "      <td>37595.00000</td>\n",
              "      <td>37595.000000</td>\n",
              "      <td>37595.000000</td>\n",
              "    </tr>\n",
              "    <tr>\n",
              "      <th>mean</th>\n",
              "      <td>6.007333</td>\n",
              "      <td>8.583804</td>\n",
              "      <td>9.091479</td>\n",
              "      <td>22210.031092</td>\n",
              "      <td>-66.849480</td>\n",
              "      <td>78.72105</td>\n",
              "      <td>31.860672</td>\n",
              "      <td>7.990410</td>\n",
              "    </tr>\n",
              "    <tr>\n",
              "      <th>std</th>\n",
              "      <td>10.414809</td>\n",
              "      <td>16.602185</td>\n",
              "      <td>18.282239</td>\n",
              "      <td>18421.318729</td>\n",
              "      <td>8.782886</td>\n",
              "      <td>6.35755</td>\n",
              "      <td>12.536009</td>\n",
              "      <td>12.174536</td>\n",
              "    </tr>\n",
              "    <tr>\n",
              "      <th>min</th>\n",
              "      <td>0.000000</td>\n",
              "      <td>0.000000</td>\n",
              "      <td>0.000000</td>\n",
              "      <td>2.000000</td>\n",
              "      <td>-87.000000</td>\n",
              "      <td>52.20000</td>\n",
              "      <td>10.000000</td>\n",
              "      <td>0.000000</td>\n",
              "    </tr>\n",
              "    <tr>\n",
              "      <th>25%</th>\n",
              "      <td>1.460000</td>\n",
              "      <td>2.120000</td>\n",
              "      <td>2.280000</td>\n",
              "      <td>6326.500000</td>\n",
              "      <td>-74.200000</td>\n",
              "      <td>73.93000</td>\n",
              "      <td>22.000000</td>\n",
              "      <td>2.120000</td>\n",
              "    </tr>\n",
              "    <tr>\n",
              "      <th>50%</th>\n",
              "      <td>3.460000</td>\n",
              "      <td>4.750000</td>\n",
              "      <td>5.030000</td>\n",
              "      <td>18243.000000</td>\n",
              "      <td>-69.930000</td>\n",
              "      <td>79.00000</td>\n",
              "      <td>30.000000</td>\n",
              "      <td>4.750000</td>\n",
              "    </tr>\n",
              "    <tr>\n",
              "      <th>75%</th>\n",
              "      <td>6.990000</td>\n",
              "      <td>9.580000</td>\n",
              "      <td>10.035000</td>\n",
              "      <td>34494.000000</td>\n",
              "      <td>-58.330000</td>\n",
              "      <td>83.00000</td>\n",
              "      <td>40.530000</td>\n",
              "      <td>9.570000</td>\n",
              "    </tr>\n",
              "    <tr>\n",
              "      <th>max</th>\n",
              "      <td>360.400000</td>\n",
              "      <td>737.140000</td>\n",
              "      <td>848.470000</td>\n",
              "      <td>71568.000000</td>\n",
              "      <td>-52.600000</td>\n",
              "      <td>105.27000</td>\n",
              "      <td>84.730000</td>\n",
              "      <td>490.740000</td>\n",
              "    </tr>\n",
              "  </tbody>\n",
              "</table>\n",
              "</div>"
            ],
            "text/plain": [
              "       PM1.0_CF1_ug/m3  PM2.5_CF1_ug/m3  ...    Humidity_%  PM2.5_ATM_ug/m3\n",
              "count     37595.000000     37595.000000  ...  37595.000000     37595.000000\n",
              "mean          6.007333         8.583804  ...     31.860672         7.990410\n",
              "std          10.414809        16.602185  ...     12.536009        12.174536\n",
              "min           0.000000         0.000000  ...     10.000000         0.000000\n",
              "25%           1.460000         2.120000  ...     22.000000         2.120000\n",
              "50%           3.460000         4.750000  ...     30.000000         4.750000\n",
              "75%           6.990000         9.580000  ...     40.530000         9.570000\n",
              "max         360.400000       737.140000  ...     84.730000       490.740000\n",
              "\n",
              "[8 rows x 8 columns]"
            ]
          },
          "metadata": {
            "tags": []
          },
          "execution_count": 27
        }
      ]
    },
    {
      "cell_type": "code",
      "metadata": {
        "id": "xMBiDuW7xaaU"
      },
      "source": [
        "#new_df_ffill = new_df_ffil.rename(columns = {'str_player_name': 'PlayerName', 'str_positions': ...."
      ],
      "execution_count": null,
      "outputs": []
    },
    {
      "cell_type": "code",
      "metadata": {
        "id": "5XeeNv04Pk2G",
        "colab": {
          "base_uri": "https://localhost:8080/"
        },
        "outputId": "2db2d6d3-b285-4c30-a99c-96c6da0af059"
      },
      "source": [
        "new_df_ffill.nunique()"
      ],
      "execution_count": null,
      "outputs": [
        {
          "output_type": "execute_result",
          "data": {
            "text/plain": [
              "created_at          23697\n",
              "PM1.0_CF1_ug/m3      2752\n",
              "PM2.5_CF1_ug/m3      3423\n",
              "PM10.0_CF1_ug/m3     3528\n",
              "UptimeMinutes       18029\n",
              "RSSI_dbm              627\n",
              "Temperature_F         699\n",
              "Humidity_%           1059\n",
              "PM2.5_ATM_ug/m3      3299\n",
              "dtype: int64"
            ]
          },
          "metadata": {
            "tags": []
          },
          "execution_count": 29
        }
      ]
    },
    {
      "cell_type": "code",
      "metadata": {
        "colab": {
          "base_uri": "https://localhost:8080/",
          "height": 356
        },
        "id": "yI-_uiRLnoub",
        "outputId": "9a55784a-8a1d-43db-c2c1-292db36b9747"
      },
      "source": [
        "sns.distplot(new_df_ffill['PM2.5_ATM_ug/m3'])"
      ],
      "execution_count": null,
      "outputs": [
        {
          "output_type": "stream",
          "text": [
            "/usr/local/lib/python3.7/dist-packages/seaborn/distributions.py:2557: FutureWarning: `distplot` is a deprecated function and will be removed in a future version. Please adapt your code to use either `displot` (a figure-level function with similar flexibility) or `histplot` (an axes-level function for histograms).\n",
            "  warnings.warn(msg, FutureWarning)\n"
          ],
          "name": "stderr"
        },
        {
          "output_type": "execute_result",
          "data": {
            "text/plain": [
              "<matplotlib.axes._subplots.AxesSubplot at 0x7f5ff5415950>"
            ]
          },
          "metadata": {
            "tags": []
          },
          "execution_count": 30
        },
        {
          "output_type": "display_data",
          "data": {
            "image/png": "[encoded data removed]",
            "text/plain": [
              "<Figure size 432x288 with 1 Axes>"
            ]
          },
          "metadata": {
            "tags": [],
            "needs_background": "light"
          }
        }
      ]
    },
    {
      "cell_type": "code",
      "metadata": {
        "colab": {
          "base_uri": "https://localhost:8080/",
          "height": 302
        },
        "id": "6y_oZMkcoFR7",
        "outputId": "5e9f238c-eb1c-406e-a79b-fd8e721c7ca8"
      },
      "source": [
        "sns.histplot(new_df_ffill['PM2.5_ATM_ug/m3'])"
      ],
      "execution_count": null,
      "outputs": [
        {
          "output_type": "execute_result",
          "data": {
            "text/plain": [
              "<matplotlib.axes._subplots.AxesSubplot at 0x7f5ff5c32110>"
            ]
          },
          "metadata": {
            "tags": []
          },
          "execution_count": 31
        },
        {
          "output_type": "display_data",
          "data": {
            "image/png": "[encoded data removed]",
            "text/plain": [
              "<Figure size 432x288 with 1 Axes>"
            ]
          },
          "metadata": {
            "tags": [],
            "needs_background": "light"
          }
        }
      ]
    },
    {
      "cell_type": "code",
      "metadata": {
        "colab": {
          "base_uri": "https://localhost:8080/",
          "height": 367
        },
        "id": "s3sM2pbiI7w4",
        "outputId": "20e273c5-8961-409b-88b1-02ef5fb6d555"
      },
      "source": [
        "sns.distplot(new_df_ffill['UptimeMinutes'])"
      ],
      "execution_count": null,
      "outputs": [
        {
          "output_type": "stream",
          "text": [
            "/usr/local/lib/python3.7/dist-packages/seaborn/distributions.py:2557: FutureWarning: `distplot` is a deprecated function and will be removed in a future version. Please adapt your code to use either `displot` (a figure-level function with similar flexibility) or `histplot` (an axes-level function for histograms).\n",
            "  warnings.warn(msg, FutureWarning)\n"
          ],
          "name": "stderr"
        },
        {
          "output_type": "execute_result",
          "data": {
            "text/plain": [
              "<matplotlib.axes._subplots.AxesSubplot at 0x7f5ff6d23e10>"
            ]
          },
          "metadata": {
            "tags": []
          },
          "execution_count": 32
        },
        {
          "output_type": "display_data",
          "data": {
            "image/png": "[encoded data removed]",
            "text/plain": [
              "<Figure size 432x288 with 1 Axes>"
            ]
          },
          "metadata": {
            "tags": [],
            "needs_background": "light"
          }
        }
      ]
    },
    {
      "cell_type": "code",
      "metadata": {
        "colab": {
          "base_uri": "https://localhost:8080/"
        },
        "id": "oU4Ni7NGb3Hc",
        "outputId": "83f45670-5a16-4fcc-acc7-95a61aa6d3b9"
      },
      "source": [
        "new_df_ffill.dtypes"
      ],
      "execution_count": null,
      "outputs": [
        {
          "output_type": "execute_result",
          "data": {
            "text/plain": [
              "created_at           object\n",
              "PM1.0_CF1_ug/m3     float64\n",
              "PM2.5_CF1_ug/m3     float64\n",
              "PM10.0_CF1_ug/m3    float64\n",
              "UptimeMinutes       float64\n",
              "RSSI_dbm            float64\n",
              "Temperature_F       float64\n",
              "Humidity_%          float64\n",
              "PM2.5_ATM_ug/m3     float64\n",
              "dtype: object"
            ]
          },
          "metadata": {
            "tags": []
          },
          "execution_count": 33
        }
      ]
    },
    {
      "cell_type": "code",
      "metadata": {
        "id": "I29cjUkYVrYL",
        "colab": {
          "base_uri": "https://localhost:8080/",
          "height": 318
        },
        "outputId": "2a7c5436-603d-4aae-d553-91bef7d238f7"
      },
      "source": [
        "new_df_ffill.plot(x='created_at', \n",
        "             y='PM2.5_ATM_ug/m3', \n",
        "             title='PM2.5 over time', legend='full')"
      ],
      "execution_count": null,
      "outputs": [
        {
          "output_type": "execute_result",
          "data": {
            "text/plain": [
              "<matplotlib.axes._subplots.AxesSubplot at 0x7f5fe97bf590>"
            ]
          },
          "metadata": {
            "tags": []
          },
          "execution_count": 37
        },
        {
          "output_type": "display_data",
          "data": {
            "image/png": "[encoded data removed]",
            "text/plain": [
              "<Figure size 432x288 with 1 Axes>"
            ]
          },
          "metadata": {
            "tags": [],
            "needs_background": "light"
          }
        }
      ]
    },
    {
      "cell_type": "markdown",
      "metadata": {
        "id": "qB97eJn07IZK"
      },
      "source": [
        "Description of some features:\n",
        "\n",
        "1. PM 1.0 - Ambient suspended particulate matter,  the mass concentration of ambient suspended particulate matter (PM) of an aerodynamic diameter of less than 1 micrometer.\n",
        "\n",
        "2. PM 2.5  - Fine particulate matter, an air pollutant that is a concern for people's health when levels in air are high. PM2.5 are tiny particles in the air that reduce visibility and cause the air to appear hazy when levels are elevated\n",
        "\n",
        "3. PM 10 - particulate matter in the air with a diameter of 10 micrometers or less, including smoke, dust, soot, salts, acids, and metals. Particulate matter can also be formed indirectly when gases emitted from motor vehicles and industries undergo chemical reactions in the atmosphere.\n",
        "\n",
        "Note that: CF=1 is applicable for a standard environment (indoors / chamber) while the CF=ATM is applicable under atmospheric environment (outdoors / am202bient).\n",
        "\n",
        "Particulate matter is the sum of all solid and liquid particles suspended in air many of which are hazardous. This complex mixture includes both organic and inorganic particles, such as dust, pollen, soot, smoke, and liquid droplets.\n",
        "\n",
        "\n",
        "4. RSSI_dbm - This is referred to the signal strength of Wifi\n",
        "\n",
        "5. Temperature - The degree of hotness or coldness measured on a definite scale.\n",
        "\n",
        "6. Humidity - Humidity is the amount of water vapor in the air. If there is a lot of water vapor in the air, the humidity will be high and vice versa\n",
        "\n",
        "7. Uptime - The time during which the sensor is in operation."
      ]
    },
    {
      "cell_type": "markdown",
      "metadata": {
        "id": "YQyiXbtdwae1"
      },
      "source": [
        "The dataset is obtained from the Purpleair sensor in Lagos from 12.2019 until it stopped reporting back in 6/2021"
      ]
    },
    {
      "cell_type": "code",
      "metadata": {
        "id": "kV-oNaM20WRV"
      },
      "source": [
        ""
      ],
      "execution_count": null,
      "outputs": []
    }
  ]
}